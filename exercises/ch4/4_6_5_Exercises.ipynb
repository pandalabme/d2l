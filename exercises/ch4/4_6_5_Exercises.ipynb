{
 "cells": [
  {
   "cell_type": "markdown",
   "id": "7895d768-518c-461e-af6a-45e711418eb7",
   "metadata": {
    "tags": []
   },
   "source": [
    "# 4.6.5 Exercises"
   ]
  },
  {
   "cell_type": "markdown",
   "id": "4cf3fdf0-735d-496a-a790-d62d571a33f5",
   "metadata": {},
   "source": [
    "## 1. If we wish to estimate the error of a fixed model f to within 0.0001 with probability greater than 99.9%, how many samples do we need?"
   ]
  },
  {
   "cell_type": "markdown",
   "id": "7de74249-5848-4bc2-91ad-8f03280d0906",
   "metadata": {},
   "source": [
    "Use Hoeffding's inequality\n",
    "$$P\\left(X_i - \\mathbb{E}[X_i] \\geq \\epsilon \\right) \\leq \\exp\\left(-2n\\epsilon^2\\right)$$\n",
    "We can get the number of samples we need is nearly 350 million."
   ]
  },
  {
   "cell_type": "code",
   "execution_count": 11,
   "id": "b3c13d57-d978-4fc6-9c3e-479cd83eb5fb",
   "metadata": {
    "tags": []
   },
   "outputs": [
    {
     "name": "stdout",
     "output_type": "stream",
     "text": [
      "3.5e+08\n"
     ]
    }
   ],
   "source": [
    "import numpy as np\n",
    "def stat_n(p, t):\n",
    "    return -np.log(1-p)/2/t**2\n",
    "\n",
    "print(f'{stat_n(0.999, 0.0001):.2g}')"
   ]
  },
  {
   "cell_type": "markdown",
   "id": "8698a2d5-cfc7-4da5-bea4-2af90615fc0e",
   "metadata": {},
   "source": [
    "## 2. Suppose that somebody else possesses a labeled test set D and only makes available the unlabeled inputs (features). Now suppose that you can only access the test set labels by running a model f (with no restrictions placed on the model class) on each of the unlabeled inputs and receiving the corresponding error $\\epsilon_D(f)$. How many models would you need to evaluate before you leak the entire test set and thus could appear to have error 0, regardless of your true error?"
   ]
  },
  {
   "cell_type": "markdown",
   "id": "fa4ae2dd-3465-4218-926b-b724ec6f8114",
   "metadata": {},
   "source": [
    "This scenario is related to the concept of overfitting to the test set, which can lead to a phenomenon known as \"test set overfitting\" or \"data leakage.\" Essentially, by repeatedly evaluating a model on the test set and using the test set errors to adjust the model, you risk unintentionally fitting the model to the test set and obtaining misleadingly optimistic results, there isn't a specific number of models that you need to evaluate before you \"leak\" the entire test set and risk overfitting.\n",
    "\n",
    "If you continue evaluating different models on the unlabeled test inputs and using their corresponding test set errors to adjust the models, you can potentially find a model that matches the test set perfectly. However, this does not reflect the true generalization performance of the model to unseen data.\n",
    "\n",
    "In other words, if you keep adjusting and selecting models based on their performance on the test set, you might end up with a model that perfectly fits the test set but performs poorly on new, unseen data. This is a form of overfitting that is specific to the test set and does not reflect the model's ability to generalize to other data."
   ]
  },
  {
   "cell_type": "markdown",
   "id": "e86da6c0-4dd1-4db5-bc3e-e9ecb66f5022",
   "metadata": {},
   "source": [
    "## 3. What is the VC dimension of the class of fifth-order polynomials?"
   ]
  },
  {
   "cell_type": "markdown",
   "id": "fa0a748b-50bb-4606-9e60-09bd2dcf1b52",
   "metadata": {},
   "source": [
    "Using the formula of linear models on d-dimensional inputs have VC dimension **d+1**, we can get the VC dimension of the class of fifth-order polynomials is **6**. This means that you can find six points in the input space that can be shattered by the set of fifth-order polynomials, but it's not possible to shatter any set of seven points. In other words, you can find six points and construct a set of polynomial functions that can perfectly separate any possible labeling of those points, but for any set of seven points, there will be at least one labeling that cannot be achieved by any fifth-order polynomial function."
   ]
  },
  {
   "cell_type": "markdown",
   "id": "ed7109fe-063a-45a4-b420-f59be3624253",
   "metadata": {
    "tags": []
   },
   "source": [
    "## 4. What is the VC dimension of axis-aligned rectangles on two-dimensional data?"
   ]
  },
  {
   "cell_type": "markdown",
   "id": "4042e825-d99c-4e43-8939-bd0ab570d833",
   "metadata": {
    "tags": []
   },
   "source": [
    "The VC (Vapnik-Chervonenkis) dimension of axis-aligned rectangles on two-dimensional data is 4. \n",
    "\n",
    "In the context of classification problems, axis-aligned rectangles are binary classifiers that split the input space into two regions based on the position of a rectangle aligned with the axes. The VC dimension of this hypothesis class represents the maximum number of points in general position that can be shattered by these axis-aligned rectangles.\n",
    "\n",
    "For axis-aligned rectangles in two dimensions, you can find a set of 4 points that can be shattered by this hypothesis class, but any set of 5 points cannot be shattered. This means that you can label a set of 4 points in such a way that you can find an axis-aligned rectangle that perfectly separates them, but for any set of 5 points, there will be at least one labeling that cannot be achieved by any combination of axis-aligned rectangles.\n",
    "\n",
    "reference: https://www.cs.princeton.edu/courses/archive/spring13/cos511/scribe_notes/0221.pdf"
   ]
  }
 ],
 "metadata": {
  "kernelspec": {
   "display_name": "Python [conda env:d2l]",
   "language": "python",
   "name": "conda-env-d2l-py"
  },
  "language_info": {
   "codemirror_mode": {
    "name": "ipython",
    "version": 3
   },
   "file_extension": ".py",
   "mimetype": "text/x-python",
   "name": "python",
   "nbconvert_exporter": "python",
   "pygments_lexer": "ipython3",
   "version": "3.11.4"
  }
 },
 "nbformat": 4,
 "nbformat_minor": 5
}
