{
 "cells": [
  {
   "cell_type": "markdown",
   "id": "7895d768-518c-461e-af6a-45e711418eb7",
   "metadata": {
    "tags": []
   },
   "source": [
    "# 4.6.5 Exercises"
   ]
  },
  {
   "cell_type": "markdown",
   "id": "4cf3fdf0-735d-496a-a790-d62d571a33f5",
   "metadata": {},
   "source": [
    "## 1. If we wish to estimate the error of a fixed model f to within 0.0001 with probability greater than 99.9%, how many samples do we need?"
   ]
  },
  {
   "cell_type": "markdown",
   "id": "7de74249-5848-4bc2-91ad-8f03280d0906",
   "metadata": {},
   "source": [
    "Use Hoeffding's inequality\n",
    "$ P\\left(X_i - \\mathbb{E}[X_i] \\geq \\epsilon \\right) \\leq \\exp\\left(-2n\\epsilon^2\\right) $"
   ]
  },
  {
   "cell_type": "code",
   "execution_count": 7,
   "id": "b3c13d57-d978-4fc6-9c3e-479cd83eb5fb",
   "metadata": {
    "tags": []
   },
   "outputs": [
    {
     "data": {
      "text/plain": [
       "14978.66136776995"
      ]
     },
     "execution_count": 7,
     "metadata": {},
     "output_type": "execute_result"
    }
   ],
   "source": [
    "import numpy as np\n",
    "def stat_n(p, t):\n",
    "    return -np.log(1-p)/2/t**2\n",
    "\n",
    "stat_n(0.95, 0.01)"
   ]
  },
  {
   "cell_type": "markdown",
   "id": "e960ebd1-6050-4dc4-8630-c085232230e4",
   "metadata": {},
   "source": []
  },
  {
   "cell_type": "markdown",
   "id": "8698a2d5-cfc7-4da5-bea4-2af90615fc0e",
   "metadata": {},
   "source": [
    "## 2. Suppose that somebody else possesses a labeled test set D and only makes available the unlabeled inputs (features). Now suppose that you can only access the test set labels by running a model f (with no restrictions placed on the model class) on each of the unlabeled inputs and receiving the corresponding error $\\epsilon_D(f)$. How many models would you need to evaluate before you leak the entire test set and thus could appear to have error 0, regardless of your true error?\n",
    "\n"
   ]
  },
  {
   "cell_type": "markdown",
   "id": "fa4ae2dd-3465-4218-926b-b724ec6f8114",
   "metadata": {},
   "source": []
  },
  {
   "cell_type": "markdown",
   "id": "e86da6c0-4dd1-4db5-bc3e-e9ecb66f5022",
   "metadata": {},
   "source": [
    "## 3. What is the VC dimension of the class of fifth-order polynomials?"
   ]
  },
  {
   "cell_type": "markdown",
   "id": "fa0a748b-50bb-4606-9e60-09bd2dcf1b52",
   "metadata": {},
   "source": []
  },
  {
   "cell_type": "markdown",
   "id": "ed7109fe-063a-45a4-b420-f59be3624253",
   "metadata": {
    "tags": []
   },
   "source": [
    "## 4. What is the VC dimension of axis-aligned rectangles on two-dimensional data?"
   ]
  }
 ],
 "metadata": {
  "kernelspec": {
   "display_name": "Python [conda env:d2l]",
   "language": "python",
   "name": "conda-env-d2l-py"
  },
  "language_info": {
   "codemirror_mode": {
    "name": "ipython",
    "version": 3
   },
   "file_extension": ".py",
   "mimetype": "text/x-python",
   "name": "python",
   "nbconvert_exporter": "python",
   "pygments_lexer": "ipython3",
   "version": "3.11.4"
  }
 },
 "nbformat": 4,
 "nbformat_minor": 5
}
