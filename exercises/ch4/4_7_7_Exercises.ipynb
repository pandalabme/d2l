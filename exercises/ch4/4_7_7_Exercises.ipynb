{
 "cells": [
  {
   "cell_type": "code",
   "execution_count": 24,
   "id": "77bf42ce-506c-4f24-bcef-3f55f8d7190a",
   "metadata": {
    "tags": []
   },
   "outputs": [
    {
     "name": "stdout",
     "output_type": "stream",
     "text": [
      "[NbConvertApp] WARNING | Config option `kernel_spec_manager_class` not recognized by `NbConvertApp`.\n",
      "[NbConvertApp] Converting notebook 4_5_5_Exercises.ipynb to markdown\n",
      "[NbConvertApp] Support files will be in 4_5_5_Exercises_files/\n",
      "[NbConvertApp] Writing 13137 bytes to 4_5_5_Exercises.md\n"
     ]
    }
   ],
   "source": [
    "!jupyter nbconvert --to markdown 4_5_5_Exercises.ipynb"
   ]
  },
  {
   "cell_type": "markdown",
   "id": "7771fa01-13f8-4387-869a-0ed8b9972b6a",
   "metadata": {},
   "source": [
    "# 4.7.7. Exercises"
   ]
  },
  {
   "cell_type": "markdown",
   "id": "2f37df87-5ba9-416e-a076-fdab3ae76c8a",
   "metadata": {},
   "source": [
    "## 1. What could happen when we change the behavior of a search engine? What might the users do? What about the advertisers?"
   ]
  },
  {
   "cell_type": "markdown",
   "id": "33cabb3f-4caa-4f65-a90e-a0243f1fc11d",
   "metadata": {},
   "source": [
    "When the behavior of a search engine changes, several outcomes can occur, impacting both users and advertisers:\n",
    "\n",
    "1. **Users' Reactions:**\n",
    "   - Improved Search Experience: If the changes result in more accurate and relevant search results, users might have a better experience and find the information they're looking for more easily.\n",
    "   - Frustration and Discontent: On the other hand, if the changes lead to less relevant results, users might become frustrated and dissatisfied with the search engine's performance.\n",
    "   - Change in User Habits: Users might change their search behaviors, such as using different search engines or altering their search queries to adapt to the new behavior.\n",
    "\n",
    "2. **Advertisers' Reactions:**\n",
    "   - Changes in Ad Performance: Altering the behavior of the search engine could affect the performance of advertisements. Advertisers might see variations in click-through rates, conversion rates, and overall campaign success.\n",
    "   - Adjustment of Advertising Strategies: Advertisers might need to modify their advertising strategies, keywords, and targeting parameters to align with the new search engine behavior.\n",
    "   - Financial Impact: If the changes lead to decreased ad performance, advertisers might experience reduced return on investment (ROI) and might reconsider their advertising budgets on that platform.\n",
    "\n",
    "3. **Algorithmic Impact:**\n",
    "   - Changes in Ranking: Search engine behavior often revolves around algorithms that determine how content is ranked and displayed. Algorithmic changes could lead to shifting rankings, affecting the visibility of websites and content.\n",
    "   - SEO Practices: Search engine optimization (SEO) strategies might need to be adjusted to match the new algorithms, potentially affecting how websites are optimized for better search engine visibility.\n",
    "\n",
    "4. **Search Engine Market Share:**\n",
    "   - Changes in User Base: Search engine behavior changes could influence user preferences, leading to shifts in market share among search engines. Users might migrate to other search engines if they prefer their new behaviors.\n",
    "\n",
    "5. **Ethical and Legal Considerations:**\n",
    "   - Privacy Concerns: Changes in behavior could impact user privacy and data usage, leading to ethical and legal concerns regarding user data collection and tracking.\n",
    "   - Regulatory Compliance: Changes in behavior might need to comply with data protection and privacy regulations in different regions.\n",
    "\n",
    "Overall, any changes to a search engine's behavior can have far-reaching effects on user satisfaction, user habits, advertiser performance, and even the competitive landscape. Careful consideration and testing are essential before implementing significant changes to ensure a positive impact on both users and advertisers."
   ]
  },
  {
   "cell_type": "markdown",
   "id": "ed780c08-f505-499a-ab64-c74bd9997daa",
   "metadata": {},
   "source": [
    "## 2. Implement a covariate shift detector. Hint: build a classifier."
   ]
  },
  {
   "cell_type": "markdown",
   "id": "f9b3353f-e7ed-4b3a-b861-7e05c8843ed1",
   "metadata": {},
   "source": []
  },
  {
   "cell_type": "code",
   "execution_count": 1,
   "id": "2cd2897b-9260-4497-a52d-bfd2e3fc1bf5",
   "metadata": {
    "tags": []
   },
   "outputs": [],
   "source": [
    "# torch.utils.data.DataLoader??"
   ]
  },
  {
   "cell_type": "code",
   "execution_count": 9,
   "id": "428586c5-d976-4785-9e8b-25e4978069ac",
   "metadata": {
    "tags": []
   },
   "outputs": [
    {
     "data": {
      "text/plain": [
       "torch.Size([256, 28, 28])"
      ]
     },
     "execution_count": 9,
     "metadata": {},
     "output_type": "execute_result"
    }
   ],
   "source": [
    "x,y = next(iter(data.get_dataloader(True)))\n",
    "x.shape"
   ]
  },
  {
   "cell_type": "code",
   "execution_count": 7,
   "id": "5429b10b-3870-48f0-877c-c3d3a24cc0e4",
   "metadata": {
    "tags": []
   },
   "outputs": [],
   "source": [
    "# data = CovarFashionMNIST(batch_size=256)\n",
    "# data.train.shape"
   ]
  },
  {
   "cell_type": "code",
   "execution_count": 9,
   "id": "f6f81c9d-805a-4b65-a9db-8abf1fec5773",
   "metadata": {
    "tags": []
   },
   "outputs": [],
   "source": [
    "# import ipdb\n",
    "# a = d2l.FashionMNIST(batch_size=256)\n",
    "# # a.train.data.shape\n",
    "# ipdb.set_trace()\n",
    "# x,y = next(iter(a.get_dataloader(True)))\n",
    "# x.shape\n",
    "# # b = d2l.SoftmaxRegression(num_outputs=10, lr=0.1)\n",
    "# # c = d2l.Trainer(max_epochs=1)\n",
    "# # c.fit(b, a)"
   ]
  },
  {
   "cell_type": "code",
   "execution_count": 11,
   "id": "71280b68-3a1a-4474-9684-98cd7a50050a",
   "metadata": {
    "tags": []
   },
   "outputs": [
    {
     "data": {
      "text/plain": [
       "tensor([[-4.9534e-02, -7.8165e-02],\n",
       "        [ 2.5880e-01, -1.6800e-01],\n",
       "        [ 1.2044e-01, -4.3826e-01],\n",
       "        [-7.1762e-02,  1.3451e-01],\n",
       "        [-2.3646e-01, -4.8288e-04],\n",
       "        [-2.9058e-01, -4.4118e-01],\n",
       "        [-1.1404e-01, -1.3240e-01],\n",
       "        [ 7.9812e-02,  1.2725e-01],\n",
       "        [ 1.4263e-01, -5.6155e-01],\n",
       "        [ 1.0521e-01, -3.1884e-02],\n",
       "        [-7.6913e-02, -1.7648e-01],\n",
       "        [ 2.3136e-01, -3.6489e-01],\n",
       "        [ 4.5207e-02, -1.3811e-01],\n",
       "        [-2.2375e-02,  4.4877e-02],\n",
       "        [ 1.2072e-01, -2.1501e-01],\n",
       "        [ 3.9161e-02, -8.7715e-02],\n",
       "        [-2.6310e-02, -1.1581e-01],\n",
       "        [ 1.2764e-01,  6.5090e-02],\n",
       "        [-1.5441e-01, -1.5545e-01],\n",
       "        [-1.1818e-01, -1.0280e-01],\n",
       "        [ 1.1385e-01,  1.8537e-02],\n",
       "        [-1.7145e-01, -9.7964e-03],\n",
       "        [ 1.2612e-01, -2.1115e-01],\n",
       "        [ 1.6142e-01, -3.3870e-01],\n",
       "        [-7.6684e-02, -1.9136e-01],\n",
       "        [ 3.0118e-01, -1.1083e-01],\n",
       "        [ 1.7719e-01, -3.9812e-01],\n",
       "        [ 2.9087e-03, -9.4543e-02],\n",
       "        [ 9.1571e-02, -5.3178e-01],\n",
       "        [-6.5040e-03,  1.8084e-02],\n",
       "        [ 1.7552e-02,  8.4608e-02],\n",
       "        [ 1.2137e-01, -2.3079e-01],\n",
       "        [-3.2889e-01, -1.0240e-01],\n",
       "        [-1.1501e-01, -1.3487e-02],\n",
       "        [-1.6431e-02, -3.7430e-02],\n",
       "        [ 7.5069e-02, -2.5569e-01],\n",
       "        [ 2.5670e-02, -1.9018e-01],\n",
       "        [ 1.7530e-01,  2.4332e-02],\n",
       "        [-1.3237e-01, -3.9087e-01],\n",
       "        [-2.4009e-01, -2.6907e-01],\n",
       "        [ 5.9910e-02, -3.9263e-01],\n",
       "        [ 2.0471e-01, -3.4115e-01],\n",
       "        [-1.2739e-01, -5.8185e-02],\n",
       "        [-8.3420e-02, -1.3197e-01],\n",
       "        [ 3.7652e-01, -2.6729e-01],\n",
       "        [-1.5869e-01, -3.8576e-01],\n",
       "        [-7.6306e-02, -1.7871e-01],\n",
       "        [-5.2822e-02,  2.2874e-02],\n",
       "        [ 2.6310e-01, -4.9428e-01],\n",
       "        [ 1.5998e-01, -6.7342e-02],\n",
       "        [-2.0207e-01, -4.1992e-01],\n",
       "        [ 2.1549e-01, -3.2167e-01],\n",
       "        [ 1.8789e-01, -2.5857e-01],\n",
       "        [ 6.9062e-02, -2.8489e-01],\n",
       "        [-8.0635e-03, -2.3393e-01],\n",
       "        [ 1.8051e-01, -3.4076e-01],\n",
       "        [ 1.9992e-01, -1.8519e-01],\n",
       "        [-2.4109e-01, -2.5062e-01],\n",
       "        [ 9.2524e-02, -4.3082e-01],\n",
       "        [-1.4347e-01, -1.3517e-01],\n",
       "        [-7.6878e-02, -3.8604e-02],\n",
       "        [-9.3884e-02, -8.1101e-02],\n",
       "        [-7.6935e-02,  3.4540e-02],\n",
       "        [ 9.5660e-02, -2.7860e-01],\n",
       "        [ 2.0804e-01, -5.3726e-01],\n",
       "        [ 1.0582e-01, -3.7425e-01],\n",
       "        [ 1.1996e-01, -4.6994e-02],\n",
       "        [-1.3002e-01,  1.7477e-01],\n",
       "        [ 3.5054e-01, -1.8833e-01],\n",
       "        [ 2.9231e-02, -2.5926e-01],\n",
       "        [ 1.9627e-01, -2.0946e-01],\n",
       "        [ 1.9546e-01, -3.4754e-01],\n",
       "        [ 3.2733e-02, -4.4807e-01],\n",
       "        [ 5.8038e-03, -5.0092e-02],\n",
       "        [-1.4070e-01,  8.1626e-02],\n",
       "        [-9.6953e-02, -1.5342e-01],\n",
       "        [-1.0351e-01,  1.6262e-01],\n",
       "        [-8.3079e-02, -2.8402e-01],\n",
       "        [ 6.8831e-02, -2.5052e-01],\n",
       "        [ 3.9831e-02,  1.4691e-01],\n",
       "        [ 3.6603e-02, -4.0757e-01],\n",
       "        [-4.3952e-02, -2.4575e-01],\n",
       "        [-2.2268e-01, -2.9503e-01],\n",
       "        [ 2.0635e-01, -4.2268e-01],\n",
       "        [ 1.2626e-01, -2.9491e-01],\n",
       "        [ 5.7212e-02, -3.1374e-01],\n",
       "        [ 2.9602e-01, -1.8167e-01],\n",
       "        [ 1.0371e-01, -2.1669e-02],\n",
       "        [-2.8098e-02, -1.1415e-01],\n",
       "        [ 3.0912e-02, -9.9129e-02],\n",
       "        [ 6.2301e-02, -1.7118e-01],\n",
       "        [-1.0836e-01, -4.2139e-02],\n",
       "        [ 1.2661e-01, -4.6879e-01],\n",
       "        [ 7.3869e-02, -2.4778e-02],\n",
       "        [ 5.0653e-02,  1.8912e-01],\n",
       "        [ 1.5647e-01, -1.6884e-01],\n",
       "        [ 6.2392e-02, -2.1894e-01],\n",
       "        [-4.4784e-02, -1.3127e-01],\n",
       "        [-1.0767e-01, -3.1477e-01],\n",
       "        [ 9.9182e-02, -9.5501e-02],\n",
       "        [ 2.7671e-02, -9.0855e-03],\n",
       "        [-3.2568e-02, -1.1501e-01],\n",
       "        [-9.9480e-02,  1.1099e-02],\n",
       "        [ 1.1040e-01, -3.2316e-01],\n",
       "        [ 1.7332e-01, -3.2355e-01],\n",
       "        [-5.1612e-02,  5.1970e-03],\n",
       "        [-2.0383e-01,  8.9197e-02],\n",
       "        [ 2.2423e-02, -2.6875e-01],\n",
       "        [ 4.9244e-02,  2.6115e-02],\n",
       "        [ 3.0811e-01, -3.8587e-01],\n",
       "        [-1.8162e-01, -2.2703e-01],\n",
       "        [ 1.0991e-01, -1.0011e-01],\n",
       "        [ 1.0836e-01, -1.7997e-01],\n",
       "        [-8.2337e-02, -8.0889e-03],\n",
       "        [-5.0466e-02,  7.0864e-02],\n",
       "        [ 6.8877e-02, -2.9955e-01],\n",
       "        [-7.9091e-02, -2.3334e-01],\n",
       "        [ 4.2558e-01, -2.6095e-01],\n",
       "        [ 3.3122e-01, -1.5111e-01],\n",
       "        [ 9.1315e-02, -4.4678e-01],\n",
       "        [-7.6750e-02, -2.8928e-01],\n",
       "        [ 4.3632e-02, -9.5097e-02],\n",
       "        [-3.8828e-03, -5.6149e-02],\n",
       "        [-1.7260e-02, -1.2640e-01],\n",
       "        [ 1.7676e-01, -4.4925e-01],\n",
       "        [ 2.5103e-01, -2.5656e-01],\n",
       "        [ 1.3278e-01, -1.5104e-01],\n",
       "        [ 1.1850e-01, -1.5582e-01],\n",
       "        [-1.7844e-01, -1.3057e-01],\n",
       "        [-1.0166e-01,  8.6975e-02],\n",
       "        [-6.4740e-02, -1.3545e-01],\n",
       "        [ 1.7997e-01, -2.9420e-01],\n",
       "        [ 1.0678e-01, -3.0482e-01],\n",
       "        [ 2.3573e-02, -3.0514e-01],\n",
       "        [ 1.1514e-01, -5.1390e-01],\n",
       "        [ 9.8511e-02, -2.1823e-01],\n",
       "        [-1.7807e-02, -4.1860e-02],\n",
       "        [ 1.1567e-01, -4.7850e-01],\n",
       "        [ 8.5155e-02,  9.2354e-02],\n",
       "        [ 1.1707e-01, -4.3105e-01],\n",
       "        [ 2.8846e-01, -2.3685e-01],\n",
       "        [ 5.8707e-02, -1.8499e-01],\n",
       "        [ 9.9931e-02, -3.3483e-01],\n",
       "        [ 9.5668e-03,  1.1535e-02],\n",
       "        [ 1.3094e-01, -2.2221e-01],\n",
       "        [ 1.2262e-01, -3.2214e-01],\n",
       "        [ 3.6577e-02, -2.8673e-01],\n",
       "        [ 1.0566e-02, -8.1059e-02],\n",
       "        [-3.0052e-02, -1.5958e-01],\n",
       "        [ 9.5096e-02, -2.9632e-01],\n",
       "        [ 9.6743e-02, -3.1494e-01],\n",
       "        [ 1.6019e-01, -6.5282e-02],\n",
       "        [ 1.5534e-01, -2.8178e-01],\n",
       "        [-1.8500e-01, -1.0339e-01],\n",
       "        [ 1.8518e-01, -1.1687e-01],\n",
       "        [ 2.3209e-01, -3.0489e-01],\n",
       "        [ 9.2373e-02, -2.4792e-01],\n",
       "        [-3.3834e-01, -1.4724e-01],\n",
       "        [-1.0920e-01,  2.9165e-02],\n",
       "        [ 3.4796e-01, -3.4146e-01],\n",
       "        [ 5.5592e-02,  1.7421e-02],\n",
       "        [-1.3170e-01, -3.3263e-01],\n",
       "        [ 1.2464e-01, -3.2593e-01],\n",
       "        [-1.8175e-01, -2.6473e-01],\n",
       "        [-3.3480e-02,  7.8903e-02],\n",
       "        [ 2.0504e-01,  3.6688e-01],\n",
       "        [ 5.7091e-02, -3.7904e-01],\n",
       "        [-3.0737e-03, -1.1803e-01],\n",
       "        [-4.2930e-02, -2.5015e-01],\n",
       "        [-1.0733e-01, -7.7119e-02],\n",
       "        [ 3.0984e-02, -2.5057e-01],\n",
       "        [-9.0243e-02, -7.4661e-02],\n",
       "        [ 3.3981e-04, -3.6695e-02],\n",
       "        [-1.1282e-01, -2.7293e-01],\n",
       "        [ 1.2453e-01, -2.8333e-01],\n",
       "        [-1.6502e-01, -1.8808e-01],\n",
       "        [-1.2985e-01, -2.7187e-01],\n",
       "        [ 1.0592e-01,  1.1150e-01],\n",
       "        [ 8.0157e-02, -1.8765e-01],\n",
       "        [ 1.1543e-01, -8.1573e-02],\n",
       "        [ 2.6780e-01, -2.1688e-01],\n",
       "        [ 2.1631e-01, -1.2142e-01],\n",
       "        [-7.4153e-02, -1.0679e-01],\n",
       "        [ 3.3536e-02,  1.5241e-01],\n",
       "        [ 2.1429e-01, -1.3409e-01],\n",
       "        [-2.0166e-01, -1.7879e-01],\n",
       "        [ 3.4424e-01, -2.1707e-01],\n",
       "        [-1.9208e-01, -7.3688e-04],\n",
       "        [-8.7474e-02, -2.4480e-01],\n",
       "        [ 8.8058e-02, -2.8668e-01],\n",
       "        [ 7.9432e-02, -1.2258e-01],\n",
       "        [ 4.8309e-02, -2.4672e-01],\n",
       "        [ 1.2977e-01, -6.7244e-02],\n",
       "        [-5.6306e-03,  2.5448e-02],\n",
       "        [ 2.5622e-01, -5.8996e-02],\n",
       "        [ 2.1190e-02, -3.7275e-01],\n",
       "        [-1.2171e-02, -1.2923e-01],\n",
       "        [-1.1660e-01,  4.1293e-02],\n",
       "        [ 1.7441e-01, -2.2724e-01],\n",
       "        [-1.0259e-01,  4.6669e-03],\n",
       "        [-1.5014e-01, -3.3405e-01],\n",
       "        [ 2.1487e-01, -5.0089e-01],\n",
       "        [-5.1601e-02, -1.7110e-01],\n",
       "        [ 1.5712e-01, -3.7878e-01],\n",
       "        [ 6.4935e-02, -8.2757e-02],\n",
       "        [ 9.6188e-02,  8.6290e-02],\n",
       "        [-3.1663e-01, -2.5549e-01],\n",
       "        [ 2.0278e-02, -2.3836e-01],\n",
       "        [ 2.4892e-01, -3.5420e-01],\n",
       "        [ 2.3441e-01, -2.6125e-01],\n",
       "        [-3.0026e-02,  2.1636e-02],\n",
       "        [ 1.4109e-01, -1.8689e-01],\n",
       "        [ 1.0672e-01, -2.9008e-01],\n",
       "        [ 2.4318e-01, -4.0588e-01],\n",
       "        [ 1.3795e-02, -3.5871e-02],\n",
       "        [ 8.6080e-02, -8.2535e-02],\n",
       "        [ 2.6320e-01, -5.1040e-01],\n",
       "        [ 1.9663e-01,  5.5034e-04],\n",
       "        [-1.8070e-01, -2.9873e-01],\n",
       "        [ 4.5686e-02,  1.8837e-02],\n",
       "        [-1.8145e-01,  1.8673e-02],\n",
       "        [ 8.8799e-02, -2.5718e-01],\n",
       "        [-8.1524e-02, -3.5498e-01],\n",
       "        [ 2.1423e-01, -2.1654e-01],\n",
       "        [ 1.4939e-02, -5.9907e-02],\n",
       "        [ 4.1039e-01, -1.9623e-01],\n",
       "        [ 9.9039e-02, -9.2526e-02],\n",
       "        [ 6.2656e-02, -1.2302e-01],\n",
       "        [ 1.1896e-01, -5.5430e-02],\n",
       "        [ 7.1747e-02, -2.6106e-01],\n",
       "        [-2.7431e-01,  9.6998e-02],\n",
       "        [ 3.5248e-01, -1.3996e-01],\n",
       "        [-8.3126e-02,  2.2646e-02],\n",
       "        [-1.2622e-01, -3.3706e-02],\n",
       "        [-1.8778e-01, -3.8015e-01],\n",
       "        [-7.3673e-02, -5.8775e-02],\n",
       "        [ 3.3784e-02, -3.7729e-01],\n",
       "        [ 4.6130e-02, -1.9084e-01],\n",
       "        [ 8.1341e-02, -2.4909e-01],\n",
       "        [ 6.1485e-02, -2.6853e-01],\n",
       "        [ 1.2381e-01, -2.0477e-01],\n",
       "        [ 2.9108e-02, -4.0704e-01],\n",
       "        [ 2.8204e-01, -3.7012e-01],\n",
       "        [ 2.4130e-01, -4.3231e-01],\n",
       "        [ 8.5425e-02, -1.2333e-01],\n",
       "        [ 1.9487e-02, -1.8575e-01],\n",
       "        [-1.6618e-01, -2.0778e-01],\n",
       "        [ 6.6727e-02, -3.6523e-01],\n",
       "        [ 6.1193e-02, -2.5511e-01],\n",
       "        [ 7.1829e-02, -4.0280e-02],\n",
       "        [-9.9868e-02, -2.2387e-01],\n",
       "        [ 1.7799e-01, -2.5302e-01],\n",
       "        [ 4.7241e-02, -3.5160e-01],\n",
       "        [ 1.1548e-01, -5.0762e-01],\n",
       "        [ 1.2436e-01, -1.2518e-01],\n",
       "        [-2.0619e-01, -5.1356e-01]], grad_fn=<AddmmBackward0>)"
      ]
     },
     "execution_count": 11,
     "metadata": {},
     "output_type": "execute_result"
    }
   ],
   "source": [
    "model.net(x)"
   ]
  },
  {
   "cell_type": "code",
   "execution_count": 8,
   "id": "ddbf5de7-73e8-4de1-9a6b-b8c34008f5d4",
   "metadata": {
    "tags": []
   },
   "outputs": [
    {
     "name": "stdout",
     "output_type": "stream",
     "text": [
      "torch.Size([256, 28, 28])\n"
     ]
    },
    {
     "ename": "RuntimeError",
     "evalue": "mat1 and mat2 must have the same dtype",
     "output_type": "error",
     "traceback": [
      "\u001b[0;31m---------------------------------------------------------------------------\u001b[0m",
      "\u001b[0;31mRuntimeError\u001b[0m                              Traceback (most recent call last)",
      "Cell \u001b[0;32mIn[8], line 45\u001b[0m\n\u001b[1;32m     43\u001b[0m model \u001b[38;5;241m=\u001b[39m d2l\u001b[38;5;241m.\u001b[39mSoftmaxRegression(num_outputs\u001b[38;5;241m=\u001b[39m\u001b[38;5;241m2\u001b[39m, lr\u001b[38;5;241m=\u001b[39m\u001b[38;5;241m0.1\u001b[39m)\n\u001b[1;32m     44\u001b[0m trainer \u001b[38;5;241m=\u001b[39m d2l\u001b[38;5;241m.\u001b[39mTrainer(max_epochs\u001b[38;5;241m=\u001b[39m\u001b[38;5;241m10\u001b[39m)\n\u001b[0;32m---> 45\u001b[0m \u001b[43mtrainer\u001b[49m\u001b[38;5;241;43m.\u001b[39;49m\u001b[43mfit\u001b[49m\u001b[43m(\u001b[49m\u001b[43mmodel\u001b[49m\u001b[43m,\u001b[49m\u001b[43m \u001b[49m\u001b[43mdata\u001b[49m\u001b[43m)\u001b[49m\n",
      "File \u001b[0;32m~/work/d2l_solutions/notebooks/exercises/d2l_utils/d2l.py:199\u001b[0m, in \u001b[0;36mTrainer.fit\u001b[0;34m(self, model, data)\u001b[0m\n\u001b[1;32m    197\u001b[0m \u001b[38;5;28mself\u001b[39m\u001b[38;5;241m.\u001b[39mval_batch_idx \u001b[38;5;241m=\u001b[39m \u001b[38;5;241m0\u001b[39m\n\u001b[1;32m    198\u001b[0m \u001b[38;5;28;01mfor\u001b[39;00m i \u001b[38;5;129;01min\u001b[39;00m \u001b[38;5;28mrange\u001b[39m(\u001b[38;5;28mself\u001b[39m\u001b[38;5;241m.\u001b[39mmax_epochs):\n\u001b[0;32m--> 199\u001b[0m     train_loss, valid_loss \u001b[38;5;241m=\u001b[39m \u001b[38;5;28;43mself\u001b[39;49m\u001b[38;5;241;43m.\u001b[39;49m\u001b[43mfit_epoch\u001b[49m\u001b[43m(\u001b[49m\u001b[43m)\u001b[49m\n\u001b[1;32m    200\u001b[0m     \u001b[38;5;28mself\u001b[39m\u001b[38;5;241m.\u001b[39mepoch \u001b[38;5;241m+\u001b[39m\u001b[38;5;241m=\u001b[39m \u001b[38;5;241m1\u001b[39m\n\u001b[1;32m    201\u001b[0m \u001b[38;5;28;01mreturn\u001b[39;00m train_loss, valid_loss\n",
      "File \u001b[0;32m~/work/d2l_solutions/notebooks/exercises/d2l_utils/d2l.py:215\u001b[0m, in \u001b[0;36mTrainer.fit_epoch\u001b[0;34m(self)\u001b[0m\n\u001b[1;32m    211\u001b[0m train_loss, valid_loss \u001b[38;5;241m=\u001b[39m \u001b[38;5;241m0\u001b[39m, \u001b[38;5;241m0\u001b[39m\n\u001b[1;32m    212\u001b[0m \u001b[38;5;28;01mfor\u001b[39;00m batch \u001b[38;5;129;01min\u001b[39;00m \u001b[38;5;28mself\u001b[39m\u001b[38;5;241m.\u001b[39mtrain_dataloader:\n\u001b[1;32m    213\u001b[0m     \u001b[38;5;66;03m# if len(batch[0]) != 32:\u001b[39;00m\n\u001b[1;32m    214\u001b[0m     \u001b[38;5;66;03m#     print(len(batch[0]))\u001b[39;00m\n\u001b[0;32m--> 215\u001b[0m     loss \u001b[38;5;241m=\u001b[39m \u001b[38;5;28;43mself\u001b[39;49m\u001b[38;5;241;43m.\u001b[39;49m\u001b[43mmodel\u001b[49m\u001b[38;5;241;43m.\u001b[39;49m\u001b[43mtraining_step\u001b[49m\u001b[43m(\u001b[49m\u001b[38;5;28;43mself\u001b[39;49m\u001b[38;5;241;43m.\u001b[39;49m\u001b[43mprepare_batch\u001b[49m\u001b[43m(\u001b[49m\u001b[43mbatch\u001b[49m\u001b[43m)\u001b[49m\u001b[43m,\u001b[49m\n\u001b[1;32m    216\u001b[0m \u001b[43m                                    \u001b[49m\u001b[43mplot_flag\u001b[49m\u001b[38;5;241;43m=\u001b[39;49m\u001b[38;5;28;43mself\u001b[39;49m\u001b[38;5;241;43m.\u001b[39;49m\u001b[43mplot_flag\u001b[49m\u001b[43m)\u001b[49m\n\u001b[1;32m    217\u001b[0m     \u001b[38;5;66;03m# print(f'step train loss:{loss}, T:{self.model.T}')\u001b[39;00m\n\u001b[1;32m    218\u001b[0m     \u001b[38;5;28mself\u001b[39m\u001b[38;5;241m.\u001b[39moptim\u001b[38;5;241m.\u001b[39mzero_grad()\n",
      "File \u001b[0;32m~/work/d2l_solutions/notebooks/exercises/d2l_utils/d2l.py:304\u001b[0m, in \u001b[0;36mClassifier.training_step\u001b[0;34m(self, batch, plot_flag)\u001b[0m\n\u001b[1;32m    303\u001b[0m \u001b[38;5;28;01mdef\u001b[39;00m \u001b[38;5;21mtraining_step\u001b[39m(\u001b[38;5;28mself\u001b[39m, batch, plot_flag\u001b[38;5;241m=\u001b[39m\u001b[38;5;28;01mTrue\u001b[39;00m):\n\u001b[0;32m--> 304\u001b[0m     y_hat \u001b[38;5;241m=\u001b[39m \u001b[38;5;28;43mself\u001b[39;49m\u001b[43m(\u001b[49m\u001b[38;5;241;43m*\u001b[39;49m\u001b[43mbatch\u001b[49m\u001b[43m[\u001b[49m\u001b[43m:\u001b[49m\u001b[38;5;241;43m-\u001b[39;49m\u001b[38;5;241;43m1\u001b[39;49m\u001b[43m]\u001b[49m\u001b[43m)\u001b[49m\n\u001b[1;32m    305\u001b[0m     \u001b[38;5;28;01mif\u001b[39;00m plot_flag:\n\u001b[1;32m    306\u001b[0m         \u001b[38;5;28mself\u001b[39m\u001b[38;5;241m.\u001b[39mplot(\u001b[38;5;124m'\u001b[39m\u001b[38;5;124mloss\u001b[39m\u001b[38;5;124m'\u001b[39m, \u001b[38;5;28mself\u001b[39m\u001b[38;5;241m.\u001b[39mloss(y_hat, batch[\u001b[38;5;241m-\u001b[39m\u001b[38;5;241m1\u001b[39m]), train\u001b[38;5;241m=\u001b[39m\u001b[38;5;28;01mTrue\u001b[39;00m)\n",
      "File \u001b[0;32m~/.local/lib/python3.11/site-packages/torch/nn/modules/module.py:1501\u001b[0m, in \u001b[0;36mModule._call_impl\u001b[0;34m(self, *args, **kwargs)\u001b[0m\n\u001b[1;32m   1496\u001b[0m \u001b[38;5;66;03m# If we don't have any hooks, we want to skip the rest of the logic in\u001b[39;00m\n\u001b[1;32m   1497\u001b[0m \u001b[38;5;66;03m# this function, and just call forward.\u001b[39;00m\n\u001b[1;32m   1498\u001b[0m \u001b[38;5;28;01mif\u001b[39;00m \u001b[38;5;129;01mnot\u001b[39;00m (\u001b[38;5;28mself\u001b[39m\u001b[38;5;241m.\u001b[39m_backward_hooks \u001b[38;5;129;01mor\u001b[39;00m \u001b[38;5;28mself\u001b[39m\u001b[38;5;241m.\u001b[39m_backward_pre_hooks \u001b[38;5;129;01mor\u001b[39;00m \u001b[38;5;28mself\u001b[39m\u001b[38;5;241m.\u001b[39m_forward_hooks \u001b[38;5;129;01mor\u001b[39;00m \u001b[38;5;28mself\u001b[39m\u001b[38;5;241m.\u001b[39m_forward_pre_hooks\n\u001b[1;32m   1499\u001b[0m         \u001b[38;5;129;01mor\u001b[39;00m _global_backward_pre_hooks \u001b[38;5;129;01mor\u001b[39;00m _global_backward_hooks\n\u001b[1;32m   1500\u001b[0m         \u001b[38;5;129;01mor\u001b[39;00m _global_forward_hooks \u001b[38;5;129;01mor\u001b[39;00m _global_forward_pre_hooks):\n\u001b[0;32m-> 1501\u001b[0m     \u001b[38;5;28;01mreturn\u001b[39;00m \u001b[43mforward_call\u001b[49m\u001b[43m(\u001b[49m\u001b[38;5;241;43m*\u001b[39;49m\u001b[43margs\u001b[49m\u001b[43m,\u001b[49m\u001b[43m \u001b[49m\u001b[38;5;241;43m*\u001b[39;49m\u001b[38;5;241;43m*\u001b[39;49m\u001b[43mkwargs\u001b[49m\u001b[43m)\u001b[49m\n\u001b[1;32m   1502\u001b[0m \u001b[38;5;66;03m# Do not call functions when jit is used\u001b[39;00m\n\u001b[1;32m   1503\u001b[0m full_backward_hooks, non_full_backward_hooks \u001b[38;5;241m=\u001b[39m [], []\n",
      "File \u001b[0;32m~/work/d2l_solutions/notebooks/exercises/d2l_utils/d2l.py:368\u001b[0m, in \u001b[0;36mSoftmaxRegression.forward\u001b[0;34m(self, X)\u001b[0m\n\u001b[1;32m    366\u001b[0m \u001b[38;5;28;01mdef\u001b[39;00m \u001b[38;5;21mforward\u001b[39m(\u001b[38;5;28mself\u001b[39m, X):\n\u001b[1;32m    367\u001b[0m     \u001b[38;5;28mprint\u001b[39m(X\u001b[38;5;241m.\u001b[39mshape)\n\u001b[0;32m--> 368\u001b[0m     \u001b[38;5;28;01mreturn\u001b[39;00m \u001b[38;5;28;43mself\u001b[39;49m\u001b[38;5;241;43m.\u001b[39;49m\u001b[43mnet\u001b[49m\u001b[43m(\u001b[49m\u001b[43mX\u001b[49m\u001b[43m)\u001b[49m\n",
      "File \u001b[0;32m~/.local/lib/python3.11/site-packages/torch/nn/modules/module.py:1501\u001b[0m, in \u001b[0;36mModule._call_impl\u001b[0;34m(self, *args, **kwargs)\u001b[0m\n\u001b[1;32m   1496\u001b[0m \u001b[38;5;66;03m# If we don't have any hooks, we want to skip the rest of the logic in\u001b[39;00m\n\u001b[1;32m   1497\u001b[0m \u001b[38;5;66;03m# this function, and just call forward.\u001b[39;00m\n\u001b[1;32m   1498\u001b[0m \u001b[38;5;28;01mif\u001b[39;00m \u001b[38;5;129;01mnot\u001b[39;00m (\u001b[38;5;28mself\u001b[39m\u001b[38;5;241m.\u001b[39m_backward_hooks \u001b[38;5;129;01mor\u001b[39;00m \u001b[38;5;28mself\u001b[39m\u001b[38;5;241m.\u001b[39m_backward_pre_hooks \u001b[38;5;129;01mor\u001b[39;00m \u001b[38;5;28mself\u001b[39m\u001b[38;5;241m.\u001b[39m_forward_hooks \u001b[38;5;129;01mor\u001b[39;00m \u001b[38;5;28mself\u001b[39m\u001b[38;5;241m.\u001b[39m_forward_pre_hooks\n\u001b[1;32m   1499\u001b[0m         \u001b[38;5;129;01mor\u001b[39;00m _global_backward_pre_hooks \u001b[38;5;129;01mor\u001b[39;00m _global_backward_hooks\n\u001b[1;32m   1500\u001b[0m         \u001b[38;5;129;01mor\u001b[39;00m _global_forward_hooks \u001b[38;5;129;01mor\u001b[39;00m _global_forward_pre_hooks):\n\u001b[0;32m-> 1501\u001b[0m     \u001b[38;5;28;01mreturn\u001b[39;00m \u001b[43mforward_call\u001b[49m\u001b[43m(\u001b[49m\u001b[38;5;241;43m*\u001b[39;49m\u001b[43margs\u001b[49m\u001b[43m,\u001b[49m\u001b[43m \u001b[49m\u001b[38;5;241;43m*\u001b[39;49m\u001b[38;5;241;43m*\u001b[39;49m\u001b[43mkwargs\u001b[49m\u001b[43m)\u001b[49m\n\u001b[1;32m   1502\u001b[0m \u001b[38;5;66;03m# Do not call functions when jit is used\u001b[39;00m\n\u001b[1;32m   1503\u001b[0m full_backward_hooks, non_full_backward_hooks \u001b[38;5;241m=\u001b[39m [], []\n",
      "File \u001b[0;32m~/.local/lib/python3.11/site-packages/torch/nn/modules/container.py:217\u001b[0m, in \u001b[0;36mSequential.forward\u001b[0;34m(self, input)\u001b[0m\n\u001b[1;32m    215\u001b[0m \u001b[38;5;28;01mdef\u001b[39;00m \u001b[38;5;21mforward\u001b[39m(\u001b[38;5;28mself\u001b[39m, \u001b[38;5;28minput\u001b[39m):\n\u001b[1;32m    216\u001b[0m     \u001b[38;5;28;01mfor\u001b[39;00m module \u001b[38;5;129;01min\u001b[39;00m \u001b[38;5;28mself\u001b[39m:\n\u001b[0;32m--> 217\u001b[0m         \u001b[38;5;28minput\u001b[39m \u001b[38;5;241m=\u001b[39m \u001b[43mmodule\u001b[49m\u001b[43m(\u001b[49m\u001b[38;5;28;43minput\u001b[39;49m\u001b[43m)\u001b[49m\n\u001b[1;32m    218\u001b[0m     \u001b[38;5;28;01mreturn\u001b[39;00m \u001b[38;5;28minput\u001b[39m\n",
      "File \u001b[0;32m~/.local/lib/python3.11/site-packages/torch/nn/modules/module.py:1538\u001b[0m, in \u001b[0;36mModule._call_impl\u001b[0;34m(self, *args, **kwargs)\u001b[0m\n\u001b[1;32m   1535\u001b[0m     bw_hook \u001b[38;5;241m=\u001b[39m hooks\u001b[38;5;241m.\u001b[39mBackwardHook(\u001b[38;5;28mself\u001b[39m, full_backward_hooks, backward_pre_hooks)\n\u001b[1;32m   1536\u001b[0m     args \u001b[38;5;241m=\u001b[39m bw_hook\u001b[38;5;241m.\u001b[39msetup_input_hook(args)\n\u001b[0;32m-> 1538\u001b[0m result \u001b[38;5;241m=\u001b[39m \u001b[43mforward_call\u001b[49m\u001b[43m(\u001b[49m\u001b[38;5;241;43m*\u001b[39;49m\u001b[43margs\u001b[49m\u001b[43m,\u001b[49m\u001b[43m \u001b[49m\u001b[38;5;241;43m*\u001b[39;49m\u001b[38;5;241;43m*\u001b[39;49m\u001b[43mkwargs\u001b[49m\u001b[43m)\u001b[49m\n\u001b[1;32m   1539\u001b[0m \u001b[38;5;28;01mif\u001b[39;00m _global_forward_hooks \u001b[38;5;129;01mor\u001b[39;00m \u001b[38;5;28mself\u001b[39m\u001b[38;5;241m.\u001b[39m_forward_hooks:\n\u001b[1;32m   1540\u001b[0m     \u001b[38;5;28;01mfor\u001b[39;00m hook_id, hook \u001b[38;5;129;01min\u001b[39;00m (\n\u001b[1;32m   1541\u001b[0m         \u001b[38;5;241m*\u001b[39m_global_forward_hooks\u001b[38;5;241m.\u001b[39mitems(),\n\u001b[1;32m   1542\u001b[0m         \u001b[38;5;241m*\u001b[39m\u001b[38;5;28mself\u001b[39m\u001b[38;5;241m.\u001b[39m_forward_hooks\u001b[38;5;241m.\u001b[39mitems(),\n\u001b[1;32m   1543\u001b[0m     ):\n",
      "File \u001b[0;32m~/.local/lib/python3.11/site-packages/torch/nn/modules/linear.py:114\u001b[0m, in \u001b[0;36mLinear.forward\u001b[0;34m(self, input)\u001b[0m\n\u001b[1;32m    113\u001b[0m \u001b[38;5;28;01mdef\u001b[39;00m \u001b[38;5;21mforward\u001b[39m(\u001b[38;5;28mself\u001b[39m, \u001b[38;5;28minput\u001b[39m: Tensor) \u001b[38;5;241m-\u001b[39m\u001b[38;5;241m>\u001b[39m Tensor:\n\u001b[0;32m--> 114\u001b[0m     \u001b[38;5;28;01mreturn\u001b[39;00m \u001b[43mF\u001b[49m\u001b[38;5;241;43m.\u001b[39;49m\u001b[43mlinear\u001b[49m\u001b[43m(\u001b[49m\u001b[38;5;28;43minput\u001b[39;49m\u001b[43m,\u001b[49m\u001b[43m \u001b[49m\u001b[38;5;28;43mself\u001b[39;49m\u001b[38;5;241;43m.\u001b[39;49m\u001b[43mweight\u001b[49m\u001b[43m,\u001b[49m\u001b[43m \u001b[49m\u001b[38;5;28;43mself\u001b[39;49m\u001b[38;5;241;43m.\u001b[39;49m\u001b[43mbias\u001b[49m\u001b[43m)\u001b[49m\n",
      "\u001b[0;31mRuntimeError\u001b[0m: mat1 and mat2 must have the same dtype"
     ]
    }
   ],
   "source": [
    "import numpy as np\n",
    "import torch\n",
    "import torchvision\n",
    "from torchvision import transforms\n",
    "import sys\n",
    "sys.path.append('/home/jovyan/work/d2l_solutions/notebooks/exercises/d2l_utils/')\n",
    "import d2l\n",
    "\n",
    "\n",
    "class CovarFashionMNIST(d2l.DataModule):\n",
    "    def __init__(self, batch_size=64, resize=(28, 28)):\n",
    "        super().__init__()\n",
    "        self.save_hyperparameters()\n",
    "        trans = transforms.Compose([transforms.Resize(resize),\n",
    "                                    transforms.ToTensor()])\n",
    "        train = torchvision.datasets.FashionMNIST(\n",
    "            root=self.root, train=True, transform=trans, download=True)\n",
    "        val = torchvision.datasets.FashionMNIST(\n",
    "            root=self.root, train=False, transform=trans, download=True)\n",
    "        num_rows_to_select = val.data.shape[0]//2\n",
    "        # 从数组中随机选择行\n",
    "        random_rows_indices = torch.randperm(train.data.size(0))\n",
    "        train_X = torch.cat(\n",
    "            (train.data[random_rows_indices[:num_rows_to_select]],\n",
    "             val.data[:num_rows_to_select]), dim=0)#.unsqueeze(dim=1)\n",
    "        train_y = torch.cat((torch.ones(num_rows_to_select),\n",
    "                             torch.zeros(num_rows_to_select)), dim=0)\n",
    "        val_X = torch.cat((train.data[\n",
    "            random_rows_indices[num_rows_to_select:2*num_rows_to_select]],\n",
    "            val.data[num_rows_to_select:2*num_rows_to_select]),\n",
    "                          dim=0)#.unsqueeze(dim=1)\n",
    "        val_y = torch.cat((torch.ones(num_rows_to_select),\n",
    "                           torch.zeros(num_rows_to_select)), dim=0)\n",
    "        self.train = torch.utils.data.TensorDataset(train_X, train_y)\n",
    "        self.val = torch.utils.data.TensorDataset(val_X, val_y)\n",
    "        \n",
    "    def get_dataloader(self, train):\n",
    "        data = self.train if train else self.val\n",
    "        return torch.utils.data.DataLoader(data, self.batch_size, shuffle=train\n",
    "                                           , num_workers=self.num_workers)\n",
    "        \n",
    "data = CovarFashionMNIST(batch_size=256)\n",
    "model = d2l.SoftmaxRegression(num_outputs=2, lr=0.1)\n",
    "trainer = d2l.Trainer(max_epochs=10)\n",
    "trainer.fit(model, data)"
   ]
  },
  {
   "cell_type": "markdown",
   "id": "57330a3f-a0df-430c-9a94-f73fc487b073",
   "metadata": {},
   "source": [
    "## 3. Implement a covariate shift corrector."
   ]
  },
  {
   "cell_type": "markdown",
   "id": "9c07122f-4fc7-4af6-a879-092d8566e05a",
   "metadata": {},
   "source": []
  },
  {
   "cell_type": "markdown",
   "id": "718c94d2-d8d1-48a8-8929-e2e10ca04b31",
   "metadata": {},
   "source": [
    "## 4. Besides distribution shift, what else could affect how the empirical risk approximates the risk?"
   ]
  }
 ],
 "metadata": {
  "kernelspec": {
   "display_name": "Python [conda env:d2l]",
   "language": "python",
   "name": "conda-env-d2l-py"
  },
  "language_info": {
   "codemirror_mode": {
    "name": "ipython",
    "version": 3
   },
   "file_extension": ".py",
   "mimetype": "text/x-python",
   "name": "python",
   "nbconvert_exporter": "python",
   "pygments_lexer": "ipython3",
   "version": "3.11.4"
  }
 },
 "nbformat": 4,
 "nbformat_minor": 5
}
