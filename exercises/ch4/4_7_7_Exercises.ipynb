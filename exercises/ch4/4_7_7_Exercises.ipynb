{
 "cells": [
  {
   "cell_type": "markdown",
   "id": "7771fa01-13f8-4387-869a-0ed8b9972b6a",
   "metadata": {},
   "source": [
    "# 4.7.7. Exercises"
   ]
  },
  {
   "cell_type": "markdown",
   "id": "2f37df87-5ba9-416e-a076-fdab3ae76c8a",
   "metadata": {},
   "source": [
    "## 1. What could happen when we change the behavior of a search engine? What might the users do? What about the advertisers?"
   ]
  },
  {
   "cell_type": "markdown",
   "id": "33cabb3f-4caa-4f65-a90e-a0243f1fc11d",
   "metadata": {},
   "source": [
    "When the behavior of a search engine changes, several outcomes can occur, impacting both users and advertisers:\n",
    "\n",
    "1. **Users' Reactions:**\n",
    "   - Improved Search Experience: If the changes result in more accurate and relevant search results, users might have a better experience and find the information they're looking for more easily.\n",
    "   - Frustration and Discontent: On the other hand, if the changes lead to less relevant results, users might become frustrated and dissatisfied with the search engine's performance.\n",
    "   - Change in User Habits: Users might change their search behaviors, such as using different search engines or altering their search queries to adapt to the new behavior.\n",
    "\n",
    "2. **Advertisers' Reactions:**\n",
    "   - Changes in Ad Performance: Altering the behavior of the search engine could affect the performance of advertisements. Advertisers might see variations in click-through rates, conversion rates, and overall campaign success.\n",
    "   - Adjustment of Advertising Strategies: Advertisers might need to modify their advertising strategies, keywords, and targeting parameters to align with the new search engine behavior.\n",
    "   - Financial Impact: If the changes lead to decreased ad performance, advertisers might experience reduced return on investment (ROI) and might reconsider their advertising budgets on that platform.\n",
    "\n",
    "3. **Algorithmic Impact:**\n",
    "   - Changes in Ranking: Search engine behavior often revolves around algorithms that determine how content is ranked and displayed. Algorithmic changes could lead to shifting rankings, affecting the visibility of websites and content.\n",
    "   - SEO Practices: Search engine optimization (SEO) strategies might need to be adjusted to match the new algorithms, potentially affecting how websites are optimized for better search engine visibility.\n",
    "\n",
    "4. **Search Engine Market Share:**\n",
    "   - Changes in User Base: Search engine behavior changes could influence user preferences, leading to shifts in market share among search engines. Users might migrate to other search engines if they prefer their new behaviors.\n",
    "\n",
    "5. **Ethical and Legal Considerations:**\n",
    "   - Privacy Concerns: Changes in behavior could impact user privacy and data usage, leading to ethical and legal concerns regarding user data collection and tracking.\n",
    "   - Regulatory Compliance: Changes in behavior might need to comply with data protection and privacy regulations in different regions.\n",
    "\n",
    "Overall, any changes to a search engine's behavior can have far-reaching effects on user satisfaction, user habits, advertiser performance, and even the competitive landscape. Careful consideration and testing are essential before implementing significant changes to ensure a positive impact on both users and advertisers."
   ]
  },
  {
   "cell_type": "markdown",
   "id": "ed780c08-f505-499a-ab64-c74bd9997daa",
   "metadata": {},
   "source": [
    "## 2. Implement a covariate shift detector. Hint: build a classifier."
   ]
  },
  {
   "cell_type": "markdown",
   "id": "f9b3353f-e7ed-4b3a-b861-7e05c8843ed1",
   "metadata": {},
   "source": []
  },
  {
   "cell_type": "code",
   "execution_count": null,
   "id": "f14018e5-3651-4400-bb6f-e3c541efd1a2",
   "metadata": {},
   "outputs": [],
   "source": [
    "!pip install skla"
   ]
  },
  {
   "cell_type": "code",
   "execution_count": 14,
   "id": "1fe45aa3-734a-4403-a1cd-583eb3e08e7b",
   "metadata": {
    "tags": []
   },
   "outputs": [
    {
     "data": {
      "text/plain": [
       "((60000, 28, 28), (60000,))"
      ]
     },
     "execution_count": 14,
     "metadata": {},
     "output_type": "execute_result"
    }
   ],
   "source": [
    "data.train.data.numpy().shape,data.train.targets.numpy().shape"
   ]
  },
  {
   "cell_type": "code",
   "execution_count": 2,
   "id": "ddbf5de7-73e8-4de1-9a6b-b8c34008f5d4",
   "metadata": {
    "tags": []
   },
   "outputs": [
    {
     "ename": "AttributeError",
     "evalue": "'FashionMNIST' object has no attribute 'y'",
     "output_type": "error",
     "traceback": [
      "\u001b[0;31m---------------------------------------------------------------------------\u001b[0m",
      "\u001b[0;31mAttributeError\u001b[0m                            Traceback (most recent call last)",
      "Cell \u001b[0;32mIn[2], line 11\u001b[0m\n\u001b[1;32m      5\u001b[0m \u001b[38;5;66;03m# class CovarFashionMNIST(d2l.DataModule):\u001b[39;00m\n\u001b[1;32m      6\u001b[0m \u001b[38;5;66;03m#     def __init__(self, batch_size=64, resize=(28, 28)):\u001b[39;00m\n\u001b[1;32m      7\u001b[0m \u001b[38;5;66;03m#         super().__init__()\u001b[39;00m\n\u001b[1;32m      8\u001b[0m \u001b[38;5;66;03m#         self.save_hyperparameters()\u001b[39;00m\n\u001b[1;32m     10\u001b[0m data \u001b[38;5;241m=\u001b[39m d2l\u001b[38;5;241m.\u001b[39mFashionMNIST(batch_size\u001b[38;5;241m=\u001b[39m\u001b[38;5;241m256\u001b[39m)\n\u001b[0;32m---> 11\u001b[0m \u001b[43mdata\u001b[49m\u001b[38;5;241;43m.\u001b[39;49m\u001b[43mtrain\u001b[49m\u001b[38;5;241;43m.\u001b[39;49m\u001b[43my\u001b[49m\n",
      "\u001b[0;31mAttributeError\u001b[0m: 'FashionMNIST' object has no attribute 'y'"
     ]
    }
   ],
   "source": [
    "import sys\n",
    "sys.path.append('/home/jovyan/work/d2l_solutions/notebooks/exercises/d2l_utils/')\n",
    "import d2l\n",
    "\n",
    "# class CovarFashionMNIST(d2l.DataModule):\n",
    "#     def __init__(self, batch_size=64, resize=(28, 28)):\n",
    "#         super().__init__()\n",
    "#         self.save_hyperparameters()\n",
    "        \n",
    "data = d2l.FashionMNIST(batch_size=256)\n",
    "data.train"
   ]
  },
  {
   "cell_type": "markdown",
   "id": "57330a3f-a0df-430c-9a94-f73fc487b073",
   "metadata": {},
   "source": [
    "## 3. Implement a covariate shift corrector."
   ]
  },
  {
   "cell_type": "markdown",
   "id": "9c07122f-4fc7-4af6-a879-092d8566e05a",
   "metadata": {},
   "source": []
  },
  {
   "cell_type": "markdown",
   "id": "718c94d2-d8d1-48a8-8929-e2e10ca04b31",
   "metadata": {},
   "source": [
    "## 4. Besides distribution shift, what else could affect how the empirical risk approximates the risk?"
   ]
  }
 ],
 "metadata": {
  "kernelspec": {
   "display_name": "Python [conda env:d2l]",
   "language": "python",
   "name": "conda-env-d2l-py"
  },
  "language_info": {
   "codemirror_mode": {
    "name": "ipython",
    "version": 3
   },
   "file_extension": ".py",
   "mimetype": "text/x-python",
   "name": "python",
   "nbconvert_exporter": "python",
   "pygments_lexer": "ipython3",
   "version": "3.11.4"
  }
 },
 "nbformat": 4,
 "nbformat_minor": 5
}
