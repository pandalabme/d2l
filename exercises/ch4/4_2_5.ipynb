{
 "cells": [
  {
   "cell_type": "code",
   "execution_count": 33,
   "id": "c125b6a4-7a15-4193-be5c-0bad73d0799c",
   "metadata": {
    "tags": []
   },
   "outputs": [],
   "source": [
    "import sys\n",
    "import time\n",
    "import torch\n",
    "import torchvision\n",
    "from torchvision import transforms\n",
    "import warnings\n",
    "import matplotlib.pyplot as plt\n",
    "import cProfile\n",
    "sys.path.append('/home/jovyan/work/d2l_solutions/notebooks/exercises/d2l_utils/')\n",
    "import d2l\n",
    "warnings.filterwarnings(\"ignore\")\n",
    "\n",
    "\n",
    "class FashionMNIST(d2l.DataModule):  #@save\n",
    "    \"\"\"The Fashion-MNIST dataset.\"\"\"\n",
    "    def __init__(self, batch_size=64, resize=(28, 28)):\n",
    "        super().__init__()\n",
    "        self.save_hyperparameters()\n",
    "        trans = transforms.Compose([transforms.Resize(resize),\n",
    "                                    transforms.ToTensor()])\n",
    "        self.train = torchvision.datasets.FashionMNIST(\n",
    "            root=self.root, train=True, transform=trans, download=True)\n",
    "        self.val = torchvision.datasets.FashionMNIST(\n",
    "            root=self.root, train=False, transform=trans, download=True)\n",
    "\n",
    "    def text_labels(self, indices):\n",
    "        \"\"\"Return text labels.\"\"\"\n",
    "        labels = ['t-shirt', 'trouser', 'pullover', 'dress', 'coat',\n",
    "                  'sandal', 'shirt', 'sneaker', 'bag', 'ankle boot']\n",
    "        return [labels[int(i)] for i in indices]\n",
    "        \n",
    "    def get_dataloader(self, train):\n",
    "        data = self.train if train else self.val\n",
    "        return torch.utils.data.DataLoader(data, self.batch_size, shuffle=train\n",
    "                                           , num_workers=self.num_workers)\n",
    "\n",
    "\n",
    "def load_time(data):\n",
    "    tic = time.time()\n",
    "    for X, y in data.train_dataloader():\n",
    "        continue\n",
    "    return time.time() - tic"
   ]
  },
  {
   "cell_type": "code",
   "execution_count": 16,
   "id": "8b81080f-e893-41f5-a16b-e68e951ed1fb",
   "metadata": {
    "tags": []
   },
   "outputs": [
    {
     "data": {
      "text/plain": [
       "(60000, 10000)"
      ]
     },
     "execution_count": 16,
     "metadata": {},
     "output_type": "execute_result"
    }
   ],
   "source": [
    "data = FashionMNIST(resize=(32, 32))\n",
    "len(data.train), len(data.val)"
   ]
  },
  {
   "cell_type": "code",
   "execution_count": 17,
   "id": "2fba1ab7-e163-4826-9bf4-1536c7af9326",
   "metadata": {
    "tags": []
   },
   "outputs": [
    {
     "name": "stdout",
     "output_type": "stream",
     "text": [
      "torch.Size([64, 1, 32, 32]) torch.float32 torch.Size([64]) torch.int64\n"
     ]
    }
   ],
   "source": [
    "X, y = next(iter(data.train_dataloader()))\n",
    "print(X.shape, X.dtype, y.shape, y.dtype)"
   ]
  },
  {
   "cell_type": "code",
   "execution_count": 21,
   "id": "f895788b-a41d-48b5-952a-7699abec37fc",
   "metadata": {
    "tags": []
   },
   "outputs": [
    {
     "data": {
      "text/plain": [
       "'4.30 sec'"
      ]
     },
     "execution_count": 21,
     "metadata": {},
     "output_type": "execute_result"
    }
   ],
   "source": [
    "f'{load_time(data):.2f} sec'"
   ]
  },
  {
   "cell_type": "markdown",
   "id": "2bb534a7-7836-4eaf-844b-d4ac92d4f767",
   "metadata": {},
   "source": [
    "# 4.2.5. Exercises"
   ]
  },
  {
   "cell_type": "markdown",
   "id": "33ae0234-72a4-413e-b616-1f657d209b62",
   "metadata": {},
   "source": [
    "## 1. Does reducing the batch_size (for instance, to 1) affect the reading performance?"
   ]
  },
  {
   "cell_type": "code",
   "execution_count": 32,
   "id": "d461b128-6659-4905-8c6f-ca828547046c",
   "metadata": {
    "tags": []
   },
   "outputs": [
    {
     "data": {
      "image/png": "[encoded data removed]",
      "text/plain": [
       "<Figure size 500x300 with 1 Axes>"
      ]
     },
     "metadata": {},
     "output_type": "display_data"
    }
   ],
   "source": [
    "batches = d2l.gen_logrithm_nums(initial_value=1, growth_factor=2,\n",
    "                                num_elements=8)\n",
    "ts = [load_time(FashionMNIST(batch_size=batch, resize=(32, 32))) \n",
    "      for batch in batches]\n",
    "plt.figure(figsize=(5, 3))\n",
    "plt.plot(batches, ts)\n",
    "plt.show()"
   ]
  },
  {
   "cell_type": "markdown",
   "id": "7f467d19-da1d-463e-bc98-3adfd0e2dc3b",
   "metadata": {},
   "source": [
    "Reducing the batch size in machine learning, particularly during training, can indeed affect the reading performance and overall training dynamics. Here's how it can impact different aspects:\n",
    "\n",
    "**Reading Performance:**\n",
    "When the batch size is reduced, the number of examples processed together in each iteration decreases. This can lead to an increase in the frequency of data loading and preprocessing operations, which may affect reading performance in the following ways:\n",
    "\n",
    "1. **Higher Overhead:** Smaller batch sizes result in more frequent data loading, which can increase overhead due to data loading and preprocessing operations. This might lead to slower training if these operations take a significant amount of time.\n",
    "\n",
    "2. **I/O and Disk Access:** Frequent data loading can put a strain on I/O systems, particularly in cases where data needs to be fetched from disk or over a network. Disk access latency and bandwidth limitations might become more pronounced with smaller batch sizes."
   ]
  },
  {
   "cell_type": "markdown",
   "id": "9533d3b5-cf1c-4fb7-b604-8dd2aa5fb960",
   "metadata": {},
   "source": [
    "## 2. The data iterator performance is important. Do you think the current implementation is fast enough? Explore various options to improve it. Use a system profiler to find out where the bottlenecks are."
   ]
  },
  {
   "cell_type": "markdown",
   "id": "009761d6-09ba-4a1d-abab-495f64562fa1",
   "metadata": {},
   "source": [
    "**Improving Data Iterator Performance:**\n",
    "\n",
    "1. **Batching and Prefetching:** Implement batching and prefetching mechanisms to load and preprocess data in parallel. This can help overlap data loading with model computation, reducing overall training time.\n",
    "\n",
    "2. **Parallelism:** Utilize multi-threading or multiprocessing to load and preprocess data in parallel. Libraries like TensorFlow's `tf.data` and PyTorch's `DataLoader` offer options to achieve this.\n",
    "\n",
    "3. **Data Format:** Use efficient data formats like TFRecords or binary formats that can be read faster compared to text-based formats.\n",
    "\n",
    "4. **Caching:** Cache preprocessed data to avoid redundant preprocessing during each epoch. This can be especially beneficial if data preprocessing is complex and time-consuming.\n",
    "\n",
    "5. **Data Shuffling:** Shuffle the data at the beginning of each epoch to improve convergence speed and reduce potential bias in gradient updates.\n",
    "\n",
    "6. **I/O Optimizations:** Minimize I/O operations by reading larger chunks of data at once, reducing the overhead associated with frequent small reads.\n",
    "\n",
    "**Using System Profilers:**\n",
    "\n",
    "System profilers are essential tools to identify performance bottlenecks in your code. Here's how you can use them:\n",
    "\n",
    "1. **Select a Profiler:** Choose a profiler suitable for your programming language and platform. Common profilers include `cProfile` for Python, `perf` for Linux, and various built-in tools for different programming environments.\n",
    "\n",
    "2. **Instrument the Code:** Add profiler instrumentation to your code. This typically involves setting up the profiler to start and stop at specific points in your code.\n",
    "\n",
    "3. **Run Profiling:** Execute your code with the profiler enabled. The profiler will record information about the time spent in different functions and lines of code.\n",
    "\n",
    "4. **Analyze Profiler Output:** Examine the profiler's output to identify where your code spends the most time. Look for functions or sections of code with high execution time or frequent calls.\n",
    "\n",
    "5. **Optimization:** Once you identify the bottlenecks, consider optimizing or parallelizing the code in those areas. This might involve algorithmic improvements, better data structures, or utilizing hardware capabilities more effectively.\n",
    "\n",
    "6. **Iterative Process:** Profiling, optimization, and re-profiling can be an iterative process. After making changes, re-profile your code to ensure improvements have been effective and to identify new bottlenecks.\n",
    "\n",
    "Remember that the specific tools and techniques may vary based on the programming language, framework, and system you are using. Profilers can provide valuable insights to help you focus your optimization efforts where they are most needed.\n",
    "\n",
    "For real-time and up-to-date information on improving data iterator performance for specific frameworks and systems, I recommend consulting official documentation, forums, and resources related to the tools you are using."
   ]
  },
  {
   "cell_type": "markdown",
   "id": "d1460772-eeb7-47af-829d-63d66677eda4",
   "metadata": {},
   "source": [
    "## 3. Check out the framework’s online API documentation. Which other datasets are available?"
   ]
  },
  {
   "cell_type": "markdown",
   "id": "6440eda8-9b2b-4cb8-80a5-7ecce6f988dd",
   "metadata": {},
   "source": []
  },
  {
   "cell_type": "markdown",
   "id": "f3eba876-c05c-44a5-85be-cb93057a3a15",
   "metadata": {},
   "source": []
  }
 ],
 "metadata": {
  "kernelspec": {
   "display_name": "Python [conda env:d2l]",
   "language": "python",
   "name": "conda-env-d2l-py"
  },
  "language_info": {
   "codemirror_mode": {
    "name": "ipython",
    "version": 3
   },
   "file_extension": ".py",
   "mimetype": "text/x-python",
   "name": "python",
   "nbconvert_exporter": "python",
   "pygments_lexer": "ipython3",
   "version": "3.11.4"
  }
 },
 "nbformat": 4,
 "nbformat_minor": 5
}
