{
 "cells": [
  {
   "cell_type": "markdown",
   "id": "2ae432e3-29db-4fb4-8428-ef121a7c203a",
   "metadata": {},
   "source": [
    "# 4.1.5. Exercises"
   ]
  },
  {
   "cell_type": "markdown",
   "id": "1a390f42-f0b5-4c5a-8a23-ea76e14a0865",
   "metadata": {},
   "source": [
    "## 1. We can explore the connection between exponential families and softmax in some more depth.\n",
    "* Compute the second derivative of the cross-entropy loss $l(y,\\hat{y})$ for softmax.\n",
    "* Compute the variance of the distribution given by $\\text{softmax}(o)$ and show that it matches the second derivative computed above."
   ]
  },
  {
   "cell_type": "markdown",
   "id": "6af39231-5c7e-4d3f-a2d4-79dc8bfeb02e",
   "metadata": {},
   "source": [
    "### Second derivative of the cross-entropy loss"
   ]
  },
  {
   "cell_type": "markdown",
   "id": "5e07b28b-6333-43b4-9770-da514de917d8",
   "metadata": {},
   "source": [
    "The cross-entropy loss for softmax is given by:\n",
    "\n",
    "$$l(y, \\hat{y}) = -\\sum_i y_i \\log(\\text{softmax}(o)_i)$$\n",
    "\n",
    "where $\\text{softmax}(o)_i = \\frac{e^{o_i}}{\\sum_j e^{o_j}}$.\n",
    "\n",
    "Let's denote the loss as $L = -\\sum_i y_i \\log(\\text{softmax}(o_i))$.\n",
    "\n",
    "**First Derivative:**\n",
    "The first derivative of $L$ with respect to $o_j$ is:\n",
    "\n",
    "$$\\frac{\\partial L}{\\partial o_j} = \\text{softmax}(o_j) - y_j$$\n",
    "\n",
    "**Second Derivative:**\n",
    "The second derivative of $L$ with respect to $o_j$ is:\n",
    "\n",
    "$$\\frac{\\partial^2 L}{\\partial o_j^2} = \\frac{\\partial}{\\partial o_j} (\\text{softmax}(o_j) - y_j) = \\frac{\\partial \\text{softmax}(o_j)}{\\partial o_j} = \\text{softmax}(o_j )(1 - \\text{softmax}(o_j))$$"
   ]
  },
  {
   "cell_type": "markdown",
   "id": "fb44f3c4-01d5-4580-b865-3a9f3e58c451",
   "metadata": {},
   "source": [
    "### Variance of the distribution"
   ]
  },
  {
   "cell_type": "code",
   "execution_count": null,
   "id": "99310e71-501a-4ac1-b6ec-17f44d706555",
   "metadata": {},
   "outputs": [],
   "source": []
  },
  {
   "cell_type": "markdown",
   "id": "563b57e8-2d8f-4cc1-94fe-7067fa0415c0",
   "metadata": {},
   "source": [
    "## 2. Assume that we have three classes which occur with equal probability, i.e., the probability vector is \n",
    " \n",
    " \n",
    " \n",
    ".\n",
    "\n",
    "What is the problem if we try to design a binary code for it?\n",
    "\n",
    "Can you design a better code? Hint: what happens if we try to encode two independent observations? What if we encode \n",
    " observations jointly?"
   ]
  },
  {
   "cell_type": "markdown",
   "id": "cc8a4140-5e47-48cf-aa49-6b2e2b33b50d",
   "metadata": {},
   "source": []
  },
  {
   "cell_type": "markdown",
   "id": "6f451971-adba-42fb-9bef-6847759f270b",
   "metadata": {},
   "source": [
    "## 3. When encoding signals transmitted over a physical wire, engineers do not always use binary codes. For instance, PAM-3 uses three signal levels \n",
    " as opposed to two levels \n",
    ". How many ternary units do you need to transmit an integer in the range \n",
    "? Why might this be a better idea in terms of electronics?"
   ]
  },
  {
   "cell_type": "markdown",
   "id": "c6f21f5d-fd89-48c1-b756-c74341a99d56",
   "metadata": {
    "tags": []
   },
   "source": []
  },
  {
   "cell_type": "markdown",
   "id": "c03b039e-e1af-44a1-9c91-2913a1edd69c",
   "metadata": {},
   "source": [
    "## 4. The Bradley–Terry model uses a logistic model to capture preferences. For a user to choose between apples and oranges one assumes scores \n",
    " and \n",
    ". Our requirements are that larger scores should lead to a higher likelihood in choosing the associated item and that the item with the largest score is the most likely one to be chosen (Bradley and Terry, 1952).\n",
    "\n",
    "Prove that softmax satisfies this requirement.\n",
    "\n",
    "What happens if you want to allow for a default option of choosing neither apples nor oranges? Hint: now the user has three choices."
   ]
  },
  {
   "cell_type": "markdown",
   "id": "1cf46005-f6d0-4281-bcd6-d05185d2232c",
   "metadata": {},
   "source": []
  },
  {
   "cell_type": "markdown",
   "id": "6964c72b-372e-442c-8661-779679ba22e4",
   "metadata": {},
   "source": [
    "## 5. Softmax gets its name from the following mapping: \n",
    ".\n",
    "\n",
    "Prove that \n",
    ".\n",
    "\n",
    "How small can you make the difference between both functions? Hint: without loss of generality you can set \n",
    " and \n",
    ".\n",
    "\n",
    "Prove that this holds for \n",
    ", provided that \n",
    ".\n",
    "\n",
    "Show that for \n",
    " we have \n",
    ".\n",
    "\n",
    "Construct an analogous softmin function.\n",
    "\n",
    "Extend this to more than two numbers."
   ]
  },
  {
   "cell_type": "markdown",
   "id": "d4e30a7e-66d4-4881-b181-42900e5147db",
   "metadata": {},
   "source": []
  },
  {
   "cell_type": "markdown",
   "id": "591d7cfd-121f-4ca6-b103-8e5e44680937",
   "metadata": {},
   "source": [
    "## 6. The function \n",
    " is sometimes also referred to as the log-partition function.\n",
    "\n",
    "Prove that the function is convex. Hint: to do so, use the fact that the first derivative amounts to the probabilities from the softmax function and show that the second derivative is the variance.\n",
    "\n",
    "Show that \n",
    " is translation invariant, i.e., \n",
    ".\n",
    "\n",
    "What happens if some of the coordinates \n",
    " are very large? What happens if they’re all very small?\n",
    "\n",
    "Show that if we choose \n",
    " we end up with a numerically stable implementation."
   ]
  },
  {
   "cell_type": "markdown",
   "id": "5d38d78d-8e40-4fe7-9d26-4f44a15df6c3",
   "metadata": {},
   "source": []
  },
  {
   "cell_type": "markdown",
   "id": "479e5a48-5c38-4e64-8d9a-b2e71d373c22",
   "metadata": {},
   "source": [
    "## 7. Assume that we have some probability distribution \n",
    ". Suppose we pick another distribution \n",
    " with \n",
    " for \n",
    ".\n",
    "\n",
    "Which choice of \n",
    " corresponds to doubling the temperature? Which choice corresponds to halving it?\n",
    "\n",
    "What happens if we let the temperature approach \n",
    "?\n",
    "\n",
    "What happens if we let the temperature approach \n",
    "?"
   ]
  },
  {
   "cell_type": "markdown",
   "id": "a9095a9b-2679-4a14-afe7-56c8e8f28e49",
   "metadata": {},
   "source": []
  }
 ],
 "metadata": {
  "kernelspec": {
   "display_name": "Python [conda env:d2l]",
   "language": "python",
   "name": "conda-env-d2l-py"
  },
  "language_info": {
   "codemirror_mode": {
    "name": "ipython",
    "version": 3
   },
   "file_extension": ".py",
   "mimetype": "text/x-python",
   "name": "python",
   "nbconvert_exporter": "python",
   "pygments_lexer": "ipython3",
   "version": "3.11.4"
  }
 },
 "nbformat": 4,
 "nbformat_minor": 5
}
