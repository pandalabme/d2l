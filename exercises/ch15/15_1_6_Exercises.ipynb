{
 "cells": [
  {
   "cell_type": "code",
   "execution_count": null,
   "id": "9f690a09-4d57-4db9-8d16-a13edcb1eafb",
   "metadata": {},
   "outputs": [],
   "source": [
    "!jupyter nbconvert --to markdown 11_9_7_Exercises.ipynb"
   ]
  },
  {
   "cell_type": "markdown",
   "id": "57d66b2f-5afc-43fd-a3d0-8197442b10d4",
   "metadata": {},
   "source": [
    "# 1. What is the computational complexity for calculating each gradient? What could be the issue if the dictionary size is huge?"
   ]
  },
  {
   "cell_type": "markdown",
   "id": "07bd08bd-39ed-48ad-916d-3bdc072ac2c4",
   "metadata": {},
   "source": []
  },
  {
   "cell_type": "markdown",
   "id": "4cb0dcd0-271d-49f8-8e1c-21e6b7a53dc6",
   "metadata": {},
   "source": [
    "# 2. Some fixed phrases in English consist of multiple words, such as “new york”. How to train their word vectors? Hint: see Section 4 in the word2vec paper (Mikolov et al., 2013)."
   ]
  },
  {
   "cell_type": "markdown",
   "id": "7ee44b8e-8278-4175-b71b-18b8134fbc66",
   "metadata": {},
   "source": []
  },
  {
   "cell_type": "markdown",
   "id": "68728f0b-f8bb-4746-9d72-339bce045f5a",
   "metadata": {},
   "source": [
    "# 3. Let’s reflect on the word2vec design by taking the skip-gram model as an example. What is the relationship between the dot product of two word vectors in the skip-gram model and the cosine similarity? For a pair of words with similar semantics, why may the cosine similarity of their word vectors (trained by the skip-gram model) be high?"
   ]
  },
  {
   "cell_type": "markdown",
   "id": "aa57f85b-eb3c-42fc-8110-e61e37fc6732",
   "metadata": {},
   "source": []
  }
 ],
 "metadata": {
  "kernelspec": {
   "display_name": "Python [conda env:d2l]",
   "language": "python",
   "name": "conda-env-d2l-py"
  },
  "language_info": {
   "codemirror_mode": {
    "name": "ipython",
    "version": 3
   },
   "file_extension": ".py",
   "mimetype": "text/x-python",
   "name": "python",
   "nbconvert_exporter": "python",
   "pygments_lexer": "ipython3",
   "version": "3.11.4"
  }
 },
 "nbformat": 4,
 "nbformat_minor": 5
}
