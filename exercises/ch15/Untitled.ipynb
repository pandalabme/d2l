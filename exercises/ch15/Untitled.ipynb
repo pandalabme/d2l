{
 "cells": [
  {
   "cell_type": "code",
   "execution_count": 12,
   "id": "c2693441-d450-47f3-a8ed-bd91c57e944c",
   "metadata": {
    "tags": []
   },
   "outputs": [
    {
     "name": "stdout",
     "output_type": "stream",
     "text": [
      "Vector 1: [1.         2.23606798]\n",
      "Vector 2: (1.3416407864998738, 2.2360679774997894)\n"
     ]
    }
   ],
   "source": [
    "v1 = np.array([1,3])\n",
    "v2 = np.array([2,5])\n",
    "cov_matrix = np.cov(v1,v2)\n",
    "std_dev = np.sqrt(np.diag(C))\n",
    "\n",
    "# 提取相关系数\n",
    "corr_coeff = C / np.outer(std_dev, std_dev)\n",
    "\n",
    "# 得到两个一维向量\n",
    "v1 = std_dev\n",
    "v2 = corr_coeff[0, 1] * std_dev[0], corr_coeff[1, 1] * std_dev[1]\n",
    "\n",
    "# 打印结果\n",
    "print(\"Vector 1:\", v1)\n",
    "print(\"Vector 2:\", v2)"
   ]
  },
  {
   "cell_type": "code",
   "execution_count": 2,
   "id": "92d1082e-b40c-4582-b747-ca168096bdf7",
   "metadata": {
    "tags": []
   },
   "outputs": [
    {
     "name": "stdout",
     "output_type": "stream",
     "text": [
      "Vector 1: [1.         2.23606798]\n",
      "Vector 2: (1.3416407864998738, 2.2360679774997894)\n"
     ]
    }
   ],
   "source": [
    "import numpy as np\n",
    "\n",
    "# 定义二维协方差矩阵\n",
    "C = np.array([[1, 3], [2, 5]])\n",
    "\n",
    "# 提取标准差向量\n",
    "std_dev = np.sqrt(np.diag(C))\n",
    "\n",
    "# 提取相关系数\n",
    "corr_coeff = C / np.outer(std_dev, std_dev)\n",
    "\n",
    "# 得到两个一维向量\n",
    "v1 = std_dev\n",
    "v2 = corr_coeff[0, 1] * std_dev[0], corr_coeff[1, 1] * std_dev[1]\n",
    "\n",
    "# 打印结果\n",
    "print(\"Vector 1:\", v1)\n",
    "print(\"Vector 2:\", v2)\n"
   ]
  },
  {
   "cell_type": "code",
   "execution_count": 7,
   "id": "34e1a7fa-b8db-4560-9be8-9af8019ea250",
   "metadata": {
    "tags": []
   },
   "outputs": [
    {
     "data": {
      "text/plain": [
       "array([[9.54915028, 6.90983006],\n",
       "       [6.90983006, 5.        ]])"
      ]
     },
     "execution_count": 7,
     "metadata": {},
     "output_type": "execute_result"
    }
   ],
   "source": [
    " np.cov(v1, v2)*12.5"
   ]
  },
  {
   "cell_type": "code",
   "execution_count": 11,
   "id": "99eef93d-e4c3-4367-91d9-8c322dfe8c1f",
   "metadata": {
    "tags": []
   },
   "outputs": [
    {
     "data": {
      "text/plain": [
       "array([[2. , 3. ],\n",
       "       [3. , 4.5]])"
      ]
     },
     "execution_count": 11,
     "metadata": {},
     "output_type": "execute_result"
    }
   ],
   "source": [
    "v1 = np.array([1,3])\n",
    "v2 = np.array([2,5])\n",
    "cov_matrix = np.cov(v1,v2)\n",
    "cov_matrix"
   ]
  },
  {
   "cell_type": "code",
   "execution_count": 10,
   "id": "48d26605-1c13-4ccd-8a33-f9ca19abbd39",
   "metadata": {
    "tags": []
   },
   "outputs": [
    {
     "name": "stdout",
     "output_type": "stream",
     "text": [
      "vector_x: [4.83645613 1.32582153]\n",
      "vector_y: [nan nan]\n"
     ]
    },
    {
     "name": "stderr",
     "output_type": "stream",
     "text": [
      "/tmp/ipykernel_66041/1418309345.py:15: RuntimeWarning: invalid value encountered in sqrt\n",
      "  std_y = np.sqrt(mean_y)\n"
     ]
    }
   ],
   "source": [
    "import numpy as np\n",
    "a,b,c,d = 1,3,2,5\n",
    "# 定义一个二维协方差矩阵\n",
    "cov_matrix = np.array([[a, b], [c, d]])\n",
    "\n",
    "# 计算相关系数矩阵\n",
    "corr_matrix = np.corrcoef(cov_matrix)\n",
    "\n",
    "# 计算两个一维向量的均值\n",
    "mean_x = (a + d + np.sqrt((a - d) ** 2 + 4 * b * c)) / 4\n",
    "mean_y = (a + d - np.sqrt((a - d) ** 2 + 4 * b * c)) / 4\n",
    "\n",
    "# 计算两个一维向量的标准差\n",
    "std_x = np.sqrt(mean_x)\n",
    "std_y = np.sqrt(mean_y)\n",
    "\n",
    "# 计算两个一维向量的元素\n",
    "x1 = mean_x + std_x * corr_matrix[0, 0]\n",
    "x2 = mean_x - std_x * corr_matrix[0, 0]\n",
    "y1 = mean_y + std_y * corr_matrix[1, 1]\n",
    "y2 = mean_y - std_y * corr_matrix[1, 1]\n",
    "\n",
    "# 构造两个一维向量\n",
    "vector_x = np.array([x1, x2])\n",
    "vector_y = np.array([y1, y2])\n",
    "\n",
    "# 打印结果\n",
    "print(\"vector_x:\", vector_x)\n",
    "print(\"vector_y:\", vector_y)\n"
   ]
  }
 ],
 "metadata": {
  "kernelspec": {
   "display_name": "Python [conda env:d2l]",
   "language": "python",
   "name": "conda-env-d2l-py"
  },
  "language_info": {
   "codemirror_mode": {
    "name": "ipython",
    "version": 3
   },
   "file_extension": ".py",
   "mimetype": "text/x-python",
   "name": "python",
   "nbconvert_exporter": "python",
   "pygments_lexer": "ipython3",
   "version": "3.11.4"
  }
 },
 "nbformat": 4,
 "nbformat_minor": 5
}
