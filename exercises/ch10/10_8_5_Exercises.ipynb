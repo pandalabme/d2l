{
 "cells": [
  {
   "cell_type": "markdown",
   "id": "b8b68c00-36a3-4d30-98ff-3736812ecc46",
   "metadata": {},
   "source": [
    "# 1. Can we treat exhaustive search as a special type of beam search? Why or why not?"
   ]
  },
  {
   "cell_type": "markdown",
   "id": "d8a9cac4-697a-462c-866f-f8c5efec263f",
   "metadata": {},
   "source": [
    "We can treat exhaustive search as a special type of beam search, where the beam size is equal to the size of the search space. In other words, exhaustive search is a beam search that keeps all the possible candidates at each time step, and does not prune any of them. This way, exhaustive search can guarantee to find the optimal solution, but it also has a very high computational cost and memory requirement. On the other hand, beam search is a heuristic search that keeps only a fixed number of candidates at each time step, and prunes the rest based on some scoring function. This way, beam search can reduce the computational cost and memory requirement, but it also has a risk of missing the optimal solution. Therefore, exhaustive search and beam search are two extremes of a trade-off between accuracy and efficiency. For more details and examples on exhaustive search and beam search, you can refer to [1] or [2]."
   ]
  },
  {
   "cell_type": "markdown",
   "id": "c9aa36c8-95b0-4085-b4ae-e08a870b5b9f",
   "metadata": {},
   "source": [
    "# 2. Apply beam search in the machine translation problem in Section 10.7. How does the beam size affect the translation results and the prediction speed?"
   ]
  },
  {
   "cell_type": "markdown",
   "id": "fe8a6424-e501-4f0c-9adc-ba4b8230de2d",
   "metadata": {},
   "source": [
    "Beam search is a heuristic search algorithm that can be applied to the machine translation problem. The idea is to generate the most probable translation by keeping only a fixed number of candidates at each time step, and pruning the rest based on some scoring function. The beam size is a parameter that controls how many candidates are kept at each time step. The beam size affects the translation results and the prediction speed in the following ways:\n",
    "\n",
    "- A larger beam size can improve the translation quality, because it can explore more possible translations and reduce the risk of missing the optimal one. However, a larger beam size also increases the prediction time and memory consumption, because it requires more computation and storage to evaluate and store more candidates. Therefore, a larger beam size has a trade-off between accuracy and efficiency.\n",
    "- A smaller beam size can reduce the prediction time and memory consumption, because it requires less computation and storage to evaluate and store fewer candidates. However, a smaller beam size also decreases the translation quality, because it can miss some possible translations and increase the risk of choosing a suboptimal one. Therefore, a smaller beam size has a trade-off between efficiency and accuracy.\n",
    "\n",
    "The optimal beam size depends on the specific problem domain, data characteristics, model architecture, and evaluation metrics. There is no universal rule to determine the best beam size, but some empirical studies have suggested that a beam size of around 4 to 10 can achieve good results for most machine translation tasks . For more details and examples on how to apply beam search in machine translation, you can refer to [3] or [4]."
   ]
  },
  {
   "cell_type": "markdown",
   "id": "c30eb807-54d8-43eb-9a90-d4a6976b712c",
   "metadata": {},
   "source": [
    "# 3. We used language modeling for generating text following user-provided prefixes in Section 9.5. Which kind of search strategy does it use? Can you improve it?"
   ]
  },
  {
   "cell_type": "markdown",
   "id": "ab2c8d19-8c93-4dce-92c3-154f9477637e",
   "metadata": {},
   "source": [
    "We use greedy search in Section 9.5, we can use beam search to improve it."
   ]
  },
  {
   "cell_type": "code",
   "execution_count": 29,
   "id": "a36e05a8-a88c-4f04-889d-c8346b3c5657",
   "metadata": {
    "tags": []
   },
   "outputs": [],
   "source": [
    "import sys\n",
    "import torch.nn as nn\n",
    "import torch\n",
    "import warnings\n",
    "import numpy as np\n",
    "from sklearn.model_selection import ParameterGrid\n",
    "sys.path.append('/home/jovyan/work/d2l_solutions/notebooks/exercises/d2l_utils/')\n",
    "import d2l\n",
    "from torchsummary import summary\n",
    "warnings.filterwarnings(\"ignore\")\n",
    "\n",
    "class BeamRNNLMScratch(d2l.RNNLMScratch):\n",
    "    \"\"\"The RNN-based language model implemented from scratch.\n",
    "\n",
    "    Defined in :numref:`sec_rnn-scratch`\"\"\"\n",
    "\n",
    "    def predict(self, prefix, num_preds, vocab, device=None, k=1):\n",
    "        \"\"\"Defined in :numref:`sec_rnn-scratch`\"\"\"\n",
    "        state, outputs = [None]*k, [[vocab[prefix[0]]] for i in range(k)]\n",
    "        preds = [torch.ones(len(vocab))]*k\n",
    "        for i in range(len(prefix) + num_preds - 1):\n",
    "            for j in range(k):\n",
    "                X = torch.tensor([[outputs[j][-1]]], device=device)\n",
    "                embs = self.one_hot(X)\n",
    "                rnn_outputs, state = self.rnn(embs, state)\n",
    "                if i < len(prefix) - 1:  # Warm-up period\n",
    "                    outputs[j].append(vocab[prefix[i + 1]])\n",
    "                else:  # Predict num_preds steps\n",
    "                    Y = self.output_layer(rnn_outputs)\n",
    "                    outputs.append(int(torch.reshape(torch.argmax(Y, axis=2), 1)))\n",
    "        return ''.join([vocab.idx_to_token[i] for i in outputs])"
   ]
  },
  {
   "cell_type": "code",
   "execution_count": 36,
   "id": "7d6e7708-89cd-41fd-b154-88797a806b12",
   "metadata": {
    "tags": []
   },
   "outputs": [
    {
     "data": {
      "text/plain": [
       "tensor([1])"
      ]
     },
     "execution_count": 36,
     "metadata": {},
     "output_type": "execute_result"
    }
   ],
   "source": [
    "a = torch.tensor([3,5,1,2])\n",
    "b, c = torch.topk(a,2)\n",
    "torch.argmax(a).reshape(1)"
   ]
  },
  {
   "cell_type": "code",
   "execution_count": 38,
   "id": "0ac0429f-1e13-4e41-adee-3770e1508c5a",
   "metadata": {
    "tags": []
   },
   "outputs": [
    {
     "data": {
      "text/plain": [
       "[tensor([1., 1., 1.]), tensor([0., 0., 0.])]"
      ]
     },
     "execution_count": 38,
     "metadata": {},
     "output_type": "execute_result"
    }
   ],
   "source": [
    "a = [torch.ones(3)]*2\n",
    "a[1] = torch.zeros(3)\n",
    "a"
   ]
  },
  {
   "cell_type": "code",
   "execution_count": 35,
   "id": "9a328031-d429-43e3-aff3-c02cb1c0c084",
   "metadata": {
    "tags": []
   },
   "outputs": [
    {
     "data": {
      "text/plain": [
       "tensor([5, 3])"
      ]
     },
     "execution_count": 35,
     "metadata": {},
     "output_type": "execute_result"
    }
   ],
   "source": [
    "b"
   ]
  }
 ],
 "metadata": {
  "kernelspec": {
   "display_name": "Python [conda env:d2l]",
   "language": "python",
   "name": "conda-env-d2l-py"
  },
  "language_info": {
   "codemirror_mode": {
    "name": "ipython",
    "version": 3
   },
   "file_extension": ".py",
   "mimetype": "text/x-python",
   "name": "python",
   "nbconvert_exporter": "python",
   "pygments_lexer": "ipython3",
   "version": "3.11.4"
  }
 },
 "nbformat": 4,
 "nbformat_minor": 5
}
