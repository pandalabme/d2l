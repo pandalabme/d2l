{
 "cells": [
  {
   "cell_type": "code",
   "execution_count": null,
   "id": "ed4f85cd-e267-4d03-8af4-436ff210acc5",
   "metadata": {},
   "outputs": [],
   "source": [
    "!jupyter nbconvert --to markdown 6_6_4_Exercises.ipynb"
   ]
  },
  {
   "cell_type": "code",
   "execution_count": null,
   "id": "c9b11405-0e53-4e24-a303-6eae7c88ceb5",
   "metadata": {},
   "outputs": [],
   "source": [
    "import sys\n",
    "import torch.nn as nn\n",
    "import torch\n",
    "import warnings\n",
    "sys.path.append('/home/jovyan/work/d2l_solutions/notebooks/exercises/d2l_utils/')\n",
    "import d2l\n",
    "warnings.filterwarnings(\"ignore\")"
   ]
  },
  {
   "cell_type": "markdown",
   "id": "b5dbab92-7e59-4607-897d-dc714373ba36",
   "metadata": {},
   "source": [
    "# 1. Assume that the size of the convolution kernel is $\\delta=0$. Show that in this case the convolution kernel implements an MLP independently for each set of channels. This leads to the Network in Network architectures (Lin et al., 2013)."
   ]
  },
  {
   "cell_type": "markdown",
   "id": "20724bdc-c574-4243-834f-81d2cbc56607",
   "metadata": {},
   "source": []
  },
  {
   "cell_type": "markdown",
   "id": "07a01ad1-990a-4ce3-8e48-f4b07ab2c3f0",
   "metadata": {},
   "source": [
    "# 2. Audio data is often represented as a one-dimensional sequence.\n",
    "- When might you want to impose locality and translation invariance for audio?\n",
    "- Derive the convolution operations for audio.\n",
    "- Can you treat audio using the same tools as computer vision? Hint: use the spectrogram."
   ]
  },
  {
   "cell_type": "markdown",
   "id": "949d2630-1f99-470d-8b2d-917206f5f7d6",
   "metadata": {},
   "source": []
  },
  {
   "cell_type": "markdown",
   "id": "afe1bb17-e6fa-404c-a7db-cf01ab74c6d2",
   "metadata": {},
   "source": [
    "# 3. Why might translation invariance not be a good idea after all? Give an example.\n",
    "\n"
   ]
  },
  {
   "cell_type": "markdown",
   "id": "7ae23de9-4358-490c-9b63-7b4ca0ca494a",
   "metadata": {},
   "source": []
  },
  {
   "cell_type": "markdown",
   "id": "887e45ed-05ff-4996-8bb3-e2e4dfdb858c",
   "metadata": {},
   "source": [
    "# 4. Do you think that convolutional layers might also be applicable for text data? Which problems might you encounter with language?\n",
    "\n"
   ]
  },
  {
   "cell_type": "markdown",
   "id": "e57781d5-9579-45ea-a878-a7b69709acba",
   "metadata": {},
   "source": []
  },
  {
   "cell_type": "markdown",
   "id": "300b0435-d5b1-41da-93f8-4cbcff467efe",
   "metadata": {},
   "source": [
    "# 5. What happens with convolutions when an object is at the boundary of an image?\n",
    "\n"
   ]
  },
  {
   "cell_type": "markdown",
   "id": "9b9c4ea3-3d49-4690-baf8-00d0f1771038",
   "metadata": {},
   "source": []
  },
  {
   "cell_type": "markdown",
   "id": "b201b8c6-51b0-44f4-9515-48f6682bac4c",
   "metadata": {},
   "source": [
    "# 6. Prove that the convolution is symmetric, i.e., \n",
    "."
   ]
  },
  {
   "cell_type": "markdown",
   "id": "88026741-eb89-4e1c-a4bf-b629db14c9b3",
   "metadata": {},
   "source": []
  },
  {
   "cell_type": "markdown",
   "id": "f2109b8f-8598-4221-9875-25936c76b578",
   "metadata": {},
   "source": []
  }
 ],
 "metadata": {
  "kernelspec": {
   "display_name": "Python [conda env:d2l]",
   "language": "python",
   "name": "conda-env-d2l-py"
  },
  "language_info": {
   "codemirror_mode": {
    "name": "ipython",
    "version": 3
   },
   "file_extension": ".py",
   "mimetype": "text/x-python",
   "name": "python",
   "nbconvert_exporter": "python",
   "pygments_lexer": "ipython3",
   "version": "3.11.4"
  }
 },
 "nbformat": 4,
 "nbformat_minor": 5
}
