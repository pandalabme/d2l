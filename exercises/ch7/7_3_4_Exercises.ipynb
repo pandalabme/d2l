{
 "cells": [
  {
   "cell_type": "markdown",
   "id": "7f60d261-0b7e-49da-bef5-684a04acf9b2",
   "metadata": {},
   "source": [
    "# 1. Given the final code example in this section with kernel size (3,5), padding (0,1), and stride (3,4), calculate the output shape to check if it is consistent with the experimental result."
   ]
  },
  {
   "cell_type": "markdown",
   "id": "531d63d0-beb6-4f19-9c54-1e070c32f43b",
   "metadata": {},
   "source": []
  },
  {
   "cell_type": "code",
   "execution_count": 2,
   "id": "5c2c1886-0838-4ed1-b7de-5f504657120c",
   "metadata": {
    "tags": []
   },
   "outputs": [
    {
     "data": {
      "text/plain": [
       "torch.Size([2, 2])"
      ]
     },
     "execution_count": 2,
     "metadata": {},
     "output_type": "execute_result"
    }
   ],
   "source": [
    "import torch\n",
    "import torch.nn as nn\n",
    "def comp_conv2d(conv2d, X):\n",
    "    # (1, 1) indicates that batch size and the number of channels are both 1\n",
    "    X = X.reshape((1, 1) + X.shape)\n",
    "    Y = conv2d(X)\n",
    "    # Strip the first two dimensions: examples and channels\n",
    "    return Y.reshape(Y.shape[2:])\n",
    "\n",
    "# 1 row and column is padded on either side, so a total of 2 rows or columns\n",
    "# are added\n",
    "conv2d = nn.LazyConv2d(1, kernel_size=(3,5), padding=(0,1), stride=(3,4))\n",
    "X = torch.rand(size=(8, 8))\n",
    "comp_conv2d(conv2d, X).shape"
   ]
  },
  {
   "cell_type": "markdown",
   "id": "e15cf78f-198a-4d25-9e2e-977a48e9f10f",
   "metadata": {},
   "source": [
    "# 2. For audio signals, what does a stride of 2 correspond to?\n",
    "\n"
   ]
  },
  {
   "cell_type": "markdown",
   "id": "894ff0ea-9370-49b2-9663-2bdc88aa7f97",
   "metadata": {},
   "source": []
  },
  {
   "cell_type": "markdown",
   "id": "49642002-c4dc-4247-8a8b-4bbce232dfdf",
   "metadata": {},
   "source": [
    "# 3. Implement mirror padding, i.e., padding where the border values are simply mirrored to extend tensors.\n",
    "\n"
   ]
  },
  {
   "cell_type": "markdown",
   "id": "51de438f-f03a-4430-8f39-45bdc7cfb023",
   "metadata": {},
   "source": []
  },
  {
   "cell_type": "markdown",
   "id": "e0bec42e-cd35-4efe-a69f-686fdff43ecf",
   "metadata": {},
   "source": [
    "# 4. What are the computational benefits of a stride larger than 1?\n",
    "\n"
   ]
  },
  {
   "cell_type": "markdown",
   "id": "74d09d5f-82b4-40c5-9be3-30dfdcf0a5f9",
   "metadata": {},
   "source": []
  },
  {
   "cell_type": "markdown",
   "id": "eceb0881-ea02-4458-a03d-bbb941d2f844",
   "metadata": {},
   "source": [
    "# 5. What might be statistical benefits of a stride larger than 1?\n",
    "\n"
   ]
  },
  {
   "cell_type": "markdown",
   "id": "b3da3669-30cf-4f86-9a5d-5af56e24bc4a",
   "metadata": {},
   "source": []
  },
  {
   "cell_type": "markdown",
   "id": "696de53a-24ff-4c77-af39-f36907916269",
   "metadata": {},
   "source": [
    "# 6. How would you implement a stride of ? What does it correspond to? When would this be useful?"
   ]
  },
  {
   "cell_type": "markdown",
   "id": "d52208ae-61d0-42aa-ba46-1d13a822452d",
   "metadata": {},
   "source": []
  }
 ],
 "metadata": {
  "kernelspec": {
   "display_name": "Python [conda env:d2l]",
   "language": "python",
   "name": "conda-env-d2l-py"
  },
  "language_info": {
   "codemirror_mode": {
    "name": "ipython",
    "version": 3
   },
   "file_extension": ".py",
   "mimetype": "text/x-python",
   "name": "python",
   "nbconvert_exporter": "python",
   "pygments_lexer": "ipython3",
   "version": "3.11.4"
  }
 },
 "nbformat": 4,
 "nbformat_minor": 5
}
