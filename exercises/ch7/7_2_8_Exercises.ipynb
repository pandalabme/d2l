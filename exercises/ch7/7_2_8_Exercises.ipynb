{
 "cells": [
  {
   "cell_type": "markdown",
   "id": "e092f1f8-8b39-4859-9fe5-744fc0a942e7",
   "metadata": {},
   "source": [
    "# 1. Construct an image X with diagonal edges."
   ]
  },
  {
   "cell_type": "code",
   "execution_count": 4,
   "id": "26884bae-ff3b-47a6-be5d-dc1c0ca36b2c",
   "metadata": {
    "tags": []
   },
   "outputs": [
    {
     "data": {
      "text/plain": [
       "tensor([[1., 0., 0., 0., 0., 0., 0., 0.],\n",
       "        [0., 1., 0., 0., 0., 0., 0., 0.],\n",
       "        [0., 0., 1., 0., 0., 0., 0., 0.],\n",
       "        [0., 0., 0., 1., 0., 0., 0., 0.],\n",
       "        [0., 0., 0., 0., 1., 0., 0., 0.],\n",
       "        [0., 0., 0., 0., 0., 1., 0., 0.]])"
      ]
     },
     "execution_count": 4,
     "metadata": {},
     "output_type": "execute_result"
    }
   ],
   "source": [
    "import torch\n",
    "\n",
    "def corr2d(X,K):\n",
    "    h,w = K.shape\n",
    "    Y = torch.zeros(X.shape[0]-h+1, X.shape[1]-w+1)\n",
    "    for i in range(Y.shape[0]):\n",
    "        for j in range(Y.shape[1]):\n",
    "            Y[i, j] = (X[i:i+h, j:j+w]*K).sum()\n",
    "    return Y\n",
    "\n",
    "K = torch.tensor([[1.0,-1.0]])\n",
    "X = torch.eye(6,8)\n",
    "X"
   ]
  },
  {
   "cell_type": "markdown",
   "id": "ebecd2d5-b4dc-461f-bd73-a69003993f24",
   "metadata": {},
   "source": [
    "## 1.1 What happens if you apply the kernel K in this section to it?"
   ]
  },
  {
   "cell_type": "code",
   "execution_count": 8,
   "id": "6b71bb54-14fd-40a9-b80b-7c1fd47f546f",
   "metadata": {
    "tags": []
   },
   "outputs": [
    {
     "data": {
      "text/plain": [
       "tensor([[ 1.,  0.,  0.,  0.,  0.,  0.,  0.],\n",
       "        [-1.,  1.,  0.,  0.,  0.,  0.,  0.],\n",
       "        [ 0., -1.,  1.,  0.,  0.,  0.,  0.],\n",
       "        [ 0.,  0., -1.,  1.,  0.,  0.,  0.],\n",
       "        [ 0.,  0.,  0., -1.,  1.,  0.,  0.],\n",
       "        [ 0.,  0.,  0.,  0., -1.,  1.,  0.]])"
      ]
     },
     "execution_count": 8,
     "metadata": {},
     "output_type": "execute_result"
    }
   ],
   "source": [
    "corr2d(X, K)"
   ]
  },
  {
   "cell_type": "markdown",
   "id": "0906b0b8-246c-44d5-b757-89d11fecd908",
   "metadata": {},
   "source": [
    "## 1.2 What happens if you transpose X?"
   ]
  },
  {
   "cell_type": "code",
   "execution_count": 9,
   "id": "b480fd36-3a9a-4b39-bac1-0e0737c819ef",
   "metadata": {
    "tags": []
   },
   "outputs": [
    {
     "data": {
      "text/plain": [
       "tensor([[ 1.,  0.,  0.,  0.,  0.],\n",
       "        [-1.,  1.,  0.,  0.,  0.],\n",
       "        [ 0., -1.,  1.,  0.,  0.],\n",
       "        [ 0.,  0., -1.,  1.,  0.],\n",
       "        [ 0.,  0.,  0., -1.,  1.],\n",
       "        [ 0.,  0.,  0.,  0., -1.],\n",
       "        [ 0.,  0.,  0.,  0.,  0.],\n",
       "        [ 0.,  0.,  0.,  0.,  0.]])"
      ]
     },
     "execution_count": 9,
     "metadata": {},
     "output_type": "execute_result"
    }
   ],
   "source": [
    "corr2d(X.T, K)"
   ]
  },
  {
   "cell_type": "markdown",
   "id": "9ed7718b-5571-4671-8edc-2986f3b96590",
   "metadata": {},
   "source": [
    "## 1.3 What happens if you transpose K?"
   ]
  },
  {
   "cell_type": "code",
   "execution_count": 7,
   "id": "c25f175c-8607-415c-a90c-73c6e9010266",
   "metadata": {
    "tags": []
   },
   "outputs": [
    {
     "data": {
      "text/plain": [
       "tensor([[ 1., -1.,  0.,  0.,  0.,  0.,  0.,  0.],\n",
       "        [ 0.,  1., -1.,  0.,  0.,  0.,  0.,  0.],\n",
       "        [ 0.,  0.,  1., -1.,  0.,  0.,  0.,  0.],\n",
       "        [ 0.,  0.,  0.,  1., -1.,  0.,  0.,  0.],\n",
       "        [ 0.,  0.,  0.,  0.,  1., -1.,  0.,  0.]])"
      ]
     },
     "execution_count": 7,
     "metadata": {},
     "output_type": "execute_result"
    }
   ],
   "source": [
    "corr2d(X, K.T)"
   ]
  },
  {
   "cell_type": "markdown",
   "id": "f3f456cd-9892-4208-ba81-d235523d0e31",
   "metadata": {},
   "source": [
    "# 2. Design some kernels manually."
   ]
  },
  {
   "cell_type": "code",
   "execution_count": 263,
   "id": "9133d567-8393-4a70-90be-8c86a4ba3320",
   "metadata": {
    "tags": []
   },
   "outputs": [
    {
     "name": "stdout",
     "output_type": "stream",
     "text": [
      "Edge-detection kernel:\n",
      "tensor([[-0.7071,  0.7071],\n",
      "        [-0.7071, -0.7071]])\n"
     ]
    }
   ],
   "source": [
    "import torch\n",
    "\n",
    "# Define the directional vector\n",
    "v = torch.tensor([1, 1], dtype=torch.float32)  # Replace v1 and v2 with your values\n",
    "\n",
    "# Normalize the directional vector\n",
    "u = v / torch.norm(v)\n",
    "\n",
    "# Create the edge-detection kernel along the direction (v2, -v1)\n",
    "edge_detection_kernel = torch.tensor([[-u[1], u[0]],\n",
    "                                      [-u[0], -u[1]]], dtype=torch.float32)\n",
    "\n",
    "# Square the kernel element-wise to enhance edge detection effect\n",
    "# edge_detection_kernel_squared = edge_detection_kernel ** 2\n",
    "\n",
    "print(\"Edge-detection kernel:\")\n",
    "print(edge_detection_kernel)\n"
   ]
  },
  {
   "cell_type": "code",
   "execution_count": 256,
   "id": "5895d751-caaf-48f7-8914-45ab4cb9fcb4",
   "metadata": {
    "tags": []
   },
   "outputs": [
    {
     "data": {
      "text/plain": [
       "tensor([[1., 1., 1., 0., 0., 0., 0., 0.],\n",
       "        [0., 1., 1., 1., 0., 0., 0., 0.],\n",
       "        [0., 0., 1., 1., 1., 0., 0., 0.],\n",
       "        [0., 0., 0., 1., 1., 1., 0., 0.],\n",
       "        [0., 0., 0., 0., 1., 1., 1., 0.],\n",
       "        [0., 0., 0., 0., 0., 1., 1., 1.]])"
      ]
     },
     "execution_count": 256,
     "metadata": {},
     "output_type": "execute_result"
    }
   ],
   "source": [
    "pic"
   ]
  },
  {
   "cell_type": "code",
   "execution_count": 257,
   "id": "519cfa8e-c5df-4cbf-8979-f8c6365f1e22",
   "metadata": {
    "tags": []
   },
   "outputs": [
    {
     "data": {
      "text/plain": [
       "tensor([[ 0.,  1.,  0.,  0.,  0.,  0.,  0.],\n",
       "        [-1.,  0.,  1.,  0.,  0.,  0.,  0.],\n",
       "        [ 0., -1.,  0.,  1.,  0.,  0.,  0.],\n",
       "        [ 0.,  0., -1.,  0.,  1.,  0.,  0.],\n",
       "        [ 0.,  0.,  0., -1.,  0.,  1.,  0.]])"
      ]
     },
     "execution_count": 257,
     "metadata": {},
     "output_type": "execute_result"
    }
   ],
   "source": [
    "K = torch.tensor([[0,-1],[1,0]])\n",
    "corr2d(X,K)"
   ]
  },
  {
   "cell_type": "code",
   "execution_count": null,
   "id": "6ae58ae8-18f2-46ed-9306-10556ee264a9",
   "metadata": {},
   "outputs": [],
   "source": []
  },
  {
   "cell_type": "code",
   "execution_count": 238,
   "id": "d76f919b-6007-467c-94d4-67db41ac9b66",
   "metadata": {
    "tags": []
   },
   "outputs": [
    {
     "name": "stdout",
     "output_type": "stream",
     "text": [
      "tensor([[0., 0., 0., 0., 0., 1., 1., 0.],\n",
      "        [1., 0., 0., 0., 0., 1., 1., 1.],\n",
      "        [1., 1., 0., 0., 0., 0., 1., 1.],\n",
      "        [1., 1., 0., 0., 0., 0., 1., 1.],\n",
      "        [1., 1., 1., 0., 0., 0., 0., 1.],\n",
      "        [0., 1., 1., 0., 0., 0., 0., 0.]])\n"
     ]
    },
    {
     "data": {
      "text/plain": [
       "tensor([[0.6325, 0.0000, 0.0000, 0.0000, 0.6325, 2.5298],\n",
       "        [3.1623, 0.6325, 0.0000, 0.0000, 0.6325, 1.8974],\n",
       "        [2.5298, 1.8974, 0.0000, 0.0000, 0.0000, 0.6325],\n",
       "        [2.5298, 3.1623, 0.6325, 0.0000, 0.0000, 0.6325]])"
      ]
     },
     "execution_count": 238,
     "metadata": {},
     "output_type": "execute_result"
    }
   ],
   "source": [
    "def detect_edge(v,image_tensor):\n",
    "    theta = stat_theta(v)\n",
    "    kernel_x = torch.tensor([[1, 0, -1],\n",
    "                         [2, 0, -2],\n",
    "                         [1, 0, -1]], dtype=torch.float32)\n",
    "\n",
    "    kernel_y = torch.tensor([[1, 2, 1],\n",
    "                             [0, 0, 0],\n",
    "                             [-1, -2, -1]], dtype=torch.float32)\n",
    "    angle_radians = torch.deg2rad(torch.tensor(theta))\n",
    "    rotated_kernel_x = torch.tensor([[torch.cos(angle_radians), -torch.sin(angle_radians), 0],\n",
    "                                 [torch.sin(angle_radians), torch.cos(angle_radians), 0],\n",
    "                                 [0, 0, 0]])\n",
    "\n",
    "    rotated_kernel_y = torch.tensor([[torch.cos(angle_radians), -torch.sin(angle_radians), 0],\n",
    "                                     [torch.sin(angle_radians), torch.cos(angle_radians), 0],\n",
    "                                     [0, 0, 0]])\n",
    "    edge_detected_x = corr2d(image_tensor, rotated_kernel_x)\n",
    "    edge_detected_y = corr2d(image_tensor, rotated_kernel_y)\n",
    "    # Combine the x and y edge-detected results to get the final edge-detection result\n",
    "    edge_detected = torch.sqrt(edge_detected_x ** 2 + edge_detected_y ** 2)\n",
    "    return edge_detected\n",
    "\n",
    "r = [2,1]\n",
    "theta = stat_theta(r)\n",
    "b = tF.rotate(a.reshape(1,1,a.shape[0],-1,),angle=theta).reshape(a.shape[0],-1)\n",
    "print(b)\n",
    "detect_edge(r,b)"
   ]
  },
  {
   "cell_type": "code",
   "execution_count": 229,
   "id": "875d7bc3-1e01-4510-877d-a5cf15ba1646",
   "metadata": {
    "tags": []
   },
   "outputs": [],
   "source": [
    "K=torch.tensor([[0,-1],[1,0]])"
   ]
  },
  {
   "cell_type": "code",
   "execution_count": 228,
   "id": "c47825d3-8214-4e74-9ed5-ca5657bec12c",
   "metadata": {
    "tags": []
   },
   "outputs": [
    {
     "data": {
      "text/plain": [
       "tensor([[1., 1., 1., 0., 0., 0., 0., 0.],\n",
       "        [0., 1., 1., 1., 0., 0., 0., 0.],\n",
       "        [0., 0., 1., 1., 1., 0., 0., 0.],\n",
       "        [0., 0., 0., 1., 1., 1., 0., 0.],\n",
       "        [0., 0., 0., 0., 1., 1., 1., 0.],\n",
       "        [0., 0., 0., 0., 0., 1., 1., 1.]])"
      ]
     },
     "execution_count": 228,
     "metadata": {},
     "output_type": "execute_result"
    }
   ],
   "source": [
    "pic"
   ]
  },
  {
   "cell_type": "code",
   "execution_count": 230,
   "id": "58397b10-96cd-4ce5-90af-d67bd781ee32",
   "metadata": {
    "tags": []
   },
   "outputs": [
    {
     "data": {
      "text/plain": [
       "tensor([[-1.,  0.,  1.,  1.,  0.,  0.,  0.],\n",
       "        [-1., -1.,  0.,  1.,  1.,  0.,  0.],\n",
       "        [ 0., -1., -1.,  0.,  1.,  1.,  0.],\n",
       "        [ 0.,  0., -1., -1.,  0.,  1.,  1.],\n",
       "        [ 0.,  0.,  0., -1., -1.,  0.,  1.]])"
      ]
     },
     "execution_count": 230,
     "metadata": {},
     "output_type": "execute_result"
    }
   ],
   "source": [
    "corr2d(pic,K)"
   ]
  },
  {
   "cell_type": "code",
   "execution_count": 225,
   "id": "028b1b53-93ad-4cda-b8d3-32ae61d00d49",
   "metadata": {
    "tags": []
   },
   "outputs": [
    {
     "name": "stdout",
     "output_type": "stream",
     "text": [
      "tensor(1.5708) tensor([-4.3711e-08,  1.0000e+00])\n"
     ]
    },
    {
     "data": {
      "text/plain": [
       "tensor([[1.0000e+00, 4.3711e-08],\n",
       "        [4.3711e-08, 1.9107e-15]])"
      ]
     },
     "execution_count": 225,
     "metadata": {},
     "output_type": "execute_result"
    }
   ],
   "source": [
    "angle_degrees = 90\n",
    "rotated_angle_radians = torch.deg2rad(torch.tensor(angle_degrees))\n",
    "v = torch.tensor([torch.cos(rotated_angle_radians), torch.sin(rotated_angle_radians)])\n",
    "print(rotated_angle_radians,v)\n",
    "# Compute the orthogonal direction\n",
    "orthogonal_direction = torch.tensor([v[1], -v[0]])\n",
    "\n",
    "# Create the edge-detection kernel\n",
    "kernel = torch.outer(orthogonal_direction, orthogonal_direction)\n",
    "kernel"
   ]
  },
  {
   "cell_type": "code",
   "execution_count": 226,
   "id": "e8b0b7e1-82b1-4d0c-ad81-0e07419432d6",
   "metadata": {
    "tags": []
   },
   "outputs": [
    {
     "data": {
      "text/plain": [
       "tensor([[1.0000e+00, 1.0000e+00, 0.0000e+00, 0.0000e+00, 0.0000e+00, 4.3711e-08,\n",
       "         1.0000e+00],\n",
       "        [1.0000e+00, 1.0000e+00, 0.0000e+00, 0.0000e+00, 0.0000e+00, 4.3711e-08,\n",
       "         1.0000e+00],\n",
       "        [1.0000e+00, 1.0000e+00, 0.0000e+00, 0.0000e+00, 0.0000e+00, 4.3711e-08,\n",
       "         1.0000e+00],\n",
       "        [1.0000e+00, 1.0000e+00, 0.0000e+00, 0.0000e+00, 0.0000e+00, 4.3711e-08,\n",
       "         1.0000e+00],\n",
       "        [1.0000e+00, 1.0000e+00, 0.0000e+00, 0.0000e+00, 0.0000e+00, 4.3711e-08,\n",
       "         1.0000e+00]])"
      ]
     },
     "execution_count": 226,
     "metadata": {},
     "output_type": "execute_result"
    }
   ],
   "source": [
    "corr2d(a,kernel)"
   ]
  },
  {
   "cell_type": "code",
   "execution_count": 253,
   "id": "ecd0519f-3cb7-4ca6-b061-55271e43f86e",
   "metadata": {
    "tags": []
   },
   "outputs": [
    {
     "name": "stdout",
     "output_type": "stream",
     "text": [
      "tensor([[ 0,  0],\n",
      "        [-1,  1]])\n",
      "tensor([[1., 1., 0., 0., 0., 0., 1., 1.],\n",
      "        [1., 1., 0., 0., 0., 0., 1., 1.],\n",
      "        [1., 1., 0., 0., 0., 0., 1., 1.],\n",
      "        [1., 1., 0., 0., 0., 0., 1., 1.],\n",
      "        [1., 1., 0., 0., 0., 0., 1., 1.],\n",
      "        [1., 1., 0., 0., 0., 0., 1., 1.]])\n"
     ]
    },
    {
     "data": {
      "text/plain": [
       "tensor([[ 0., -1.,  0.,  0.,  0.,  1.,  0.],\n",
       "        [ 0., -1.,  0.,  0.,  0.,  1.,  0.],\n",
       "        [ 0., -1.,  0.,  0.,  0.,  1.,  0.],\n",
       "        [ 0., -1.,  0.,  0.,  0.,  1.,  0.],\n",
       "        [ 0., -1.,  0.,  0.,  0.,  1.,  0.]])"
      ]
     },
     "execution_count": 253,
     "metadata": {},
     "output_type": "execute_result"
    }
   ],
   "source": [
    "import torch.nn as nn\n",
    "import torch.nn.functional as F\n",
    "import torchvision.transforms.functional as tF\n",
    "def stat_theta(r):\n",
    "    v = [1,0]\n",
    "    theta = math.acos(F.cosine_similarity(torch.tensor(r).type(torch.float32),torch.tensor(v).type(torch.float32),dim=0))/math.pi*180\n",
    "    return theta\n",
    "\n",
    "def gen_K(v):\n",
    "    u = torch.tensor([[-v[1], v[0]]])\n",
    "    K = torch.cat((-u,u),dim=0).T\n",
    "    # K = torch.cat((u,torch.zeros(u.shape),-1*u)).reshape(1,-1)\n",
    "    return K\n",
    "\n",
    "r = [1,0]\n",
    "theta = stat_theta(r)\n",
    "K = gen_K(r)\n",
    "print(K)\n",
    "b = tF.rotate(a.reshape(1,1,a.shape[0],-1,),angle=theta).reshape(a.shape[0],-1)\n",
    "print(b)\n",
    "corr2d(b,K)"
   ]
  },
  {
   "cell_type": "code",
   "execution_count": 255,
   "id": "92764c3f-3782-43f7-b3bc-99c3e8d57e12",
   "metadata": {
    "tags": []
   },
   "outputs": [
    {
     "name": "stdout",
     "output_type": "stream",
     "text": [
      "tensor([[ 1, -1],\n",
      "        [ 0,  0]])\n",
      "tensor([[1., 1., 1., 1., 1., 1., 1., 1.],\n",
      "        [1., 1., 1., 1., 1., 1., 1., 1.],\n",
      "        [0., 0., 0., 0., 0., 0., 0., 0.],\n",
      "        [0., 0., 0., 0., 0., 0., 0., 0.],\n",
      "        [1., 1., 1., 1., 1., 1., 1., 1.],\n",
      "        [1., 1., 1., 1., 1., 1., 1., 1.]])\n"
     ]
    },
    {
     "data": {
      "text/plain": [
       "tensor([[0., 0., 0., 0., 0., 0., 0.],\n",
       "        [0., 0., 0., 0., 0., 0., 0.],\n",
       "        [0., 0., 0., 0., 0., 0., 0.],\n",
       "        [0., 0., 0., 0., 0., 0., 0.],\n",
       "        [0., 0., 0., 0., 0., 0., 0.]])"
      ]
     },
     "execution_count": 255,
     "metadata": {},
     "output_type": "execute_result"
    }
   ],
   "source": [
    "r = [0,1]\n",
    "theta = stat_theta(r)\n",
    "K = gen_K(r)\n",
    "print(K)\n",
    "b = tF.rotate(a.reshape(1,1,a.shape[0],-1,),angle=theta).reshape(a.shape[0],-1)\n",
    "b[0:2,:]=1\n",
    "b[-2:,:]=1\n",
    "print(b)\n",
    "corr2d(b,K)"
   ]
  },
  {
   "cell_type": "code",
   "execution_count": 261,
   "id": "c2ebc6bb-03cb-4c7b-95f8-3fca73faf68a",
   "metadata": {
    "tags": []
   },
   "outputs": [
    {
     "name": "stdout",
     "output_type": "stream",
     "text": [
      "tensor([[ 1, -1],\n",
      "        [-1,  1]])\n",
      "tensor([[1., 1., 1., 1., 1., 1., 1., 1.],\n",
      "        [1., 1., 1., 1., 1., 1., 1., 1.],\n",
      "        [1., 0., 0., 0., 0., 0., 1., 1.],\n",
      "        [1., 1., 0., 0., 0., 0., 0., 1.],\n",
      "        [1., 1., 1., 1., 1., 1., 1., 1.],\n",
      "        [1., 1., 1., 1., 1., 1., 1., 1.]])\n"
     ]
    },
    {
     "data": {
      "text/plain": [
       "tensor([[ 0.,  0.,  0.,  0.,  0.,  0.,  0.],\n",
       "        [-1.,  0.,  0.,  0.,  0.,  1.,  0.],\n",
       "        [ 1., -1.,  0.,  0.,  0., -1.,  1.],\n",
       "        [ 0.,  1.,  0.,  0.,  0.,  0., -1.],\n",
       "        [ 0.,  0.,  0.,  0.,  0.,  0.,  0.]])"
      ]
     },
     "execution_count": 261,
     "metadata": {},
     "output_type": "execute_result"
    }
   ],
   "source": [
    "r = [1,1]\n",
    "theta = stat_theta(r)\n",
    "K = gen_K(r)\n",
    "print(K)\n",
    "b = tF.rotate(a.reshape(1,1,a.shape[0],-1,),angle=theta).reshape(a.shape[0],-1)\n",
    "b[0:2,:]=1\n",
    "b[-2:,:]=1\n",
    "print(b)\n",
    "corr2d(b,K)"
   ]
  },
  {
   "cell_type": "code",
   "execution_count": 169,
   "id": "51d52a03-8b87-4f80-9535-e64ac5464d18",
   "metadata": {
    "tags": []
   },
   "outputs": [
    {
     "data": {
      "text/plain": [
       "tensor([[ 0., -1.,  0.,  0.,  0.,  1.,  0.],\n",
       "        [ 0., -1.,  0.,  0.,  0.,  1.,  0.],\n",
       "        [ 0., -1.,  0.,  0.,  0.,  1.,  0.],\n",
       "        [ 0., -1.,  0.,  0.,  0.,  1.,  0.],\n",
       "        [ 0., -1.,  0.,  0.,  0.,  1.,  0.]])"
      ]
     },
     "execution_count": 169,
     "metadata": {},
     "output_type": "execute_result"
    }
   ],
   "source": [
    "corr2d(a,K.T)"
   ]
  },
  {
   "cell_type": "code",
   "execution_count": 133,
   "id": "796a0e37-1eff-4d8b-bf1d-9b24fc5cd16f",
   "metadata": {
    "tags": []
   },
   "outputs": [
    {
     "data": {
      "text/plain": [
       "tensor([[0., 0., 0., 0., 0., 1., 1., 0.],\n",
       "        [0., 0., 0., 0., 0., 1., 1., 1.],\n",
       "        [1., 0., 0., 0., 0., 0., 1., 1.],\n",
       "        [1., 1., 0., 0., 0., 0., 0., 1.],\n",
       "        [1., 1., 1., 0., 0., 0., 0., 0.],\n",
       "        [0., 1., 1., 0., 0., 0., 0., 0.]])"
      ]
     },
     "execution_count": 133,
     "metadata": {},
     "output_type": "execute_result"
    }
   ],
   "source": [
    "b = F.rotate(a.reshape(1,1,a.shape[0],-1,),angle=30).reshape(a.shape[0],-1)\n",
    "b"
   ]
  },
  {
   "cell_type": "code",
   "execution_count": 147,
   "id": "28282245-e7b8-409c-a74f-15fc624a1073",
   "metadata": {
    "tags": []
   },
   "outputs": [
    {
     "data": {
      "text/plain": [
       "tensor([[1., 0., 0.],\n",
       "        [0., 0., 1.]])"
      ]
     },
     "execution_count": 147,
     "metadata": {},
     "output_type": "execute_result"
    }
   ],
   "source": [
    "K = torch.zeros(2,3)\n",
    "K[-1,-1] = 1\n",
    "K[0,0] = 1\n",
    "K"
   ]
  },
  {
   "cell_type": "code",
   "execution_count": 149,
   "id": "6579c9a1-14a7-45bb-a132-336408970de4",
   "metadata": {
    "tags": []
   },
   "outputs": [
    {
     "data": {
      "text/plain": [
       "tensor([[0., 0., 0., 0., 0., 1., 1., 0.],\n",
       "        [0., 0., 0., 0., 0., 1., 1., 1.],\n",
       "        [1., 0., 0., 0., 0., 0., 1., 1.],\n",
       "        [1., 1., 0., 0., 0., 0., 0., 1.],\n",
       "        [1., 1., 1., 0., 0., 0., 0., 0.],\n",
       "        [0., 1., 1., 0., 0., 0., 0., 0.]])"
      ]
     },
     "execution_count": 149,
     "metadata": {},
     "output_type": "execute_result"
    }
   ],
   "source": [
    "b"
   ]
  },
  {
   "cell_type": "code",
   "execution_count": 148,
   "id": "82ac7c02-da89-4238-9184-977004c89c9f",
   "metadata": {
    "tags": []
   },
   "outputs": [
    {
     "data": {
      "text/plain": [
       "tensor([[0., 0., 0., 1., 1., 2.],\n",
       "        [0., 0., 0., 0., 1., 2.],\n",
       "        [1., 0., 0., 0., 0., 1.],\n",
       "        [2., 1., 0., 0., 0., 0.],\n",
       "        [2., 1., 1., 0., 0., 0.]])"
      ]
     },
     "execution_count": 148,
     "metadata": {},
     "output_type": "execute_result"
    }
   ],
   "source": [
    "corr2d(b,K)"
   ]
  },
  {
   "cell_type": "code",
   "execution_count": 102,
   "id": "1fcebc33-a768-48e8-a794-517d0d273e2f",
   "metadata": {
    "tags": []
   },
   "outputs": [
    {
     "name": "stdout",
     "output_type": "stream",
     "text": [
      "Original points:\n",
      "tensor([[1., 2.],\n",
      "        [3., 4.],\n",
      "        [5., 6.]])\n",
      "Rotated points:\n",
      "tensor([[2.1213, 0.7071],\n",
      "        [4.9497, 0.7071],\n",
      "        [7.7782, 0.7071]])\n"
     ]
    }
   ],
   "source": [
    "import torch\n",
    "import torchvision.transforms.functional as F\n",
    "\n",
    "# Define the angle of rotation in degrees\n",
    "angle_degrees = 45\n",
    "\n",
    "# Convert the angle to radians\n",
    "angle_radians = torch.deg2rad(torch.tensor(angle_degrees))\n",
    "\n",
    "# Create the rotation matrix\n",
    "rotation_matrix = torch.tensor([[torch.cos(angle_radians), -torch.sin(angle_radians)],\n",
    "                                [torch.sin(angle_radians), torch.cos(angle_radians)]])\n",
    "\n",
    "# Define the original matrix (points to rotate)\n",
    "points = torch.tensor([[1, 2],\n",
    "                       [3, 4],\n",
    "                       [5, 6]], dtype=torch.float32)\n",
    "\n",
    "# Apply rotation using matrix multiplication\n",
    "rotated_points = torch.mm(points, rotation_matrix)\n",
    "\n",
    "print(\"Original points:\")\n",
    "print(points)\n",
    "print(\"Rotated points:\")\n",
    "print(rotated_points)\n"
   ]
  },
  {
   "cell_type": "markdown",
   "id": "ee31f43b-47a2-4cfd-b1d5-3e194b64689a",
   "metadata": {},
   "source": [
    "## 2.1 Given a directional vector $\\vec{v}=(v_1,v_2)$, derive an edge-detection kernel that detects edges orthogonal to $\\vec{v}$, i.e., edges in the direction $(v_2,-v_1)$."
   ]
  },
  {
   "cell_type": "code",
   "execution_count": 99,
   "id": "1e4f0a8b-5561-4fdd-b3d5-c7b3f81f52a8",
   "metadata": {
    "tags": []
   },
   "outputs": [
    {
     "name": "stdout",
     "output_type": "stream",
     "text": [
      "Edge-detection kernel:\n",
      "tensor([[ 16., -12.],\n",
      "        [-12.,   9.]])\n"
     ]
    }
   ],
   "source": [
    "import torch\n",
    "\n",
    "# Define the directional vector\n",
    "v = torch.tensor([3, 4], dtype=torch.float32)\n",
    "\n",
    "# Compute the orthogonal direction\n",
    "orthogonal_direction = torch.tensor([v[1], -v[0]])\n",
    "\n",
    "# Create the edge-detection kernel\n",
    "kernel = torch.outer(orthogonal_direction, orthogonal_direction)\n",
    "\n",
    "print(\"Edge-detection kernel:\")\n",
    "print(kernel)\n"
   ]
  },
  {
   "cell_type": "code",
   "execution_count": 100,
   "id": "0dff1f3a-d3a4-402c-ae27-966c0673fd16",
   "metadata": {
    "tags": []
   },
   "outputs": [
    {
     "name": "stdout",
     "output_type": "stream",
     "text": [
      "Original matrix:\n",
      "tensor([[ 0.,  4.,  8., 12., 16.],\n",
      "        [ 3.,  7., 11., 15., 19.],\n",
      "        [ 6., 10., 14., 18., 22.],\n",
      "        [ 9., 13., 17., 21., 25.],\n",
      "        [12., 16., 20., 24., 28.]])\n",
      "Edge-detected matrix:\n",
      "tensor([[-21., -17., -13.,  -9.],\n",
      "        [-18., -14., -10.,  -6.],\n",
      "        [-15., -11.,  -7.,  -3.],\n",
      "        [-12.,  -8.,  -4.,   0.]])\n"
     ]
    }
   ],
   "source": [
    "import torch\n",
    "\n",
    "# Define the directional vector\n",
    "v = torch.tensor([3, 4], dtype=torch.float32)\n",
    "\n",
    "# Compute the orthogonal direction\n",
    "orthogonal_direction = torch.tensor([v[1], -v[0]], dtype=torch.float32)\n",
    "\n",
    "# Create the edge-detection kernel\n",
    "kernel = torch.outer(orthogonal_direction, orthogonal_direction)\n",
    "\n",
    "# Define the matrix size\n",
    "matrix_size = 5\n",
    "\n",
    "# Create the example matrix with the given direction\n",
    "matrix = torch.zeros((matrix_size, matrix_size), dtype=torch.float32)\n",
    "for i in range(matrix_size):\n",
    "    for j in range(matrix_size):\n",
    "        matrix[i, j] = v.dot(torch.tensor([i, j], dtype=torch.float32))\n",
    "\n",
    "# Apply the edge-detection kernel using convolution\n",
    "edge_detected = torch.conv2d(matrix.unsqueeze(0).unsqueeze(0), kernel.unsqueeze(0).unsqueeze(0))\n",
    "\n",
    "print(\"Original matrix:\")\n",
    "print(matrix)\n",
    "print(\"Edge-detected matrix:\")\n",
    "print(edge_detected.squeeze())\n"
   ]
  },
  {
   "cell_type": "code",
   "execution_count": 87,
   "id": "b1d477a4-1912-4bc5-b728-5bab824c8572",
   "metadata": {
    "tags": []
   },
   "outputs": [
    {
     "data": {
      "text/plain": [
       "tensor([[1., 1., 0., 0., 0., 0., 1., 1.],\n",
       "        [1., 1., 0., 0., 0., 0., 1., 1.],\n",
       "        [1., 1., 0., 0., 0., 0., 1., 1.],\n",
       "        [1., 1., 0., 0., 0., 0., 1., 1.],\n",
       "        [1., 1., 0., 0., 0., 0., 1., 1.],\n",
       "        [1., 1., 0., 0., 0., 0., 1., 1.]])"
      ]
     },
     "execution_count": 87,
     "metadata": {},
     "output_type": "execute_result"
    }
   ],
   "source": [
    "a = torch.ones((6, 8))\n",
    "a[:, 2:6] = 0\n",
    "a"
   ]
  },
  {
   "cell_type": "code",
   "execution_count": 93,
   "id": "625cb0af-4963-4231-894e-ec89414ddcd5",
   "metadata": {
    "tags": []
   },
   "outputs": [
    {
     "data": {
      "text/plain": [
       "tensor([[ 0.,  0.,  0.,  0.,  0.,  1., -2.],\n",
       "        [ 0.,  0.,  0.,  0.,  1., -2.,  1.],\n",
       "        [ 0.,  0.,  0.,  1., -2.,  1.,  0.],\n",
       "        [ 0.,  0.,  1., -2.,  1.,  0.,  0.],\n",
       "        [ 0.,  1., -2.,  1.,  0.,  0.,  0.]])"
      ]
     },
     "execution_count": 93,
     "metadata": {},
     "output_type": "execute_result"
    }
   ],
   "source": [
    "K = torch.tensor([[1,-1],[-1,1]])\n",
    "corr2d(torch.fliplr(X),K)"
   ]
  },
  {
   "cell_type": "code",
   "execution_count": 84,
   "id": "910c023e-a072-4e45-9360-caffa64818bd",
   "metadata": {
    "tags": []
   },
   "outputs": [
    {
     "name": "stdout",
     "output_type": "stream",
     "text": [
      "Original matrix A:\n",
      "tensor([[1., 2., 3.],\n",
      "        [4., 5., 6.],\n",
      "        [7., 8., 9.]])\n",
      "Diagonal-replaced matrix:\n",
      "tensor([[10.,  0.,  0.],\n",
      "        [ 0., 20.,  0.],\n",
      "        [ 0.,  0., 30.]])\n"
     ]
    }
   ],
   "source": [
    "import torch\n",
    "\n",
    "# Create a sample matrix A\n",
    "A = torch.tensor([[1, 2, 3],\n",
    "                  [4, 5, 6],\n",
    "                  [7, 8, 9]], dtype=torch.float32)\n",
    "\n",
    "# Create a tensor D with diagonal elements for replacement\n",
    "D = torch.tensor([10, 20, 30], dtype=torch.float32)\n",
    "\n",
    "# Replace diagonal elements of A with D\n",
    "A_diag_replaced = torch.diag_embed(D)\n",
    "\n",
    "print(\"Original matrix A:\")\n",
    "print(A)\n",
    "print(\"Diagonal-replaced matrix:\")\n",
    "print(A_diag_replaced)\n"
   ]
  },
  {
   "cell_type": "code",
   "execution_count": 68,
   "id": "200d52b1-973f-40cd-aedb-858c5255cbb5",
   "metadata": {
    "tags": []
   },
   "outputs": [
    {
     "data": {
      "text/plain": [
       "tensor([[0., 0., 0., 0., 0., 1., 1., 1.],\n",
       "        [0., 0., 0., 0., 1., 1., 1., 0.],\n",
       "        [0., 0., 0., 1., 1., 1., 0., 0.],\n",
       "        [0., 0., 1., 1., 1., 0., 0., 0.],\n",
       "        [0., 1., 1., 1., 0., 0., 0., 0.],\n",
       "        [1., 1., 1., 0., 0., 0., 0., 0.]])"
      ]
     },
     "execution_count": 68,
     "metadata": {},
     "output_type": "execute_result"
    }
   ],
   "source": [
    "torch.fliplr(pic)"
   ]
  },
  {
   "cell_type": "code",
   "execution_count": 64,
   "id": "f31dab13-9c08-4c48-8ff3-587d2445ecf1",
   "metadata": {
    "tags": []
   },
   "outputs": [
    {
     "data": {
      "text/plain": [
       "tensor([[ 1, -1],\n",
       "        [-1,  1]])"
      ]
     },
     "execution_count": 64,
     "metadata": {},
     "output_type": "execute_result"
    }
   ],
   "source": [
    "K = torch.tensor([[1,-1],[-1,1]])\n",
    "K"
   ]
  },
  {
   "cell_type": "code",
   "execution_count": 72,
   "id": "50d9df8e-4bcd-4310-824c-ab7ce12e72db",
   "metadata": {
    "tags": []
   },
   "outputs": [
    {
     "data": {
      "text/plain": [
       "tensor([[ 0.,  0.,  0.,  1., -1.,  0., -1.],\n",
       "        [ 0.,  0.,  1., -1.,  0., -1.,  1.],\n",
       "        [ 0.,  1., -1.,  0., -1.,  1.,  0.],\n",
       "        [ 1., -1.,  0., -1.,  1.,  0.,  0.],\n",
       "        [-1.,  0., -1.,  1.,  0.,  0.,  0.]])"
      ]
     },
     "execution_count": 72,
     "metadata": {},
     "output_type": "execute_result"
    }
   ],
   "source": [
    "corr2d(torch.fliplr(pic),K)"
   ]
  },
  {
   "cell_type": "code",
   "execution_count": 41,
   "id": "e58f44a4-df5c-4219-8d01-d8ccfdb0cc2d",
   "metadata": {
    "tags": []
   },
   "outputs": [
    {
     "ename": "RuntimeError",
     "evalue": "mat1 and mat2 shapes cannot be multiplied (2x2 and 3x3)",
     "output_type": "error",
     "traceback": [
      "\u001b[0;31m---------------------------------------------------------------------------\u001b[0m",
      "\u001b[0;31mRuntimeError\u001b[0m                              Traceback (most recent call last)",
      "Cell \u001b[0;32mIn[41], line 19\u001b[0m\n\u001b[1;32m     15\u001b[0m rotation_matrix \u001b[38;5;241m=\u001b[39m torch\u001b[38;5;241m.\u001b[39mtensor([[torch\u001b[38;5;241m.\u001b[39mcos(angle_radians), \u001b[38;5;241m-\u001b[39mtorch\u001b[38;5;241m.\u001b[39msin(angle_radians)],\n\u001b[1;32m     16\u001b[0m                                 [torch\u001b[38;5;241m.\u001b[39msin(angle_radians), torch\u001b[38;5;241m.\u001b[39mcos(angle_radians)]])\n\u001b[1;32m     18\u001b[0m \u001b[38;5;66;03m# Perform the rotation using matrix multiplication\u001b[39;00m\n\u001b[0;32m---> 19\u001b[0m rotated_matrix \u001b[38;5;241m=\u001b[39m \u001b[43mtorch\u001b[49m\u001b[38;5;241;43m.\u001b[39;49m\u001b[43mmm\u001b[49m\u001b[43m(\u001b[49m\u001b[43mrotation_matrix\u001b[49m\u001b[43m,\u001b[49m\u001b[43m \u001b[49m\u001b[43mmatrix\u001b[49m\u001b[43m)\u001b[49m\n\u001b[1;32m     21\u001b[0m \u001b[38;5;28mprint\u001b[39m(\u001b[38;5;124m\"\u001b[39m\u001b[38;5;124mOriginal matrix:\u001b[39m\u001b[38;5;124m\"\u001b[39m)\n\u001b[1;32m     22\u001b[0m \u001b[38;5;28mprint\u001b[39m(matrix)\n",
      "\u001b[0;31mRuntimeError\u001b[0m: mat1 and mat2 shapes cannot be multiplied (2x2 and 3x3)"
     ]
    }
   ],
   "source": [
    "import torch\n",
    "\n",
    "# Create a sample 2D matrix\n",
    "matrix = torch.tensor([[1, 2, 3],\n",
    "                       [4, 5, 6],\n",
    "                       [7, 8, 9]], dtype=torch.float32)\n",
    "\n",
    "# Define the rotation angle in degrees\n",
    "angle_degrees = 90\n",
    "\n",
    "# Convert the angle to radians\n",
    "angle_radians = torch.deg2rad(torch.tensor(angle_degrees))\n",
    "\n",
    "# Define the rotation matrix\n",
    "rotation_matrix = torch.tensor([[torch.cos(angle_radians), -torch.sin(angle_radians)],\n",
    "                                [torch.sin(angle_radians), torch.cos(angle_radians)]])\n",
    "\n",
    "# Perform the rotation using matrix multiplication\n",
    "rotated_matrix = torch.mm(rotation_matrix, matrix)\n",
    "\n",
    "print(\"Original matrix:\")\n",
    "print(matrix)\n",
    "print(\"Rotated matrix:\")\n",
    "print(rotated_matrix)\n"
   ]
  },
  {
   "cell_type": "code",
   "execution_count": 37,
   "id": "dd3d3eab-586d-45e6-aa66-17c6fecb1fb7",
   "metadata": {
    "tags": []
   },
   "outputs": [
    {
     "data": {
      "text/plain": [
       "tensor([[1., 1., 1., 0., 0., 0., 0., 0.],\n",
       "        [0., 1., 1., 1., 0., 0., 0., 0.],\n",
       "        [0., 0., 1., 1., 1., 0., 0., 0.],\n",
       "        [0., 0., 0., 1., 1., 1., 0., 0.],\n",
       "        [0., 0., 0., 0., 1., 1., 1., 0.],\n",
       "        [0., 0., 0., 0., 0., 1., 1., 1.]])"
      ]
     },
     "execution_count": 37,
     "metadata": {},
     "output_type": "execute_result"
    }
   ],
   "source": [
    "pic = torch.roll(X, shifts=[2],dims=[1])+torch.roll(X, shifts=[1],dims=[1])+X\n",
    "pic"
   ]
  },
  {
   "cell_type": "code",
   "execution_count": 40,
   "id": "9bc33c6e-606f-4de5-bef7-c0dede07617e",
   "metadata": {
    "tags": []
   },
   "outputs": [
    {
     "data": {
      "text/plain": [
       "tensor([[0., 1.],\n",
       "        [1., 0.]])"
      ]
     },
     "execution_count": 40,
     "metadata": {},
     "output_type": "execute_result"
    }
   ],
   "source": [
    "v = [2,2]\n",
    "K = torch.eye(*v)\n",
    "if v[0]*v[1] > 0:\n",
    "    K = torch.fliplr(K)\n",
    "K"
   ]
  },
  {
   "cell_type": "code",
   "execution_count": 39,
   "id": "310d1b3b-08f2-4ffc-8b06-b28000ffd6bf",
   "metadata": {
    "tags": []
   },
   "outputs": [
    {
     "data": {
      "text/plain": [
       "tensor([[1., 2., 1., 1., 0., 0., 0.],\n",
       "        [1., 1., 2., 1., 1., 0., 0.],\n",
       "        [0., 1., 1., 2., 1., 1., 0.],\n",
       "        [0., 0., 1., 1., 2., 1., 1.],\n",
       "        [0., 0., 0., 1., 1., 2., 1.]])"
      ]
     },
     "execution_count": 39,
     "metadata": {},
     "output_type": "execute_result"
    }
   ],
   "source": [
    "corr2d(pic,K)"
   ]
  },
  {
   "cell_type": "code",
   "execution_count": 24,
   "id": "3c0dd197-76dd-49c1-a050-e6ec7b315d7b",
   "metadata": {
    "tags": []
   },
   "outputs": [
    {
     "data": {
      "text/plain": [
       "tensor([[1, 0, 0],\n",
       "        [0, 2, 0],\n",
       "        [0, 0, 3]])"
      ]
     },
     "execution_count": 24,
     "metadata": {},
     "output_type": "execute_result"
    }
   ],
   "source": [
    "torch.diag(torch.tensor([1,2,3]), diagonal=0 )"
   ]
  },
  {
   "cell_type": "code",
   "execution_count": 29,
   "id": "c3fe0e51-ec57-4653-9b82-3756b4a64a0d",
   "metadata": {
    "tags": []
   },
   "outputs": [
    {
     "data": {
      "text/plain": [
       "tensor([[0, 0, 1],\n",
       "        [0, 2, 0],\n",
       "        [3, 0, 0]])"
      ]
     },
     "execution_count": 29,
     "metadata": {},
     "output_type": "execute_result"
    }
   ],
   "source": [
    "torch.fliplr(torch.diag(torch.tensor([1,2,3]), diagonal=0 ))"
   ]
  },
  {
   "cell_type": "markdown",
   "id": "349f8837-f468-4e46-a9ea-3e4309ed185b",
   "metadata": {},
   "source": [
    "## 2.2 Derive a finite difference operator for the second derivative. What is the minimum size of the convolutional kernel associated with it? Which structures in images respond most strongly to it?\n"
   ]
  },
  {
   "cell_type": "markdown",
   "id": "81484b65-ff3a-43e2-aa70-e5dbe11607eb",
   "metadata": {},
   "source": [
    "## 2.3 How would you design a blur kernel? Why might you want to use such a kernel?"
   ]
  },
  {
   "cell_type": "markdown",
   "id": "2ebb9154-cd94-4554-b121-346ef78b60d5",
   "metadata": {},
   "source": [
    "## 2.4 What is the minimum size of a kernel to obtain a derivative of order?"
   ]
  },
  {
   "cell_type": "markdown",
   "id": "5352cde1-11e5-4a5b-8ad2-066fcb425c95",
   "metadata": {},
   "source": [
    "# 3. When you try to automatically find the gradient for the Conv2D class we created, what kind of error message do you see?\n",
    "\n"
   ]
  },
  {
   "cell_type": "markdown",
   "id": "3ce80ed2-6954-47ce-b001-9154dab5cdb5",
   "metadata": {},
   "source": []
  },
  {
   "cell_type": "markdown",
   "id": "39f41747-dbbf-4273-9d18-c2b37020afb4",
   "metadata": {},
   "source": [
    "# 4. How do you represent a cross-correlation operation as a matrix multiplication by changing the input and kernel tensors?"
   ]
  },
  {
   "cell_type": "markdown",
   "id": "088f2be2-f9d5-40c1-8b55-9be31c0b0cf3",
   "metadata": {},
   "source": []
  },
  {
   "cell_type": "markdown",
   "id": "43b6ec03-50ec-4301-8025-e8a837dbe30c",
   "metadata": {},
   "source": []
  },
  {
   "cell_type": "markdown",
   "id": "eab9f66e-1437-4e25-b218-7aa5dd79a9d9",
   "metadata": {},
   "source": []
  },
  {
   "cell_type": "markdown",
   "id": "2cf172d0-f13d-423c-80b8-aa621e86a30a",
   "metadata": {},
   "source": []
  },
  {
   "cell_type": "markdown",
   "id": "19348e9c-17ff-433c-a3ee-d010ec3180c1",
   "metadata": {},
   "source": []
  },
  {
   "cell_type": "markdown",
   "id": "0e210f22-f69c-4dc2-bf94-6ec8e49b6947",
   "metadata": {},
   "source": []
  },
  {
   "cell_type": "markdown",
   "id": "6219be62-71bd-4179-999f-9d4876d5fdc7",
   "metadata": {},
   "source": []
  }
 ],
 "metadata": {
  "kernelspec": {
   "display_name": "Python [conda env:d2l]",
   "language": "python",
   "name": "conda-env-d2l-py"
  },
  "language_info": {
   "codemirror_mode": {
    "name": "ipython",
    "version": 3
   },
   "file_extension": ".py",
   "mimetype": "text/x-python",
   "name": "python",
   "nbconvert_exporter": "python",
   "pygments_lexer": "ipython3",
   "version": "3.11.4"
  }
 },
 "nbformat": 4,
 "nbformat_minor": 5
}
