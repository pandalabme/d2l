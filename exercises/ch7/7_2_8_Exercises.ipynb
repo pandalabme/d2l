{
 "cells": [
  {
   "cell_type": "markdown",
   "id": "e092f1f8-8b39-4859-9fe5-744fc0a942e7",
   "metadata": {},
   "source": [
    "# 1. Construct an image X with diagonal edges."
   ]
  },
  {
   "cell_type": "code",
   "execution_count": null,
   "id": "26884bae-ff3b-47a6-be5d-dc1c0ca36b2c",
   "metadata": {},
   "outputs": [],
   "source": [
    "import torch\n",
    "\n",
    "def corr2d(X,K):\n",
    "    h,\n",
    "\n",
    "\n",
    "K = torch.tensor([[1.0,-1.0]])"
   ]
  },
  {
   "cell_type": "markdown",
   "id": "ebecd2d5-b4dc-461f-bd73-a69003993f24",
   "metadata": {},
   "source": [
    "## 1.1 What happens if you apply the kernel K in this section to it?"
   ]
  },
  {
   "cell_type": "markdown",
   "id": "0906b0b8-246c-44d5-b757-89d11fecd908",
   "metadata": {},
   "source": [
    "## 1.2 What happens if you transpose X?"
   ]
  },
  {
   "cell_type": "markdown",
   "id": "9ed7718b-5571-4671-8edc-2986f3b96590",
   "metadata": {},
   "source": [
    "## 1.3 What happens if you transpose K?"
   ]
  },
  {
   "cell_type": "markdown",
   "id": "f3f456cd-9892-4208-ba81-d235523d0e31",
   "metadata": {},
   "source": [
    "# 2. Design some kernels manually.\n",
    "\n",
    "Given a directional vector \n",
    ", derive an edge-detection kernel that detects edges orthogonal to \n",
    ", i.e., edges in the direction \n",
    ".\n",
    "\n",
    "Derive a finite difference operator for the second derivative. What is the minimum size of the convolutional kernel associated with it? Which structures in images respond most strongly to it?\n",
    "\n",
    "How would you design a blur kernel? Why might you want to use such a kernel?\n",
    "\n",
    "What is the minimum size of a kernel to obtain a derivative of order \n",
    "?\n",
    "\n"
   ]
  },
  {
   "cell_type": "markdown",
   "id": "ee31f43b-47a2-4cfd-b1d5-3e194b64689a",
   "metadata": {},
   "source": []
  },
  {
   "cell_type": "markdown",
   "id": "349f8837-f468-4e46-a9ea-3e4309ed185b",
   "metadata": {},
   "source": []
  },
  {
   "cell_type": "markdown",
   "id": "81484b65-ff3a-43e2-aa70-e5dbe11607eb",
   "metadata": {},
   "source": []
  },
  {
   "cell_type": "markdown",
   "id": "2ebb9154-cd94-4554-b121-346ef78b60d5",
   "metadata": {},
   "source": []
  },
  {
   "cell_type": "markdown",
   "id": "5352cde1-11e5-4a5b-8ad2-066fcb425c95",
   "metadata": {},
   "source": [
    "# 3. When you try to automatically find the gradient for the Conv2D class we created, what kind of error message do you see?\n",
    "\n"
   ]
  },
  {
   "cell_type": "markdown",
   "id": "3ce80ed2-6954-47ce-b001-9154dab5cdb5",
   "metadata": {},
   "source": []
  },
  {
   "cell_type": "markdown",
   "id": "39f41747-dbbf-4273-9d18-c2b37020afb4",
   "metadata": {},
   "source": [
    "# 4. How do you represent a cross-correlation operation as a matrix multiplication by changing the input and kernel tensors?"
   ]
  },
  {
   "cell_type": "markdown",
   "id": "088f2be2-f9d5-40c1-8b55-9be31c0b0cf3",
   "metadata": {},
   "source": []
  },
  {
   "cell_type": "markdown",
   "id": "43b6ec03-50ec-4301-8025-e8a837dbe30c",
   "metadata": {},
   "source": []
  },
  {
   "cell_type": "markdown",
   "id": "eab9f66e-1437-4e25-b218-7aa5dd79a9d9",
   "metadata": {},
   "source": []
  },
  {
   "cell_type": "markdown",
   "id": "2cf172d0-f13d-423c-80b8-aa621e86a30a",
   "metadata": {},
   "source": []
  },
  {
   "cell_type": "markdown",
   "id": "19348e9c-17ff-433c-a3ee-d010ec3180c1",
   "metadata": {},
   "source": []
  },
  {
   "cell_type": "markdown",
   "id": "0e210f22-f69c-4dc2-bf94-6ec8e49b6947",
   "metadata": {},
   "source": []
  },
  {
   "cell_type": "markdown",
   "id": "6219be62-71bd-4179-999f-9d4876d5fdc7",
   "metadata": {},
   "source": []
  }
 ],
 "metadata": {
  "kernelspec": {
   "display_name": "Python [conda env:d2l]",
   "language": "python",
   "name": "conda-env-d2l-py"
  },
  "language_info": {
   "codemirror_mode": {
    "name": "ipython",
    "version": 3
   },
   "file_extension": ".py",
   "mimetype": "text/x-python",
   "name": "python",
   "nbconvert_exporter": "python",
   "pygments_lexer": "ipython3",
   "version": "3.11.4"
  }
 },
 "nbformat": 4,
 "nbformat_minor": 5
}
