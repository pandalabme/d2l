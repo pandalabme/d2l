{
 "cells": [
  {
   "cell_type": "markdown",
   "id": "62b05ffd-ad4c-4314-8e71-4b01522ec1f4",
   "metadata": {},
   "source": [
    "# 1. Implement average pooling through a convolution."
   ]
  },
  {
   "cell_type": "code",
   "execution_count": 6,
   "id": "f6b39245-514e-4f80-b935-94b1187e565e",
   "metadata": {
    "tags": []
   },
   "outputs": [
    {
     "name": "stdout",
     "output_type": "stream",
     "text": [
      "tensor([[[[-0.2548, -0.9004,  1.2047, -0.3124,  0.6214,  0.5526],\n",
      "          [-0.0407, -0.2220, -0.1048, -0.3434, -0.2535,  2.1091],\n",
      "          [ 0.7223, -0.4832, -1.2391,  0.2195, -1.2479,  0.7798],\n",
      "          [-0.7320, -1.7425,  0.1385,  1.4043,  0.1163, -0.2561],\n",
      "          [-0.5119, -0.8785, -0.7798, -1.1799, -1.0041,  0.3349],\n",
      "          [-0.4481, -0.0313, -1.8601, -0.4983,  0.5341, -0.3495]]]])\n",
      "tensor([[[[-0.3545,  0.1110,  0.7574],\n",
      "          [-0.5589,  0.1308, -0.1520],\n",
      "          [-0.4674, -1.0795, -0.1211]]]])\n"
     ]
    }
   ],
   "source": [
    "import torch\n",
    "import torch.nn.functional as F\n",
    "\n",
    "def average_pooling_conv(input_tensor, pool_size):\n",
    "    batch_size, channels, height, width = input_tensor.size()\n",
    "    kernel_size = (pool_size, pool_size)\n",
    "    stride = (pool_size, pool_size)\n",
    "\n",
    "    # Define the average pooling kernel\n",
    "    kernel = torch.ones((channels, 1, pool_size, pool_size)) / (pool_size * pool_size)\n",
    "\n",
    "    # Apply the convolution operation with average pooling kernel\n",
    "    output_tensor = F.conv2d(input_tensor, kernel, stride=stride, padding=0, groups=channels)\n",
    "\n",
    "    return output_tensor\n",
    "\n",
    "# Example usage\n",
    "input_tensor = torch.randn(1, 1, 6, 6)  # Batch size of 1, 3 channels, 6x6 input\n",
    "pool_size = 2\n",
    "output_tensor = average_pooling_conv(input_tensor, pool_size)\n",
    "print(input_tensor)\n",
    "print(output_tensor)"
   ]
  },
  {
   "cell_type": "markdown",
   "id": "f15cf23e-3608-48e4-bfa8-5b7b9fbf95a6",
   "metadata": {},
   "source": [
    "# 2. Prove that max-pooling cannot be implemented through a convolution alone."
   ]
  },
  {
   "cell_type": "markdown",
   "id": "d497d33c-242c-451f-baea-0a4f554fc91d",
   "metadata": {},
   "source": [
    "Max-pooling cannot be implemented through a convolution alone because max-pooling involves a non-linear operation that selects the maximum value within a pooling window, while convolution is a linear operation that computes a weighted sum of values within a kernel window. The non-linearity of max-pooling is essential for its behavior, and it cannot be achieved solely through linear convolution."
   ]
  },
  {
   "cell_type": "markdown",
   "id": "82ecb4d2-bdab-40ef-a807-8126335f1706",
   "metadata": {},
   "source": [
    "# 3. Max-pooling can be accomplished using ReLU operations, i.e., $ReLU(x)=max(0,x)$."
   ]
  },
  {
   "cell_type": "markdown",
   "id": "a2400b31-e102-483c-9084-6ad6675f3dac",
   "metadata": {},
   "source": [
    "## 3.1 Express $max(a,b)$ by using only ReLU operations."
   ]
  },
  {
   "cell_type": "markdown",
   "id": "7baf490f-0920-4051-9822-792e039d84cc",
   "metadata": {},
   "source": [
    "$max(a,b) = ReLU(a-b)+b$"
   ]
  },
  {
   "cell_type": "code",
   "execution_count": 19,
   "id": "f586e8e6-2c88-4de8-b366-99fd9137061b",
   "metadata": {
    "tags": []
   },
   "outputs": [
    {
     "name": "stdout",
     "output_type": "stream",
     "text": [
      "4 94 94\n"
     ]
    },
    {
     "data": {
      "text/plain": [
       "True"
      ]
     },
     "execution_count": 19,
     "metadata": {},
     "output_type": "execute_result"
    }
   ],
   "source": [
    "import random\n",
    "def relu(x):\n",
    "    return max(x,0)\n",
    "# 生成随机整数\n",
    "a = random.randint(-100, 100)  # 生成1到100之间的随机整数\n",
    "b = random.randint(-100, 100)  # 生成1到100之间的随机整数\n",
    "print(a,b,max(a,b))\n",
    "relu(a-b)+b == max(a,b)"
   ]
  },
  {
   "cell_type": "code",
   "execution_count": 32,
   "id": "0d56fd6b-bdf2-4abf-b545-0d5b77d848b1",
   "metadata": {
    "tags": []
   },
   "outputs": [
    {
     "data": {
      "text/plain": [
       "tensor(True)"
      ]
     },
     "execution_count": 32,
     "metadata": {},
     "output_type": "execute_result"
    }
   ],
   "source": [
    "a = torch.tensor([2,3])\n",
    "b = torch.tensor([1,5])\n",
    "c = torch.max(a,b)\n",
    "(relu(a-b)+b == c).all()"
   ]
  },
  {
   "cell_type": "markdown",
   "id": "4383075b-5a57-4b2e-821e-c0d8d51f3392",
   "metadata": {},
   "source": [
    "## 3.2 Use this to implement max-pooling by means of convolutions and ReLU layers."
   ]
  },
  {
   "cell_type": "code",
   "execution_count": 44,
   "id": "45d4c2d3-7dd9-4858-bf33-8d56ce0c3b04",
   "metadata": {
    "tags": []
   },
   "outputs": [
    {
     "name": "stdout",
     "output_type": "stream",
     "text": [
      "tensor([[[[-1.3226,  0.2061, -0.1055, -0.0231,  1.1557,  0.0235],\n",
      "          [ 0.7217, -0.4185,  0.1732,  0.5446,  0.5935, -0.3394],\n",
      "          [ 0.1075, -0.9181, -0.6921,  0.5263, -1.5948, -1.0824],\n",
      "          [ 0.2959,  1.0360, -0.8432,  0.0958, -0.2052,  0.8342],\n",
      "          [ 2.1395,  0.1743, -1.5479, -0.4525,  0.4780, -0.5466],\n",
      "          [ 0.9333, -1.1564,  1.0396,  0.4543, -0.3832, -1.0517]]]])\n",
      "tensor([[[[0.7217, 0.5446, 1.1557],\n",
      "          [1.0360, 0.5263, 0.8342],\n",
      "          [2.1395, 1.0396, 0.4780]]]])\n"
     ]
    }
   ],
   "source": [
    "def max_pooling_conv(input_tensor, pool_size):\n",
    "    batch_size, channels, height, width = input_tensor.size()\n",
    "    kernel_size = (pool_size, pool_size)\n",
    "    stride = (pool_size, pool_size)\n",
    "    output_shape = F.conv2d(input_tensor, torch.ones((channels, 1, pool_size, pool_size)), stride=stride, padding=0, groups=channels).shape\n",
    "    output_tensor = torch.tensor([-torch.inf]*output_shape.numel()).reshape(output_shape)\n",
    "    # Define the average pooling kernel\n",
    "    for i in range(pool_size*pool_size):\n",
    "        kernel = torch.zeros(pool_size*pool_size)\n",
    "        kernel[i] = 1\n",
    "        kernel = kernel.reshape(channels, 1, pool_size, pool_size)\n",
    "    # Apply the convolution operation with average pooling kernel\n",
    "        temp = F.conv2d(input_tensor, kernel, stride=stride, padding=0, groups=channels)\n",
    "        output_tensor = relu(output_tensor - temp) + temp\n",
    "    return output_tensor\n",
    "\n",
    "# Example usage\n",
    "input_tensor = torch.randn(1, 1, 6, 6)  # Batch size of 1, 3 channels, 6x6 input\n",
    "pool_size = 2\n",
    "output_tensor = max_pooling_conv(input_tensor, pool_size)\n",
    "print(input_tensor)\n",
    "print(output_tensor)"
   ]
  },
  {
   "cell_type": "markdown",
   "id": "9bb61996-9787-4642-86e6-edddc26dd91e",
   "metadata": {},
   "source": [
    "## 3.3 How many channels and layers do you need for a $2\\times 2$ convolution? How many for a $3\\times 3$ convolution?"
   ]
  },
  {
   "cell_type": "markdown",
   "id": "49d60fc6-6e5e-43db-bfec-0fa477f6c7a4",
   "metadata": {},
   "source": [
    "$n\\times n$ convolution needs $n^2$ channels and layer, so we need 4 for $2\\times 2$ convolution, 9 for $3\\times 3$convolution."
   ]
  },
  {
   "cell_type": "markdown",
   "id": "ccf8e6d1-6edb-4504-a1f1-72020656d3c2",
   "metadata": {},
   "source": [
    "# 4. What is the computational cost of the pooling layer? Assume that the input to the pooling layer is of size $c\\times h\\times w$, the pooling window has a shape of $p_h\\times p_w$ with a padding of $(p_h,p_w)$ and a stride of $(s_h,s_w)$."
   ]
  },
  {
   "cell_type": "markdown",
   "id": "b7167135-57d5-4ef7-9a76-ca3c0fcbce16",
   "metadata": {},
   "source": [
    "$c\\times[(h+p_h-p_h+s_h)//s_h]\\times[(w+p_w-p_w+s_w)//s_w]\\times p_h\\times p_w$"
   ]
  },
  {
   "cell_type": "markdown",
   "id": "10d693f5-7acc-454e-8786-39684f057d29",
   "metadata": {},
   "source": [
    "# 5. Why do you expect max-pooling and average pooling to work differently?"
   ]
  },
  {
   "cell_type": "markdown",
   "id": "1d76215b-ece1-4e77-a107-14558c1388fd",
   "metadata": {},
   "source": [
    "Max-pooling and average pooling are two different types of pooling operations commonly used in convolutional neural networks (CNNs) for downsampling input feature maps. They work differently due to the nature of the aggregation strategies they employ.\n",
    "\n",
    "1. **Max-Pooling**:\n",
    "   - Max-pooling selects the maximum value from the pooling window and retains it as the representative value for that region.\n",
    "   - Max-pooling is particularly effective at capturing the most prominent features within the window. It emphasizes the presence of strong activations and helps to identify significant patterns in the data.\n",
    "   - It is robust to noise and variations in the data, as it prioritizes the most dominant information.\n",
    "\n",
    "2. **Average Pooling**:\n",
    "   - Average pooling calculates the average value of all the elements within the pooling window and uses this average as the representative value for that region.\n",
    "   - Average pooling provides a more smoothed representation of the data. It can help capture a broader understanding of the data distribution within the window.\n",
    "   - It can mitigate the impact of outliers and noise in the data, as extreme values have less influence due to the averaging.\n",
    "\n",
    "Due to these differences, max-pooling and average pooling tend to work differently in various scenarios:\n",
    "\n",
    "- **Feature Detection**: Max-pooling is better suited for detecting distinctive features, edges, and patterns in the input. It retains the most salient activations, helping the network focus on significant details.\n",
    "- **Global Information**: Average pooling captures global information within a region, providing a broader context. This can be useful when a more generalized understanding of the data is needed.\n",
    "- **Robustness**: Max-pooling is robust to noise and can handle variations well. Average pooling can smooth out variations and mitigate noise to some extent.\n",
    "\n",
    "In practice, the choice between max-pooling and average pooling depends on the task, the nature of the data, and the architecture of the neural network. In many cases, max-pooling is preferred for its feature-preserving properties and ability to capture distinctive patterns. Average pooling might be useful when a more holistic representation or noise reduction is desired."
   ]
  },
  {
   "cell_type": "markdown",
   "id": "3868a834-93be-40fe-8a6e-a1c8a169f7e9",
   "metadata": {},
   "source": [
    "# 6. Do we need a separate minimum pooling layer? Can you replace it with another operation?"
   ]
  },
  {
   "cell_type": "markdown",
   "id": "210f6d92-db1e-4952-b213-c6b4924561a6",
   "metadata": {},
   "source": [
    "We can replace minium poolying layer with $-max(-a,-b)$"
   ]
  },
  {
   "cell_type": "code",
   "execution_count": 48,
   "id": "218e6b94-0966-4c10-92be-330b5d7afc08",
   "metadata": {
    "tags": []
   },
   "outputs": [
    {
     "data": {
      "text/plain": [
       "tensor(True)"
      ]
     },
     "execution_count": 48,
     "metadata": {},
     "output_type": "execute_result"
    }
   ],
   "source": [
    "a = torch.tensor([2,3])\n",
    "b = torch.tensor([1,5])\n",
    "(-torch.max(-a,-b) == torch.min(a,b)).all()"
   ]
  },
  {
   "cell_type": "markdown",
   "id": "6f94a63a-fea8-485a-914d-7f4559e10997",
   "metadata": {},
   "source": [
    "# 7. We could use the softmax operation for pooling. Why might it not be so popular?"
   ]
  },
  {
   "cell_type": "markdown",
   "id": "1b064cc6-257f-4bfc-aa53-9f5900e296d7",
   "metadata": {},
   "source": [
    "Using the softmax operation for pooling is theoretically possible, but it's not a commonly used approach in practice for several reasons:\n",
    "\n",
    "1. **Numerical Stability**: Softmax is sensitive to the scale of input values. When applied to a large set of values, it involves exponentiation, which can lead to numerical instability and overflow issues. This can cause the gradients during backpropagation to become very small or large, affecting the learning process.\n",
    "\n",
    "2. **Normalization**: Softmax is a normalization operation that converts input values into probabilities that sum to 1. This normalization means that the pooled values are context-dependent and relative to the other values in the pooling window. This might not always be suitable for pooling, where the goal is to retain the most prominent features, rather than redistributing them as probabilities.\n",
    "\n",
    "3. **Loss of Discriminative Information**: Softmax pooling could lead to a loss of discriminative information. It doesn't emphasize the strongest activations as effectively as max-pooling does, potentially reducing the network's ability to detect important features.\n",
    "\n",
    "4. **Complexity**: Softmax pooling introduces additional computational complexity due to the exponentiation and normalization steps. This can slow down training and inference times, making it less efficient compared to other pooling methods.\n",
    "\n",
    "5. **Lack of Invariance**: Pooling operations like max-pooling and average pooling provide invariance to small translations or perturbations in the input data, making them more robust. Softmax pooling, being context-dependent and sensitive to the distribution of values, might not offer the same level of invariance.\n",
    "\n",
    "6. **Architectural Consistency**: Softmax is commonly used in the output layer of a neural network for classification tasks. Using it as a pooling operation might break the architectural consistency and clear separation between different layers in the network.\n",
    "\n",
    "In summary, while softmax pooling is theoretically possible, it's not widely adopted in practice due to its numerical instability, normalization effects, potential loss of discriminative information, increased complexity, lack of invariance, and inconsistency with common architectural choices. Max-pooling and average pooling remain the dominant choices for pooling operations in most convolutional neural network architectures."
   ]
  }
 ],
 "metadata": {
  "kernelspec": {
   "display_name": "Python [conda env:d2l]",
   "language": "python",
   "name": "conda-env-d2l-py"
  },
  "language_info": {
   "codemirror_mode": {
    "name": "ipython",
    "version": 3
   },
   "file_extension": ".py",
   "mimetype": "text/x-python",
   "name": "python",
   "nbconvert_exporter": "python",
   "pygments_lexer": "ipython3",
   "version": "3.11.4"
  }
 },
 "nbformat": 4,
 "nbformat_minor": 5
}
