{
 "cells": [
  {
   "cell_type": "markdown",
   "id": "62b05ffd-ad4c-4314-8e71-4b01522ec1f4",
   "metadata": {},
   "source": [
    "# 1. Implement average pooling through a convolution."
   ]
  },
  {
   "cell_type": "code",
   "execution_count": 6,
   "id": "f6b39245-514e-4f80-b935-94b1187e565e",
   "metadata": {
    "tags": []
   },
   "outputs": [
    {
     "name": "stdout",
     "output_type": "stream",
     "text": [
      "tensor([[[[-0.2548, -0.9004,  1.2047, -0.3124,  0.6214,  0.5526],\n",
      "          [-0.0407, -0.2220, -0.1048, -0.3434, -0.2535,  2.1091],\n",
      "          [ 0.7223, -0.4832, -1.2391,  0.2195, -1.2479,  0.7798],\n",
      "          [-0.7320, -1.7425,  0.1385,  1.4043,  0.1163, -0.2561],\n",
      "          [-0.5119, -0.8785, -0.7798, -1.1799, -1.0041,  0.3349],\n",
      "          [-0.4481, -0.0313, -1.8601, -0.4983,  0.5341, -0.3495]]]])\n",
      "tensor([[[[-0.3545,  0.1110,  0.7574],\n",
      "          [-0.5589,  0.1308, -0.1520],\n",
      "          [-0.4674, -1.0795, -0.1211]]]])\n"
     ]
    }
   ],
   "source": [
    "import torch\n",
    "import torch.nn.functional as F\n",
    "\n",
    "def average_pooling_conv(input_tensor, pool_size):\n",
    "    batch_size, channels, height, width = input_tensor.size()\n",
    "    kernel_size = (pool_size, pool_size)\n",
    "    stride = (pool_size, pool_size)\n",
    "    \n",
    "    # Define the average pooling kernel\n",
    "    kernel = torch.ones((channels, 1, pool_size, pool_size)) / (pool_size * pool_size)\n",
    "    \n",
    "    # Apply the convolution operation with average pooling kernel\n",
    "    output_tensor = F.conv2d(input_tensor, kernel, stride=stride, padding=0, groups=channels)\n",
    "    \n",
    "    return output_tensor\n",
    "\n",
    "# Example usage\n",
    "input_tensor = torch.randn(1, 1, 6, 6)  # Batch size of 1, 3 channels, 6x6 input\n",
    "pool_size = 2\n",
    "output_tensor = average_pooling_conv(input_tensor, pool_size)\n",
    "print(input_tensor)\n",
    "print(output_tensor)"
   ]
  },
  {
   "cell_type": "markdown",
   "id": "f15cf23e-3608-48e4-bfa8-5b7b9fbf95a6",
   "metadata": {},
   "source": [
    "# 2. Prove that max-pooling cannot be implemented through a convolution alone."
   ]
  },
  {
   "cell_type": "markdown",
   "id": "d497d33c-242c-451f-baea-0a4f554fc91d",
   "metadata": {},
   "source": [
    "Max-pooling cannot be implemented through a convolution alone because max-pooling involves a non-linear operation that selects the maximum value within a pooling window, while convolution is a linear operation that computes a weighted sum of values within a kernel window. The non-linearity of max-pooling is essential for its behavior, and it cannot be achieved solely through linear convolution."
   ]
  },
  {
   "cell_type": "markdown",
   "id": "82ecb4d2-bdab-40ef-a807-8126335f1706",
   "metadata": {},
   "source": [
    "# 3. Max-pooling can be accomplished using ReLU operations, i.e., $ReLU(x)=max(0,x)$."
   ]
  },
  {
   "cell_type": "markdown",
   "id": "a2400b31-e102-483c-9084-6ad6675f3dac",
   "metadata": {},
   "source": [
    "## 3.1 Express $max(a,b)$ by using only ReLU operations."
   ]
  },
  {
   "cell_type": "markdown",
   "id": "7baf490f-0920-4051-9822-792e039d84cc",
   "metadata": {},
   "source": [
    "$max(a,b) = ReLU(a-b)+b$"
   ]
  },
  {
   "cell_type": "markdown",
   "id": "4383075b-5a57-4b2e-821e-c0d8d51f3392",
   "metadata": {},
   "source": [
    "## 3.2 Use this to implement max-pooling by means of convolutions and ReLU layers.\n",
    "\n"
   ]
  },
  {
   "cell_type": "markdown",
   "id": "8df245b1-a117-48ce-8ed6-40c0b400f5a3",
   "metadata": {},
   "source": []
  },
  {
   "cell_type": "markdown",
   "id": "9bb61996-9787-4642-86e6-edddc26dd91e",
   "metadata": {},
   "source": [
    "## 3.3 How many channels and layers do you need for a \n",
    " convolution? How many for a \n",
    " convolution?\n",
    "\n"
   ]
  },
  {
   "cell_type": "markdown",
   "id": "49d60fc6-6e5e-43db-bfec-0fa477f6c7a4",
   "metadata": {},
   "source": []
  },
  {
   "cell_type": "markdown",
   "id": "ccf8e6d1-6edb-4504-a1f1-72020656d3c2",
   "metadata": {},
   "source": [
    "# 4. What is the computational cost of the pooling layer? Assume that the input to the pooling layer is of size \n",
    ", the pooling window has a shape of \n",
    " with a padding of \n",
    " and a stride of \n",
    ".\n",
    "\n"
   ]
  },
  {
   "cell_type": "markdown",
   "id": "b7167135-57d5-4ef7-9a76-ca3c0fcbce16",
   "metadata": {},
   "source": []
  },
  {
   "cell_type": "markdown",
   "id": "10d693f5-7acc-454e-8786-39684f057d29",
   "metadata": {},
   "source": [
    "# 5. Why do you expect max-pooling and average pooling to work differently?\n",
    "\n"
   ]
  },
  {
   "cell_type": "markdown",
   "id": "1d76215b-ece1-4e77-a107-14558c1388fd",
   "metadata": {},
   "source": []
  },
  {
   "cell_type": "markdown",
   "id": "3868a834-93be-40fe-8a6e-a1c8a169f7e9",
   "metadata": {},
   "source": [
    "# 6. Do we need a separate minimum pooling layer? Can you replace it with another operation?\n",
    "\n"
   ]
  },
  {
   "cell_type": "markdown",
   "id": "73c1fdd7-e423-478b-9f44-75058a92206e",
   "metadata": {},
   "source": []
  },
  {
   "cell_type": "markdown",
   "id": "6f94a63a-fea8-485a-914d-7f4559e10997",
   "metadata": {},
   "source": [
    "# 7. We could use the softmax operation for pooling. Why might it not be so popular?"
   ]
  }
 ],
 "metadata": {
  "kernelspec": {
   "display_name": "Python [conda env:d2l]",
   "language": "python",
   "name": "conda-env-d2l-py"
  },
  "language_info": {
   "codemirror_mode": {
    "name": "ipython",
    "version": 3
   },
   "file_extension": ".py",
   "mimetype": "text/x-python",
   "name": "python",
   "nbconvert_exporter": "python",
   "pygments_lexer": "ipython3",
   "version": "3.11.4"
  }
 },
 "nbformat": 4,
 "nbformat_minor": 5
}
