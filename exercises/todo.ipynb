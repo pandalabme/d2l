{
 "cells": [
  {
   "cell_type": "markdown",
   "id": "b11412c8-6718-47b5-b808-12579dfe3963",
   "metadata": {},
   "source": [
    "multi-label classification\n",
    "https://people.iee.ihu.gr/~stoug/odep/papers/Multi-Label%20Classification:%20An%20Overview.pdf\n",
    "https://arxiv.org/abs/1508.01991"
   ]
  },
  {
   "cell_type": "code",
   "execution_count": null,
   "id": "d0c6d49d-f4b2-462f-9355-e2d11d605621",
   "metadata": {},
   "outputs": [],
   "source": [
    "ordinal regression\n",
    "http://www.wsdm-conference.org/2010/proceedings/docs/p151.pdf\n",
    "https://kentonmurray.com/www2014.cobafi.pdf"
   ]
  }
 ],
 "metadata": {
  "kernelspec": {
   "display_name": "Python [conda env:d2l]",
   "language": "python",
   "name": "conda-env-d2l-py"
  },
  "language_info": {
   "codemirror_mode": {
    "name": "ipython",
    "version": 3
   },
   "file_extension": ".py",
   "mimetype": "text/x-python",
   "name": "python",
   "nbconvert_exporter": "python",
   "pygments_lexer": "ipython3",
   "version": "3.11.4"
  }
 },
 "nbformat": 4,
 "nbformat_minor": 5
}
