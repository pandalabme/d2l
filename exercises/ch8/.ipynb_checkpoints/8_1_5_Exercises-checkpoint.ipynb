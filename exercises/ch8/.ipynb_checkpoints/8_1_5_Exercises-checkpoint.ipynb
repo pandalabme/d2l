{
 "cells": [
  {
   "cell_type": "code",
   "execution_count": null,
   "id": "ed2ba8f2-1739-4056-a928-df58282076b3",
   "metadata": {},
   "outputs": [],
   "source": [
    "!jupyter nbconvert --to markdown 7_5_5_Exercises.ipynb"
   ]
  },
  {
   "cell_type": "code",
   "execution_count": null,
   "id": "25305ff5-77d3-47fe-805d-e92e63e3ee83",
   "metadata": {},
   "outputs": [],
   "source": [
    "import sys\n",
    "import torch.nn as nn\n",
    "import torch\n",
    "import warnings\n",
    "sys.path.append('/home/jovyan/work/d2l_solutions/notebooks/exercises/d2l_utils/')\n",
    "import d2l\n",
    "warnings.filterwarnings(\"ignore\")"
   ]
  },
  {
   "cell_type": "markdown",
   "id": "b908c2c9-9fdb-40f5-9df9-211a8e1c15dd",
   "metadata": {},
   "source": [
    "# 1. Following up on the discussion above, analyze the computational properties of AlexNet.\n",
    "\n"
   ]
  },
  {
   "cell_type": "markdown",
   "id": "68b9a42a-90da-4c0d-a314-6a8b112f730c",
   "metadata": {},
   "source": [
    "## 1.1 Compute the memory footprint for convolutions and fully connected layers, respectively. Which one dominates?\n",
    "\n"
   ]
  },
  {
   "cell_type": "markdown",
   "id": "6057efe5-b929-4358-8a15-b1ad19eb316c",
   "metadata": {},
   "source": [
    "## 1.2 Calculate the computational cost for the convolutions and the fully connected layers.\n",
    "\n"
   ]
  },
  {
   "cell_type": "markdown",
   "id": "0b2be978-176c-49b1-a24a-4925f55984ea",
   "metadata": {},
   "source": [
    "## 1.3 How does the memory (read and write bandwidth, latency, size) affect computation? Is there any difference in its effects for training and inference?\n",
    "\n"
   ]
  },
  {
   "cell_type": "markdown",
   "id": "0817e088-7115-4b37-8869-2dee9a3ce75b",
   "metadata": {},
   "source": [
    "# 2. You are a chip designer and need to trade off computation and memory bandwidth. For example, a faster chip requires more power and possibly a larger chip area. More memory bandwidth requires more pins and control logic, thus also more area. How do you optimize?\n",
    "\n"
   ]
  },
  {
   "cell_type": "markdown",
   "id": "23fd2c24-fafe-40dd-ab27-4eb260fbef14",
   "metadata": {},
   "source": [
    "# 3. Why do engineers no longer report performance benchmarks on AlexNet?\n",
    "\n"
   ]
  },
  {
   "cell_type": "markdown",
   "id": "b6be6392-0a50-4e6d-80da-ffb7d9723396",
   "metadata": {},
   "source": [
    "# 4. Try increasing the number of epochs when training AlexNet. Compared with LeNet, how do the results differ? Why?\n",
    "\n"
   ]
  },
  {
   "cell_type": "markdown",
   "id": "df5d88c1-21ca-4fb8-b4be-77a21d8d01c3",
   "metadata": {},
   "source": [
    "# 5. AlexNet may be too complex for the Fashion-MNIST dataset, in particular due to the low resolution of the initial images.\n",
    "\n"
   ]
  },
  {
   "cell_type": "markdown",
   "id": "630a9314-1280-43f5-b350-abfd4763a3e4",
   "metadata": {},
   "source": [
    "## 5.1 Try simplifying the model to make the training faster, while ensuring that the accuracy does not drop significantly.\n"
   ]
  },
  {
   "cell_type": "markdown",
   "id": "33759102-52db-43e3-8bd1-1801ca3d50ca",
   "metadata": {},
   "source": [
    "## 5.2 Design a better model that works directly on \n",
    " images.\n",
    "\n"
   ]
  },
  {
   "cell_type": "markdown",
   "id": "dd1c9e94-673f-4279-8595-ee6ebab6713b",
   "metadata": {},
   "source": [
    "# 6. Modify the batch size, and observe the changes in throughput (images/s), accuracy, and GPU memory.\n",
    "\n"
   ]
  },
  {
   "cell_type": "markdown",
   "id": "94c9dc2c-7118-4f8b-b0cb-b96cb3e76016",
   "metadata": {},
   "source": [
    "# 7. Apply dropout and ReLU to LeNet-5. Does it improve? Can you improve things further by preprocessing to take advantage of the invariances inherent in the images?\n",
    "\n"
   ]
  },
  {
   "cell_type": "markdown",
   "id": "40228f09-dd07-4a92-8d0f-fd90e9c26cbd",
   "metadata": {},
   "source": [
    "# 8. Can you make AlexNet overfit? Which feature do you need to remove or change to break training?"
   ]
  },
  {
   "cell_type": "markdown",
   "id": "27390c9f-97fc-46af-9a62-7ccdaa3809ac",
   "metadata": {},
   "source": []
  },
  {
   "cell_type": "markdown",
   "id": "466538b8-0361-4207-8b78-8c24086db3cc",
   "metadata": {},
   "source": []
  },
  {
   "cell_type": "markdown",
   "id": "9a5bcec9-b107-45bc-878a-fd8556dc449c",
   "metadata": {},
   "source": []
  },
  {
   "cell_type": "markdown",
   "id": "3cb700a3-0caf-41fe-b66b-afd4d2dc2cd2",
   "metadata": {},
   "source": []
  }
 ],
 "metadata": {
  "kernelspec": {
   "display_name": "Python [conda env:d2l]",
   "language": "python",
   "name": "conda-env-d2l-py"
  },
  "language_info": {
   "codemirror_mode": {
    "name": "ipython",
    "version": 3
   },
   "file_extension": ".py",
   "mimetype": "text/x-python",
   "name": "python",
   "nbconvert_exporter": "python",
   "pygments_lexer": "ipython3",
   "version": "3.11.4"
  }
 },
 "nbformat": 4,
 "nbformat_minor": 5
}
