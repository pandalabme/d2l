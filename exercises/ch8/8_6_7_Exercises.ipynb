{
 "cells": [
  {
   "cell_type": "markdown",
   "id": "1388e1cf-2977-4026-a9e3-62fd8791d6b5",
   "metadata": {},
   "source": [
    "# 1. What are the major differences between the Inception block in Fig. 8.4.1 and the residual block? How do they compare in terms of computation, accuracy, and the classes of functions they can describe?\n",
    "\n"
   ]
  },
  {
   "cell_type": "markdown",
   "id": "20b10a7c-cff4-4715-a38d-2a79d1b1857e",
   "metadata": {},
   "source": [
    "# 2. Refer to Table 1 in the ResNet paper (He et al., 2016) to implement different variants of the network.\n",
    "\n"
   ]
  },
  {
   "cell_type": "markdown",
   "id": "bc603c7b-da0c-4fb1-9ebc-4d74a73cca81",
   "metadata": {},
   "source": [
    "# 3. For deeper networks, ResNet introduces a “bottleneck” architecture to reduce model complexity. Try to implement it.\n",
    "\n"
   ]
  },
  {
   "cell_type": "markdown",
   "id": "9feac9db-5dd9-4919-8115-458b2faf261d",
   "metadata": {},
   "source": [
    "# 4. In subsequent versions of ResNet, the authors changed the “convolution, batch normalization, and activation” structure to the “batch normalization, activation, and convolution” structure. Make this improvement yourself. See Figure 1 in He et al. (2016) for details."
   ]
  },
  {
   "cell_type": "markdown",
   "id": "56c8fa53-7d9f-43aa-bed3-23232f0f7cda",
   "metadata": {},
   "source": [
    "# 5. Why can’t we just increase the complexity of functions without bound, even if the function classes are nested?"
   ]
  },
  {
   "cell_type": "markdown",
   "id": "09f2aaf8-a2fa-4e42-84da-b6629e41f61b",
   "metadata": {},
   "source": []
  },
  {
   "cell_type": "markdown",
   "id": "97c718e5-75fd-4012-856e-4af6ae3d269c",
   "metadata": {},
   "source": []
  },
  {
   "cell_type": "markdown",
   "id": "0bdb9bc1-5746-4e9c-bae9-d423c206eef4",
   "metadata": {},
   "source": []
  },
  {
   "cell_type": "markdown",
   "id": "b24465ef-1258-4d28-8abd-4678c7e13911",
   "metadata": {},
   "source": []
  },
  {
   "cell_type": "markdown",
   "id": "84de0066-1259-4ae3-a386-2b6b85efd254",
   "metadata": {},
   "source": []
  },
  {
   "cell_type": "markdown",
   "id": "df94d23b-d100-4877-82b2-50a70735aff1",
   "metadata": {},
   "source": []
  }
 ],
 "metadata": {
  "kernelspec": {
   "display_name": "Python [conda env:d2l]",
   "language": "python",
   "name": "conda-env-d2l-py"
  },
  "language_info": {
   "codemirror_mode": {
    "name": "ipython",
    "version": 3
   },
   "file_extension": ".py",
   "mimetype": "text/x-python",
   "name": "python",
   "nbconvert_exporter": "python",
   "pygments_lexer": "ipython3",
   "version": "3.11.4"
  }
 },
 "nbformat": 4,
 "nbformat_minor": 5
}
