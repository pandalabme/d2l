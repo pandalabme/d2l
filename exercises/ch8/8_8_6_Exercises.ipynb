{
 "cells": [
  {
   "cell_type": "markdown",
   "id": "d5ae487e-7222-4249-9fc3-ec64d2fb7399",
   "metadata": {},
   "source": [
    "# 1. Increase the number of stages to four. Can you design a deeper RegNetX that performs better?"
   ]
  },
  {
   "cell_type": "code",
   "execution_count": 6,
   "id": "b489040d-a43e-4dfc-b279-1b1beb87496f",
   "metadata": {
    "tags": []
   },
   "outputs": [],
   "source": [
    "import torch\n",
    "import torch.nn as nn\n",
    "from torch.nn import functional as F\n",
    "import sys\n",
    "sys.path.append('/home/jovyan/work/d2l_solutions/notebooks/exercises/d2l_utils/')\n",
    "import d2l\n",
    "from torchsummary import summary\n",
    "\n",
    "class AnyNet(d2l.Classifier):\n",
    "    def stem(self, num_channels):\n",
    "        return nn.Sequential(\n",
    "            nn.LazyConv2d(num_channels, kernel_size=3, stride=2, padding=1),\n",
    "            nn.LazyBatchNorm2d(), nn.ReLU())\n",
    "    def stage(self, depth, num_channels, groups, bot_mul):\n",
    "        blk = []\n",
    "        for i in range(depth):\n",
    "            if i == 0:\n",
    "                blk.append(d2l.ResNeXtBlock(num_channels, groups, bot_mul,\n",
    "                    use_1x1conv=True, strides=2))\n",
    "            else:\n",
    "                blk.append(d2l.ResNeXtBlock(num_channels, groups, bot_mul))\n",
    "        return nn.Sequential(*blk)\n",
    "    \n",
    "    def __init__(self, arch, stem_channels, lr=0.1, num_classes=10):\n",
    "        super(AnyNet, self).__init__()\n",
    "        self.save_hyperparameters()\n",
    "        self.net = nn.Sequential(self.stem(stem_channels))\n",
    "        for i, s in enumerate(arch):\n",
    "            self.net.add_module(f'stage{i+1}', self.stage(*s))\n",
    "        self.net.add_module('head', nn.Sequential(\n",
    "            nn.AdaptiveAvgPool2d((1, 1)), nn.Flatten(),\n",
    "            nn.LazyLinear(num_classes)))\n",
    "        self.net.apply(d2l.init_cnn)\n",
    "        \n",
    "class RegNetX32(AnyNet):\n",
    "    def __init__(self, lr=0.1, num_classes=10):\n",
    "        stem_channels, groups, bot_mul = 32, 16, 1\n",
    "        depths, channels = (4, 6, 8, 16), (32, 80, 128, 256)\n",
    "        super().__init__(\n",
    "            # ((depths[0], channels[0], groups, bot_mul),\n",
    "            #  (depths[1], channels[1], groups, bot_mul)),\n",
    "            [(depths[i], channels[i], groups, bot_mul) for i in range(len(depths))],\n",
    "            stem_channels, lr, num_classes)"
   ]
  },
  {
   "cell_type": "code",
   "execution_count": 8,
   "id": "3bdfd546-ef89-405a-a71a-a204377210f6",
   "metadata": {
    "tags": []
   },
   "outputs": [],
   "source": [
    "model = RegNetX32(lr=0.05)\n",
    "# summary(model,(1,224,224))\n",
    "trainer = d2l.Trainer(max_epochs=10, num_gpus=1)\n",
    "data = d2l.FashionMNIST(batch_size=128, resize=(224, 224))\n",
    "trainer.fit(model, data)"
   ]
  },
  {
   "cell_type": "markdown",
   "id": "92be5e8b-d74f-4693-9427-9ed647eeadd8",
   "metadata": {},
   "source": [
    "# 2. De-ResNeXt-ify RegNets by replacing the ResNeXt block with the ResNet block. How does your new model perform?"
   ]
  },
  {
   "cell_type": "code",
   "execution_count": 7,
   "id": "b7dfd568-a6e9-41ee-a4a8-1cdf839a3e27",
   "metadata": {
    "tags": []
   },
   "outputs": [],
   "source": [
    "class DeAnyNet(d2l.Classifier):\n",
    "    def stem(self, num_channels):\n",
    "        return nn.Sequential(\n",
    "            nn.LazyConv2d(num_channels, kernel_size=3, stride=2, padding=1),\n",
    "            nn.LazyBatchNorm2d(), nn.ReLU())\n",
    "    def stage(self, depth, num_channels):\n",
    "        blk = []\n",
    "        for i in range(depth):\n",
    "            if i == 0:\n",
    "                blk.append(d2l.Residual(num_channels, use_1x1conv=True, strides=2))\n",
    "            else:\n",
    "                blk.append(d2l.Residual(num_channels))\n",
    "        return nn.Sequential(*blk)\n",
    "    \n",
    "    def __init__(self, arch, stem_channels, lr=0.1, num_classes=10):\n",
    "        super().__init__()\n",
    "        self.save_hyperparameters()\n",
    "        self.net = nn.Sequential(self.stem(stem_channels))\n",
    "        for i, s in enumerate(arch):\n",
    "            self.net.add_module(f'stage{i+1}', self.stage(*s))\n",
    "        self.net.add_module('head', nn.Sequential(\n",
    "            nn.AdaptiveAvgPool2d((1, 1)), nn.Flatten(),\n",
    "            nn.LazyLinear(num_classes)))\n",
    "        self.net.apply(d2l.init_cnn)\n",
    "        \n",
    "class DeResNeXt(DeAnyNet):\n",
    "    def __init__(self, lr=0.1, num_classes=10):\n",
    "        stem_channels, groups, bot_mul = 32, 16, 1\n",
    "        depths, channels = (5, 6), (32, 80)\n",
    "        super().__init__(\n",
    "            ((depths[0], channels[0]),\n",
    "             (depths[1], channels[1])),\n",
    "            stem_channels, lr, num_classes)"
   ]
  },
  {
   "cell_type": "code",
   "execution_count": null,
   "id": "dc511ed7-e482-4ea4-902a-1e870013fa10",
   "metadata": {},
   "outputs": [],
   "source": [
    "model = DeResNeXt(lr=0.05)\n",
    "trainer = d2l.Trainer(max_epochs=10, num_gpus=1)\n",
    "trainer.fit(model, data)"
   ]
  },
  {
   "cell_type": "markdown",
   "id": "302070a8-adf5-49cd-9af9-08cf4ce460d2",
   "metadata": {},
   "source": [
    "# 3. Implement multiple instances of a “VioNet” family by violating the design principles of RegNetX. How do they perform? Which of ($d_i$,$c_i$,$g_i$,$b_i$) is the most important factor?"
   ]
  },
  {
   "cell_type": "code",
   "execution_count": 9,
   "id": "1b414731-de91-481b-b7cf-866cdeb1d289",
   "metadata": {
    "tags": []
   },
   "outputs": [],
   "source": [
    "class VioNet(AnyNet):\n",
    "    def __init__(self, lr=0.1, num_classes=10, depths=(4, 6), channels=(32, 80),\n",
    "                 stem_channels=32, groups=(16, 16), bot_mul=(1, 1)):\n",
    "        super().__init__(\n",
    "            [(depths[i], channels[i], groups[i], bot_mul[i]) for i in range(len(depths))],\n",
    "            stem_channels, lr, num_classes)"
   ]
  },
  {
   "cell_type": "code",
   "execution_count": null,
   "id": "427b2382-9813-4377-b6ce-d9752c164701",
   "metadata": {},
   "outputs": [],
   "source": [
    "VioNet_d = VioNet(depths=(6, 4))\n",
    "trainer = d2l.Trainer(max_epochs=10, num_gpus=1)\n",
    "trainer.fit(VioNet_d, data)"
   ]
  },
  {
   "cell_type": "code",
   "execution_count": null,
   "id": "8906c578-3551-40e9-94d4-64eaeacf361b",
   "metadata": {},
   "outputs": [],
   "source": [
    "VioNet_c = VioNet(channels=(80, 32))\n",
    "trainer = d2l.Trainer(max_epochs=10, num_gpus=1)\n",
    "trainer.fit(VioNet_c, data)"
   ]
  },
  {
   "cell_type": "code",
   "execution_count": null,
   "id": "32d56d2d-2c72-4404-8bbf-e40e1d2cbb34",
   "metadata": {},
   "outputs": [],
   "source": [
    "VioNet_g = VioNet(groups=(16, 32))\n",
    "trainer = d2l.Trainer(max_epochs=10, num_gpus=1)\n",
    "trainer.fit(VioNet_g, data)"
   ]
  },
  {
   "cell_type": "code",
   "execution_count": null,
   "id": "e3f758b6-802d-453a-960c-b3c990e9c807",
   "metadata": {},
   "outputs": [],
   "source": [
    "VioNet_b = VioNet(bot_mul=(1, 2))\n",
    "trainer = d2l.Trainer(max_epochs=10, num_gpus=1)\n",
    "trainer.fit(VioNet_b, data)"
   ]
  },
  {
   "cell_type": "markdown",
   "id": "3fc98ff6-6cf1-483f-bd0d-8c658876d9a9",
   "metadata": {},
   "source": [
    "# 4. Your goal is to design the “perfect” MLP. Can you use the design principles introduced above to find good architectures? Is it possible to extrapolate from small to large networks?"
   ]
  },
  {
   "cell_type": "markdown",
   "id": "3a3542b7-0952-44ed-8b2d-c342bcfe54b7",
   "metadata": {},
   "source": [
    "Designing the \"perfect\" Multilayer Perceptron (MLP) involves careful consideration of architectural choices to achieve high performance on a specific task. The paper \"On Network Design Spaces for Visual Recognition\" discusses several design principles that can be applied to create effective neural network architectures for visual recognition. Here's how you can use these design principles to design an effective MLP:\n",
    "\n",
    "1. **Depth and Width**:\n",
    "   - **Depth**: Experiment with different numbers of layers (depth) in your MLP. Start with a moderate depth and gradually increase it while monitoring performance. Deep networks can capture complex features but may require techniques like skip connections (ResNets) to mitigate vanishing gradients.\n",
    "   - **Width**: Vary the number of neurons (width) in each layer. Wider layers can capture more complex patterns, but they may also increase the risk of overfitting. You can use techniques like dropout or batch normalization to regularize the network.\n",
    "\n",
    "2. **Skip Connections**:\n",
    "   - Consider adding skip connections between layers, similar to Residual Networks (ResNets). These connections can help alleviate vanishing gradient problems and enable the training of very deep networks.\n",
    "\n",
    "3. **Kernel Sizes**:\n",
    "   - Experiment with different kernel sizes for convolutional layers or different numbers of neurons in fully connected layers. Smaller kernels can capture fine details, while larger kernels can capture broader patterns.\n",
    "\n",
    "4. **Pooling Strategies**:\n",
    "   - Use different pooling strategies like max-pooling or average pooling to downsample feature maps. The choice of pooling can affect the invariance and spatial resolution of the learned features.\n",
    "\n",
    "5. **Normalization**:\n",
    "   - Incorporate batch normalization layers to stabilize training and improve convergence. Batch normalization can also act as a regularizer.\n",
    "\n",
    "6. **Activation Functions**:\n",
    "   - Experiment with different activation functions like ReLU, Leaky ReLU, or variants like Swish. The choice of activation function can affect the network's capacity to model complex data distributions.\n",
    "\n",
    "7. **Dropout**:\n",
    "   - Apply dropout with varying dropout rates to prevent overfitting. You can selectively apply dropout to certain layers or neurons based on their importance.\n",
    "\n",
    "8. **Initialization**:\n",
    "   - Use appropriate weight initialization techniques such as Xavier/Glorot initialization or He initialization. Proper initialization can expedite training and improve convergence.\n",
    "\n",
    "9. **Normalization Layers**:\n",
    "   - Experiment with layer normalization or group normalization in addition to batch normalization to see if they offer advantages in your specific task.\n",
    "\n",
    "10. **Optimizers and Learning Rates**:\n",
    "    - Choose appropriate optimizers (e.g., Adam, SGD) and learning rate schedules. Learning rate schedules like learning rate annealing or cyclic learning rates can help in training.\n",
    "\n",
    "11. **Regularization Techniques**:\n",
    "    - Consider L1 and L2 regularization to control the complexity of the model and prevent overfitting. You can also explore more advanced regularization techniques like dropout, weight decay, or early stopping.\n",
    "\n",
    "12. **Task-Specific Architectures**:\n",
    "    - Tailor your MLP architecture to the specific task. For example, use a final softmax layer for classification tasks or a linear layer for regression tasks.\n",
    "\n",
    "13. **Ensemble Learning**:\n",
    "    - Experiment with ensemble methods to combine multiple MLPs for improved performance and robustness.\n",
    "\n",
    "14. **Hyperparameter Search**:\n",
    "    - Perform systematic hyperparameter tuning using techniques like grid search or random search to find the best combination of hyperparameters.\n",
    "\n",
    "15. **Transfer Learning**:\n",
    "    - Consider using transfer learning by initializing your MLP with pretrained weights from a model trained on a related task. Fine-tuning the network on your specific task can significantly boost performance.\n",
    "\n",
    "16. **Data Augmentation**:\n",
    "    - Apply data augmentation techniques to increase the effective size of your training dataset and improve the model's generalization.\n",
    "\n",
    "17. **Regularly Evaluate Performance**:\n",
    "    - Continuously monitor and evaluate the model's performance on a validation dataset. Adjust architectural choices based on performance feedback.\n",
    "\n",
    "Remember that designing the \"perfect\" MLP involves an iterative process of experimentation, evaluation, and refinement. The choice of architecture and design principles should align with the specific requirements and constraints of your task and dataset."
   ]
  }
 ],
 "metadata": {
  "kernelspec": {
   "display_name": "Python [conda env:d2l]",
   "language": "python",
   "name": "conda-env-d2l-py"
  },
  "language_info": {
   "codemirror_mode": {
    "name": "ipython",
    "version": 3
   },
   "file_extension": ".py",
   "mimetype": "text/x-python",
   "name": "python",
   "nbconvert_exporter": "python",
   "pygments_lexer": "ipython3",
   "version": "3.11.4"
  }
 },
 "nbformat": 4,
 "nbformat_minor": 5
}
