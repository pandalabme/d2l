{
 "cells": [
  {
   "cell_type": "markdown",
   "id": "d5ae487e-7222-4249-9fc3-ec64d2fb7399",
   "metadata": {},
   "source": [
    "# 1. Increase the number of stages to four. Can you design a deeper RegNetX that performs better?"
   ]
  },
  {
   "cell_type": "code",
   "execution_count": 6,
   "id": "b489040d-a43e-4dfc-b279-1b1beb87496f",
   "metadata": {
    "tags": []
   },
   "outputs": [],
   "source": [
    "import torch\n",
    "import torch.nn as nn\n",
    "from torch.nn import functional as F\n",
    "import sys\n",
    "sys.path.append('/home/jovyan/work/d2l_solutions/notebooks/exercises/d2l_utils/')\n",
    "import d2l\n",
    "from torchsummary import summary\n",
    "\n",
    "class AnyNet(d2l.Classifier):\n",
    "    def stem(self, num_channels):\n",
    "        return nn.Sequential(\n",
    "            nn.LazyConv2d(num_channels, kernel_size=3, stride=2, padding=1),\n",
    "            nn.LazyBatchNorm2d(), nn.ReLU())\n",
    "    def stage(self, depth, num_channels, groups, bot_mul):\n",
    "        blk = []\n",
    "        for i in range(depth):\n",
    "            if i == 0:\n",
    "                blk.append(d2l.ResNeXtBlock(num_channels, groups, bot_mul,\n",
    "                    use_1x1conv=True, strides=2))\n",
    "            else:\n",
    "                blk.append(d2l.ResNeXtBlock(num_channels, groups, bot_mul))\n",
    "        return nn.Sequential(*blk)\n",
    "    \n",
    "    def __init__(self, arch, stem_channels, lr=0.1, num_classes=10):\n",
    "        super(AnyNet, self).__init__()\n",
    "        self.save_hyperparameters()\n",
    "        self.net = nn.Sequential(self.stem(stem_channels))\n",
    "        for i, s in enumerate(arch):\n",
    "            self.net.add_module(f'stage{i+1}', self.stage(*s))\n",
    "        self.net.add_module('head', nn.Sequential(\n",
    "            nn.AdaptiveAvgPool2d((1, 1)), nn.Flatten(),\n",
    "            nn.LazyLinear(num_classes)))\n",
    "        self.net.apply(d2l.init_cnn)\n",
    "        \n",
    "class RegNetX32(AnyNet):\n",
    "    def __init__(self, lr=0.1, num_classes=10):\n",
    "        stem_channels, groups, bot_mul = 32, 16, 1\n",
    "        depths, channels = (4, 6, 8, 16), (32, 80, 128, 256)\n",
    "        super().__init__(\n",
    "            # ((depths[0], channels[0], groups, bot_mul),\n",
    "            #  (depths[1], channels[1], groups, bot_mul)),\n",
    "            [(depths[i], channels[i], groups, bot_mul) for i in range(len(depths))],\n",
    "            stem_channels, lr, num_classes)"
   ]
  },
  {
   "cell_type": "code",
   "execution_count": 8,
   "id": "3bdfd546-ef89-405a-a71a-a204377210f6",
   "metadata": {
    "tags": []
   },
   "outputs": [],
   "source": [
    "model = RegNetX32(lr=0.05)\n",
    "# summary(model,(1,224,224))\n",
    "trainer = d2l.Trainer(max_epochs=10, num_gpus=1)\n",
    "data = d2l.FashionMNIST(batch_size=128, resize=(224, 224))\n",
    "trainer.fit(model, data)"
   ]
  },
  {
   "cell_type": "markdown",
   "id": "92be5e8b-d74f-4693-9427-9ed647eeadd8",
   "metadata": {},
   "source": [
    "# 2. De-ResNeXt-ify RegNets by replacing the ResNeXt block with the ResNet block. How does your new model perform?"
   ]
  },
  {
   "cell_type": "code",
   "execution_count": 7,
   "id": "b7dfd568-a6e9-41ee-a4a8-1cdf839a3e27",
   "metadata": {
    "tags": []
   },
   "outputs": [],
   "source": [
    "class DeAnyNet(d2l.Classifier):\n",
    "    def stem(self, num_channels):\n",
    "        return nn.Sequential(\n",
    "            nn.LazyConv2d(num_channels, kernel_size=3, stride=2, padding=1),\n",
    "            nn.LazyBatchNorm2d(), nn.ReLU())\n",
    "    def stage(self, depth, num_channels):\n",
    "        blk = []\n",
    "        for i in range(depth):\n",
    "            if i == 0:\n",
    "                blk.append(d2l.Residual(num_channels, use_1x1conv=True, strides=2))\n",
    "            else:\n",
    "                blk.append(d2l.Residual(num_channels))\n",
    "        return nn.Sequential(*blk)\n",
    "    \n",
    "    def __init__(self, arch, stem_channels, lr=0.1, num_classes=10):\n",
    "        super().__init__()\n",
    "        self.save_hyperparameters()\n",
    "        self.net = nn.Sequential(self.stem(stem_channels))\n",
    "        for i, s in enumerate(arch):\n",
    "            self.net.add_module(f'stage{i+1}', self.stage(*s))\n",
    "        self.net.add_module('head', nn.Sequential(\n",
    "            nn.AdaptiveAvgPool2d((1, 1)), nn.Flatten(),\n",
    "            nn.LazyLinear(num_classes)))\n",
    "        self.net.apply(d2l.init_cnn)\n",
    "        \n",
    "class DeResNeXt(DeAnyNet):\n",
    "    def __init__(self, lr=0.1, num_classes=10):\n",
    "        stem_channels, groups, bot_mul = 32, 16, 1\n",
    "        depths, channels = (5, 6), (32, 80)\n",
    "        super().__init__(\n",
    "            ((depths[0], channels[0]),\n",
    "             (depths[1], channels[1])),\n",
    "            stem_channels, lr, num_classes)"
   ]
  },
  {
   "cell_type": "code",
   "execution_count": null,
   "id": "dc511ed7-e482-4ea4-902a-1e870013fa10",
   "metadata": {},
   "outputs": [],
   "source": [
    "model = DeResNeXt(lr=0.05)\n",
    "trainer = d2l.Trainer(max_epochs=10, num_gpus=1)\n",
    "# data = d2l.FashionMNIST(batch_size=128, resize=(224, 224))\n",
    "trainer.fit(model, data)"
   ]
  },
  {
   "cell_type": "markdown",
   "id": "302070a8-adf5-49cd-9af9-08cf4ce460d2",
   "metadata": {},
   "source": [
    "# 3. Implement multiple instances of a “VioNet” family by violating the design principles of RegNetX. How do they perform? Which of ($d_i$,$c_i$,$g_i$,$b_i$) is the most important factor?"
   ]
  },
  {
   "cell_type": "code",
   "execution_count": null,
   "id": "1b414731-de91-481b-b7cf-866cdeb1d289",
   "metadata": {},
   "outputs": [],
   "source": [
    "class VioNet(AnyNet):\n",
    "    def __init__(self, lr=0.1, num_classes=10, depths=(4, 6), channels=(32, 80), stem_channels=32, groups=16, bot_mul=1):\n",
    "        super().__init__(\n",
    "            [(depths[i], channels[i], groups, bot_mul) for i in range(len(depths))],\n",
    "            stem_channels, lr, num_classes)"
   ]
  },
  {
   "cell_type": "markdown",
   "id": "3fc98ff6-6cf1-483f-bd0d-8c658876d9a9",
   "metadata": {},
   "source": [
    "# 4. Your goal is to design the “perfect” MLP. Can you use the design principles introduced above to find good architectures? Is it possible to extrapolate from small to large networks?"
   ]
  },
  {
   "cell_type": "markdown",
   "id": "3a3542b7-0952-44ed-8b2d-c342bcfe54b7",
   "metadata": {},
   "source": []
  },
  {
   "cell_type": "markdown",
   "id": "b1d394d1-09c1-434f-b38a-e19d40553d39",
   "metadata": {},
   "source": []
  },
  {
   "cell_type": "markdown",
   "id": "5115036d-c09c-41d8-b7e4-6fbad0b37a26",
   "metadata": {},
   "source": []
  },
  {
   "cell_type": "markdown",
   "id": "35f7b6c0-ba6b-478a-9fdb-66ce23a28f41",
   "metadata": {},
   "source": []
  }
 ],
 "metadata": {
  "kernelspec": {
   "display_name": "Python [conda env:d2l]",
   "language": "python",
   "name": "conda-env-d2l-py"
  },
  "language_info": {
   "codemirror_mode": {
    "name": "ipython",
    "version": 3
   },
   "file_extension": ".py",
   "mimetype": "text/x-python",
   "name": "python",
   "nbconvert_exporter": "python",
   "pygments_lexer": "ipython3",
   "version": "3.11.4"
  }
 },
 "nbformat": 4,
 "nbformat_minor": 5
}
