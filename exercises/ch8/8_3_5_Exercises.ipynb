{
 "cells": [
  {
   "cell_type": "code",
   "execution_count": 3,
   "id": "91c1514c-8ab4-4f25-814f-fae34e461359",
   "metadata": {
    "tags": []
   },
   "outputs": [],
   "source": [
    "import sys\n",
    "import torch.nn as nn\n",
    "import torch\n",
    "import warnings\n",
    "sys.path.append('/home/jovyan/work/d2l_solutions/notebooks/exercises/d2l_utils/')\n",
    "import d2l\n",
    "from torchsummary import summary\n",
    "warnings.filterwarnings(\"ignore\")\n",
    "\n",
    "def nin_block(out_channels, kernel_size, strides, padding, nums_conv1):\n",
    "    layers = [nn.LazyConv2d(out_channels, kernel_size=kernel_size, strides=strides, padding=padding),nn.ReLU()]\n",
    "    for i in range(nums_conv1):\n",
    "        layers.append(nn.LazyConv2d(out_channels, kernel_size=1))\n",
    "        layers.append(nn.ReLU())\n",
    "    return nn.Sequential(*layers)\n",
    "\n",
    "class Nin(d2l.Classifier):\n",
    "    def __init__(self, arch, lr=0.1):\n",
    "        super().__init__()\n",
    "        self.save_hyperparameters()\n",
    "        layers = []\n",
    "        for i in range(len(arch)-1):\n",
    "            layers.append(nin_block(*arch[i]))\n",
    "            layers.append(nn.MaxPool2d(3, stride=2))\n",
    "        layers.append(nn.Dropout(0.5))\n",
    "        layers.append(nin_block(*arch[-1]))\n",
    "        layers.append(nn.AdaptiveAvgPool2d((1, 1)))\n",
    "        layers.append(nn.Flatten())\n",
    "        self.net = nn.Sequential(*layers)\n",
    "        self.net.apply(d2l.init_cnn)"
   ]
  },
  {
   "cell_type": "markdown",
   "id": "4989934d-2b05-406c-a62e-d90b5a09bd29",
   "metadata": {},
   "source": [
    "# 1. Why are there two $1\\times1$ convolutional layers per NiN block? Increase their number to three. Reduce their number to one. What changes?"
   ]
  },
  {
   "cell_type": "markdown",
   "id": "e0ffa8f3-8c08-4b4b-91cf-ac1cdf1e93ee",
   "metadata": {},
   "source": [
    "In Network in Network (NiN) architecture, $1\\times1$ convolutional layers are used to introduce additional non-linearity and increase the capacity of the network without introducing too many parameters. The inclusion of these $1\\times1$ convolutions has specific effects on the network's expressiveness and complexity:\n",
    "\n",
    "1. **Two $1\\times1$ Convolutional Layers per NiN Block**:\n",
    "   - When there are two $1\\times1$ convolutional layers per NiN block, it creates multiple pathways for feature transformation. Each $1\\times1$ convolution performs its own set of operations, allowing the network to capture complex relationships between features and enable better representation learning.\n",
    "   - Having two $1\\times1$ convolutions can increase the model's capacity and non-linearity, potentially leading to improved accuracy and more expressive features.\n",
    "\n",
    "2. **Three $1\\times1$ Convolutional Layers per NiN Block**:\n",
    "   - Increasing the number of $1\\times1$ convolutional layers further amplifies the network's capacity. Each additional convolutional layer introduces more non-linearity and the possibility of capturing more complex interactions between features.\n",
    "   - However, increasing the number of $1\\times1$ convolutions also increases the number of parameters and computations, potentially leading to overfitting and higher computational costs.\n",
    "\n",
    "3. **One $1\\times1$ Convolutional Layer per NiN Block**:\n",
    "   - Using only one $1\\times1$ convolutional layer reduces the complexity of each NiN block. It limits the capacity of the network to capture complex feature interactions, and may lead to underfitting if the dataset and task are complex.\n",
    "   - Reducing the number of $1\\times1$ convolutions also decreases the number of parameters and computations, which can be beneficial for faster training and reduced memory usage.\n",
    "\n",
    "Overall, the number of $1\\times1$ convolutional layers in NiN blocks impacts the network's capacity, complexity, and computational requirements. The optimal choice depends on factors such as the dataset's complexity, available computational resources, and desired trade-off between accuracy and efficiency. Experimentation and validation on a specific task are necessary to determine the most suitable configuration for the network."
   ]
  },
  {
   "cell_type": "code",
   "execution_count": null,
   "id": "3be56373-dbba-4733-8eda-53ae418d812b",
   "metadata": {},
   "outputs": [],
   "source": [
    "class "
   ]
  },
  {
   "cell_type": "markdown",
   "id": "cccad96b-760c-4e10-a20b-0ae800640c8b",
   "metadata": {},
   "source": [
    "# 2. What changes if you replace the $1\\times1$ convolutions by $3\\times3$ convolutions?"
   ]
  },
  {
   "cell_type": "markdown",
   "id": "3048f1be-7b68-427a-b910-a20d6e22ef35",
   "metadata": {},
   "source": [
    "# 3. What happens if you replace the global average pooling by a fully connected layer (speed, accuracy, number of parameters)?"
   ]
  },
  {
   "cell_type": "markdown",
   "id": "e6d951a1-f0e4-4069-a11c-4075a3be3fe7",
   "metadata": {},
   "source": [
    "# 4. Calculate the resource usage for NiN."
   ]
  },
  {
   "cell_type": "markdown",
   "id": "d3f9c0d2-05c4-4e33-adad-9cd567408607",
   "metadata": {},
   "source": [
    "## 4.1 What is the number of parameters?"
   ]
  },
  {
   "cell_type": "markdown",
   "id": "fca4f6d1-eca1-44c5-8f5b-760351ae39e0",
   "metadata": {},
   "source": [
    "## 4.2 What is the amount of computation?"
   ]
  },
  {
   "cell_type": "markdown",
   "id": "cad13106-f5bd-418f-b4aa-2c467decee8e",
   "metadata": {},
   "source": [
    "## 4.3 What is the amount of memory needed during training?"
   ]
  },
  {
   "cell_type": "markdown",
   "id": "dd3ba416-6d59-4b7e-a51c-a3dd01ea660a",
   "metadata": {},
   "source": [
    "## 4.4 What is the amount of memory needed during prediction?"
   ]
  },
  {
   "cell_type": "markdown",
   "id": "b8e30da1-d8b8-454d-beec-3837afbe7a38",
   "metadata": {},
   "source": [
    "# 5. What are possible problems with reducing the $384\\times5\\times5$ representation to a $10\\times5\\times5$ representation in one step?"
   ]
  },
  {
   "cell_type": "markdown",
   "id": "97824f2b-28aa-4a42-9f16-00d294825b49",
   "metadata": {},
   "source": [
    "# 6. Use the structural design decisions in VGG that led to VGG-11, VGG-16, and VGG-19 to design a family of NiN-like networks."
   ]
  },
  {
   "cell_type": "markdown",
   "id": "a9a822de-5207-4406-85ca-881d06a6268e",
   "metadata": {},
   "source": []
  },
  {
   "cell_type": "markdown",
   "id": "bd7c7449-eb4a-4621-b700-4f946622568c",
   "metadata": {},
   "source": []
  },
  {
   "cell_type": "markdown",
   "id": "17aba178-95c3-409d-9bab-d153c0559c0c",
   "metadata": {},
   "source": []
  },
  {
   "cell_type": "markdown",
   "id": "fb88fb99-c73c-4e09-b585-d5498f972fbb",
   "metadata": {},
   "source": []
  }
 ],
 "metadata": {
  "kernelspec": {
   "display_name": "Python [conda env:d2l]",
   "language": "python",
   "name": "conda-env-d2l-py"
  },
  "language_info": {
   "codemirror_mode": {
    "name": "ipython",
    "version": 3
   },
   "file_extension": ".py",
   "mimetype": "text/x-python",
   "name": "python",
   "nbconvert_exporter": "python",
   "pygments_lexer": "ipython3",
   "version": "3.11.4"
  }
 },
 "nbformat": 4,
 "nbformat_minor": 5
}
