{
 "cells": [
  {
   "cell_type": "markdown",
   "id": "fa9e75e7-c9d5-4d6f-a13f-44ca2c41e316",
   "metadata": {},
   "source": [
    "# 1. Implement distance-based attention by modifying the DotProductAttention code. Note that you only need the squared norms of the keys $\\|k_i\\|^2$ for an efficient implementation."
   ]
  },
  {
   "cell_type": "code",
   "execution_count": 22,
   "id": "82891b93-32af-42dd-99c1-7464a81097d1",
   "metadata": {
    "tags": []
   },
   "outputs": [
    {
     "data": {
      "text/plain": [
       "(tensor([0., 1., 2.]), tensor([[0., 1., 2.]]))"
      ]
     },
     "execution_count": 22,
     "metadata": {},
     "output_type": "execute_result"
    }
   ],
   "source": [
    "a = torch.arange((3), dtype=torch.float32)\n",
    "a,a[None, :] \n",
    "valid_lens = torch.tensor([2, 6])"
   ]
  },
  {
   "cell_type": "code",
   "execution_count": 13,
   "id": "86955c97-8b13-4029-a1dc-427cfdc4466e",
   "metadata": {
    "tags": []
   },
   "outputs": [],
   "source": [
    "import torch.nn as nn\n",
    "import torch\n",
    "import math\n",
    "\n",
    "def masked_softmax(X, valid_lens):  #@save\n",
    "    \"\"\"Perform softmax operation by masking elements on the last axis.\"\"\"\n",
    "    # X: 3D tensor, valid_lens: 1D or 2D tensor\n",
    "    def _sequence_mask(X, valid_len, value=0):\n",
    "        maxlen = X.size(1)\n",
    "        mask = torch.arange((maxlen), dtype=torch.float32,\n",
    "                            device=X.device)[None, :] < valid_len[:, None]\n",
    "        X[~mask] = value\n",
    "        return X\n",
    "\n",
    "    if valid_lens is None:\n",
    "        return nn.functional.softmax(X, dim=-1)\n",
    "    else:\n",
    "        shape = X.shape\n",
    "        if valid_lens.dim() == 1:\n",
    "            valid_lens = torch.repeat_interleave(valid_lens, shape[1])\n",
    "        else:\n",
    "            valid_lens = valid_lens.reshape(-1)\n",
    "        # On the last axis, replace masked elements with a very large negative\n",
    "        # value, whose exponentiation outputs 0\n",
    "        X = _sequence_mask(X.reshape(-1, shape[-1]), valid_lens, value=-1e6)\n",
    "        return nn.functional.softmax(X.reshape(shape), dim=-1)\n",
    "    \n",
    "class DistanceAttention(nn.Module):  #@save\n",
    "    \"\"\"Scaled dot product attention.\"\"\"\n",
    "    def __init__(self, dropout):\n",
    "        super().__init__()\n",
    "        self.dropout = nn.Dropout(dropout)\n",
    "\n",
    "    # Shape of queries: (batch_size, no. of queries, d)\n",
    "    # Shape of keys: (batch_size, no. of key-value pairs, d)\n",
    "    # Shape of values: (batch_size, no. of key-value pairs, value dimension)\n",
    "    # Shape of valid_lens: (batch_size,) or (batch_size, no. of queries)\n",
    "    def forward(self, queries, keys, values, valid_lens=None):\n",
    "        d = queries.shape[-1]\n",
    "        # Swap the last two dimensions of keys with keys.transpose(1, 2)\n",
    "        scores = torch.bmm(queries, keys.transpose(1, 2)) / math.sqrt(d)\n",
    "        key_norms = torch.sum(keys ** 2, dim=-1)/ math.sqrt(d) # (batch_size, num_keys)\n",
    "        scores = scores - 0.5*key_norms.unsqueeze(1) # (batch_size, num_queries, num_keys)\n",
    "        self.attention_weights = masked_softmax(scores, valid_lens)\n",
    "        return torch.bmm(self.dropout(self.attention_weights), values)"
   ]
  },
  {
   "cell_type": "code",
   "execution_count": 14,
   "id": "4a098d63-96b2-452a-b115-c80c81f435ba",
   "metadata": {
    "tags": []
   },
   "outputs": [
    {
     "data": {
      "text/plain": [
       "torch.Size([2, 1, 4])"
      ]
     },
     "execution_count": 14,
     "metadata": {},
     "output_type": "execute_result"
    }
   ],
   "source": [
    "queries = torch.normal(0, 1, (2, 1, 2))\n",
    "keys = torch.normal(0, 1, (2, 10, 2))\n",
    "values = torch.normal(0, 1, (2, 10, 4))\n",
    "valid_lens = torch.tensor([2, 6])\n",
    "\n",
    "attention = DistanceAttention(dropout=0.5)\n",
    "attention.eval()\n",
    "attention(queries, keys, values, valid_lens).shape"
   ]
  },
  {
   "cell_type": "markdown",
   "id": "3e16eaa8-ec00-440d-8b49-6d06ba2638c4",
   "metadata": {},
   "source": [
    "# 2. Modify the dot product attention to allow for queries and keys of different dimensionalities by employing a matrix to adjust dimensions."
   ]
  },
  {
   "cell_type": "code",
   "execution_count": 15,
   "id": "aa9286c0-bfea-4b3a-bbf5-1e249630c30c",
   "metadata": {
    "tags": []
   },
   "outputs": [],
   "source": [
    "class DiffDimDotProductAttention(nn.Module):  #@save\n",
    "    \"\"\"Scaled dot product attention.\"\"\"\n",
    "    def __init__(self, num_hiddens, dropout):\n",
    "        super().__init__()\n",
    "        self.W_q = nn.LazyLinear(num_hiddens, bias=False)\n",
    "        self.dropout = nn.Dropout(dropout)\n",
    "\n",
    "    # Shape of queries: (batch_size, no. of queries, d)\n",
    "    # Shape of keys: (batch_size, no. of key-value pairs, d)\n",
    "    # Shape of values: (batch_size, no. of key-value pairs, value dimension)\n",
    "    # Shape of valid_lens: (batch_size,) or (batch_size, no. of queries)\n",
    "    def forward(self, queries, keys, values, valid_lens=None):\n",
    "        queries = self.W_q(queries)\n",
    "        d = queries.shape[-1]\n",
    "        # Swap the last two dimensions of keys with keys.transpose(1, 2)\n",
    "        scores = torch.bmm(queries, keys.transpose(1, 2)) / math.sqrt(d)\n",
    "        self.attention_weights = masked_softmax(scores, valid_lens)\n",
    "        return torch.bmm(self.dropout(self.attention_weights), values)"
   ]
  },
  {
   "cell_type": "code",
   "execution_count": 20,
   "id": "aeeb4d26-c079-44ab-98fc-e04680ea94e7",
   "metadata": {
    "tags": []
   },
   "outputs": [
    {
     "data": {
      "text/plain": [
       "torch.Size([2, 1, 4])"
      ]
     },
     "execution_count": 20,
     "metadata": {},
     "output_type": "execute_result"
    }
   ],
   "source": [
    "queries = torch.normal(0, 1, (2, 1, 10))\n",
    "keys = torch.normal(0, 1, (2, 10, 3))\n",
    "values = torch.normal(0, 1, (2, 10, 4))\n",
    "valid_lens = torch.tensor([2, 6])\n",
    "\n",
    "attention = DiffDimDotProductAttention(keys.shape[-1], dropout=0.5)\n",
    "attention.eval()\n",
    "attention(queries, keys, values, valid_lens).shape"
   ]
  },
  {
   "cell_type": "markdown",
   "id": "46e5bcfa-9b61-4c7b-820f-2a681df10acc",
   "metadata": {},
   "source": [
    "# 3. How does the computational cost scale with the dimensionality of the keys, queries, values, and their number? What about the memory bandwidth requirements?"
   ]
  },
  {
   "cell_type": "markdown",
   "id": "11198922-e9b2-4fff-8d0c-8e4efa373ebd",
   "metadata": {},
   "source": [
    "The computational cost of self-attention depends on the dimensionality and the number of the keys, queries, and values. Let n be the number of keys, queries, and values, and d be their dimensionality. Then, the computational cost of self-attention is:\n",
    "\n",
    "- O(n d^2) for computing the query, key, and value matrices by linearly transforming the input matrix.\n",
    "- O(n^2 d) for computing the dot product between the query and key matrices.\n",
    "- O(n^2 d) for computing the weighted sum of the value matrix.\n",
    "\n",
    "Therefore, the total computational cost of self-attention is O(n^2 d + n d^2), which scales quadratically with n and linearly with d.\n",
    "\n",
    "The memory bandwidth requirements of self-attention are:\n",
    "\n",
    "- O(n d) for storing the input matrix.\n",
    "- O(n d) for storing the query, key, and value matrices.\n",
    "- O(n^2) for storing the attention matrix.\n",
    "- O(n d) for storing the output matrix.\n",
    "\n",
    "Therefore, the total memory bandwidth requirements of self-attention are O(n^2 + n d), which scales quadratically with n and linearly with d.\n",
    "\n",
    "You can find more details about the computational complexity of self-attention in [this paper](https://arxiv.org/pdf/1706.03762v5.pdf).\n",
    "\n",
    "- (1) Attention Is All You Need - arXiv.org. https://arxiv.org/pdf/1706.03762v5.pdf.\n",
    "- (2) Computational Complexity of Self-Attention in the .... https://stackoverflow.com/questions/65703260/computational-complexity-of-self-attention-in-the-transformer-model.\n",
    "- (3) Dynamic Convolution: Attention over Convolution Kernels .... https://arxiv.org/pdf/1912.03458.pdf."
   ]
  }
 ],
 "metadata": {
  "kernelspec": {
   "display_name": "Python [conda env:d2l]",
   "language": "python",
   "name": "conda-env-d2l-py"
  },
  "language_info": {
   "codemirror_mode": {
    "name": "ipython",
    "version": 3
   },
   "file_extension": ".py",
   "mimetype": "text/x-python",
   "name": "python",
   "nbconvert_exporter": "python",
   "pygments_lexer": "ipython3",
   "version": "3.11.4"
  }
 },
 "nbformat": 4,
 "nbformat_minor": 5
}
