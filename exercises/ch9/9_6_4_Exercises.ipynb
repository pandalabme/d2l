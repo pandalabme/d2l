{
 "cells": [
  {
   "cell_type": "markdown",
   "id": "735cd633-73bb-45a3-af38-4fb7ff98d616",
   "metadata": {},
   "source": [
    "# 1. Can you make the RNN model overfit using the high-level APIs?"
   ]
  },
  {
   "cell_type": "markdown",
   "id": "75c4eaa2-54d8-419d-b996-cae51263ed64",
   "metadata": {},
   "source": [
    "# 2. Implement the autoregressive model of Section 9.1 using an RNN."
   ]
  },
  {
   "cell_type": "code",
   "execution_count": null,
   "id": "b78bbca4-4268-4558-b3cf-00951d093357",
   "metadata": {},
   "outputs": [],
   "source": [
    "class Data(d2l.DataModule):\n",
    "    def __init__(self, batch_size=16, T=1000, num_train=600, tau=4, randn=0.2):\n",
    "        self.save_hyperparameters()\n",
    "        self.time = torch.range(1, T, dtype=torch.float32)\n",
    "        self.x = torch.sin(0.01*self.time) + torch.randn(T)*randn\n",
    "        \n",
    "    def get_dataloader(self, train):\n",
    "        features = [self.x[i:self.T-self.tau+i] for i in range(self.tau)]\n",
    "        self.features = torch.stack(features, 1)\n",
    "        self.labels = self.x[self.tau:].reshape((-1, 1))\n",
    "        i = slice(0, self.num_train) if train else slice(self.num_train, None)\n",
    "        return self.get_tensorloader([self.features, self.labels], train, i)\n",
    "    \n",
    "class RNN(d2l.Module):  #@save\n",
    "    \"\"\"The RNN model implemented with high-level APIs.\"\"\"\n",
    "    def __init__(self, num_inputs, num_hiddens):\n",
    "        super().__init__()\n",
    "        self.save_hyperparameters()\n",
    "        self.rnn = nn.RNN(num_inputs, num_hiddens)\n",
    "\n",
    "    def forward(self, inputs, H=None):\n",
    "        return self.rnn(inputs, H)\n",
    "    \n"
   ]
  }
 ],
 "metadata": {
  "kernelspec": {
   "display_name": "Python [conda env:d2l]",
   "language": "python",
   "name": "conda-env-d2l-py"
  },
  "language_info": {
   "codemirror_mode": {
    "name": "ipython",
    "version": 3
   },
   "file_extension": ".py",
   "mimetype": "text/x-python",
   "name": "python",
   "nbconvert_exporter": "python",
   "pygments_lexer": "ipython3",
   "version": "3.11.4"
  }
 },
 "nbformat": 4,
 "nbformat_minor": 5
}
