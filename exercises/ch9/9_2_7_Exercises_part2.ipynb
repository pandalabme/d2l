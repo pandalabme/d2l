{
 "cells": [
  {
   "cell_type": "code",
   "execution_count": null,
   "id": "3908befb-805f-46a1-a63e-c10580725c4e",
   "metadata": {},
   "outputs": [],
   "source": [
    "data = TimeMachine()\n",
    "raw_text = data._download()\n",
    "text = data._preprocess(raw_text)\n",
    "words = text.split()\n",
    "tokens = data._tokenize(words)\n",
    "bigram_tokens = ['--'.join(pair) for pair in zip(words[:-1], words[1:])]\n",
    "trigram_tokens = ['--'.join(pair) for pair in zip(words[:-2], words[1:],words[2:])]"
   ]
  },
  {
   "cell_type": "code",
   "execution_count": null,
   "id": "4fa5b246-7359-4e48-b030-0e39903fffe3",
   "metadata": {},
   "outputs": [],
   "source": []
  }
 ],
 "metadata": {
  "kernelspec": {
   "display_name": "Python [conda env:d2l]",
   "language": "python",
   "name": "conda-env-d2l-py"
  },
  "language_info": {
   "codemirror_mode": {
    "name": "ipython",
    "version": 3
   },
   "file_extension": ".py",
   "mimetype": "text/x-python",
   "name": "python",
   "nbconvert_exporter": "python",
   "pygments_lexer": "ipython3",
   "version": "3.11.4"
  }
 },
 "nbformat": 4,
 "nbformat_minor": 5
}
