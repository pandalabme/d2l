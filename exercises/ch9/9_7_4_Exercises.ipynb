{
 "cells": [
  {
   "cell_type": "markdown",
   "id": "4224bfa7-7539-42aa-8344-13d69bd76d03",
   "metadata": {},
   "source": [
    "# 1. Assume that we have a symmetric matrix $M\\in\\mathbb{R}^{n\\times m}$ with eigenvalues $\\lambda_i$ whose corresponding eigenvectors are $v_i$($i=1,\\dots,n$). Without loss of generality, assume that they are ordered in the order $\\left|\\lambda_i\\right|\\ge\\left|\\lambda_{i+1}\\right|$."
   ]
  },
  {
   "cell_type": "markdown",
   "id": "d90769a4-2112-4db6-b1b3-03fbc19ef761",
   "metadata": {},
   "source": [
    "## 1.1 Show that $M^k$ has eigenvalues $\\lambda_i^k$."
   ]
  },
  {
   "cell_type": "markdown",
   "id": "cfd70cd6-ed63-48bc-bd60-7e615c6cf8e5",
   "metadata": {},
   "source": [
    "$Mv_i=\\lambda_iv_i$\n",
    "\n",
    "$M^kv_i=M^{k-1}(Mv_i)=\\lambda_iM^{k-1}v_i=\\lambda_i^kv_i$"
   ]
  },
  {
   "cell_type": "markdown",
   "id": "627869ff-b519-47b1-830a-21e45b902de6",
   "metadata": {},
   "source": [
    "## 1.2 Prove that for a random vector $x\\in\\mathbb{R}^n$, with high probability $M^kx$ will be very much aligned with the eigenvector $v_1$ of $M$. Formalize this statement."
   ]
  },
  {
   "cell_type": "markdown",
   "id": "47700720-8081-4b04-b663-40c9ca36b76b",
   "metadata": {},
   "source": []
  },
  {
   "cell_type": "markdown",
   "id": "a4fd3e62-2997-4eff-bdc1-ea9a77a86ff2",
   "metadata": {},
   "source": [
    "## 1.3 What does the above result mean for gradients in RNNs?"
   ]
  },
  {
   "cell_type": "markdown",
   "id": "e72f6575-3ae3-41b4-ba47-dff7afc97c16",
   "metadata": {},
   "source": []
  },
  {
   "cell_type": "markdown",
   "id": "84ea0878-7034-4402-a9aa-d6821b30d7eb",
   "metadata": {},
   "source": [
    "# 2. Besides gradient clipping, can you think of any other methods to cope with gradient explosion in recurrent neural networks?"
   ]
  },
  {
   "cell_type": "markdown",
   "id": "07f0e86e-baa4-44aa-bcac-891204bdeb35",
   "metadata": {},
   "source": []
  }
 ],
 "metadata": {
  "kernelspec": {
   "display_name": "Python [conda env:d2l]",
   "language": "python",
   "name": "conda-env-d2l-py"
  },
  "language_info": {
   "codemirror_mode": {
    "name": "ipython",
    "version": 3
   },
   "file_extension": ".py",
   "mimetype": "text/x-python",
   "name": "python",
   "nbconvert_exporter": "python",
   "pygments_lexer": "ipython3",
   "version": "3.11.4"
  }
 },
 "nbformat": 4,
 "nbformat_minor": 5
}
