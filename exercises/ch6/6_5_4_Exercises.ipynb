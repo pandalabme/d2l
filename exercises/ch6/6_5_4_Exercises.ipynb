{
 "cells": [
  {
   "cell_type": "markdown",
   "id": "3804e14d-4264-4ab9-97a0-7ff40839e70d",
   "metadata": {},
   "source": [
    "# 1. Design a layer that takes an input and computes a tensor reduction, i.e., it returns $y_k=\\sum_{i,j}W_{i,j,k}x_ix_j$.\n",
    "\n"
   ]
  },
  {
   "cell_type": "code",
   "execution_count": 1,
   "id": "9a526775-34b6-4579-88a8-8b4f8d71450d",
   "metadata": {
    "tags": []
   },
   "outputs": [
    {
     "data": {
      "text/plain": [
       "tensor([[1., 1.]])"
      ]
     },
     "execution_count": 1,
     "metadata": {},
     "output_type": "execute_result"
    }
   ],
   "source": [
    "import torch\n",
    "a = torch.ones(3,2)\n",
    "chunks = torch.chunk(a,3,dim=0)\n",
    "chunks[0]"
   ]
  },
  {
   "cell_type": "code",
   "execution_count": 4,
   "id": "88ef5de4-7a91-4424-8ae1-8b810c60abba",
   "metadata": {
    "tags": []
   },
   "outputs": [
    {
     "data": {
      "text/plain": [
       "tensor([[1., 1., 1.],\n",
       "        [1., 1., 1.],\n",
       "        [1., 1., 1.]])"
      ]
     },
     "execution_count": 4,
     "metadata": {},
     "output_type": "execute_result"
    }
   ],
   "source": [
    "b = torch.ones(1,3)\n",
    "c = torch.matmul(b.T,b)\n",
    "c"
   ]
  },
  {
   "cell_type": "code",
   "execution_count": 12,
   "id": "b9cd241c-b2e1-44ef-b35a-98b52f7f4454",
   "metadata": {
    "tags": []
   },
   "outputs": [],
   "source": [
    "import torch.nn as nn\n",
    "import torch\n",
    "\n",
    "class ReductionLayer(nn.Module):\n",
    "    def __init__(self, num_inputs, k):\n",
    "        super().__init__()\n",
    "        self.w = nn.ParameterList([nn.Parameter(torch.randn(num_inputs, num_inputs)) for i in range(k)])\n",
    "        \n",
    "    def stat_row(self, X):\n",
    "        y = []\n",
    "        for part_w in self.w:\n",
    "            y.append((part_w*X).sum())\n",
    "        print(y)\n",
    "        return torch.cat(y.reshape(-1,1),dim=-1)\n",
    "        \n",
    "    def forward(self, X):\n",
    "        chunks = torch.chunk(X,X.shape[0],dim=0)\n",
    "        rows = []\n",
    "        for row in chunks:\n",
    "            row = row.reshape(1,-1)\n",
    "            part_x = torch.matmul(row.T,row)\n",
    "            rows.append(self.stat_row(part_x))\n",
    "        return torch.cat(rows,dim=0)"
   ]
  },
  {
   "cell_type": "code",
   "execution_count": 13,
   "id": "04d4380b-62cd-4308-a452-6897c80e97be",
   "metadata": {
    "tags": []
   },
   "outputs": [
    {
     "name": "stdout",
     "output_type": "stream",
     "text": [
      "[tensor(2.8652, grad_fn=<SumBackward0>), tensor(3.3701, grad_fn=<SumBackward0>)]\n"
     ]
    },
    {
     "ename": "AttributeError",
     "evalue": "'list' object has no attribute 'reshape'",
     "output_type": "error",
     "traceback": [
      "\u001b[0;31m---------------------------------------------------------------------------\u001b[0m",
      "\u001b[0;31mAttributeError\u001b[0m                            Traceback (most recent call last)",
      "Cell \u001b[0;32mIn[13], line 3\u001b[0m\n\u001b[1;32m      1\u001b[0m layer \u001b[38;5;241m=\u001b[39m ReductionLayer(\u001b[38;5;241m5\u001b[39m,\u001b[38;5;241m2\u001b[39m)\n\u001b[1;32m      2\u001b[0m x \u001b[38;5;241m=\u001b[39m torch\u001b[38;5;241m.\u001b[39mrandn(\u001b[38;5;241m1\u001b[39m,\u001b[38;5;241m5\u001b[39m)\n\u001b[0;32m----> 3\u001b[0m \u001b[43mlayer\u001b[49m\u001b[43m(\u001b[49m\u001b[43mx\u001b[49m\u001b[43m)\u001b[49m\n",
      "File \u001b[0;32m~/.local/lib/python3.11/site-packages/torch/nn/modules/module.py:1501\u001b[0m, in \u001b[0;36mModule._call_impl\u001b[0;34m(self, *args, **kwargs)\u001b[0m\n\u001b[1;32m   1496\u001b[0m \u001b[38;5;66;03m# If we don't have any hooks, we want to skip the rest of the logic in\u001b[39;00m\n\u001b[1;32m   1497\u001b[0m \u001b[38;5;66;03m# this function, and just call forward.\u001b[39;00m\n\u001b[1;32m   1498\u001b[0m \u001b[38;5;28;01mif\u001b[39;00m \u001b[38;5;129;01mnot\u001b[39;00m (\u001b[38;5;28mself\u001b[39m\u001b[38;5;241m.\u001b[39m_backward_hooks \u001b[38;5;129;01mor\u001b[39;00m \u001b[38;5;28mself\u001b[39m\u001b[38;5;241m.\u001b[39m_backward_pre_hooks \u001b[38;5;129;01mor\u001b[39;00m \u001b[38;5;28mself\u001b[39m\u001b[38;5;241m.\u001b[39m_forward_hooks \u001b[38;5;129;01mor\u001b[39;00m \u001b[38;5;28mself\u001b[39m\u001b[38;5;241m.\u001b[39m_forward_pre_hooks\n\u001b[1;32m   1499\u001b[0m         \u001b[38;5;129;01mor\u001b[39;00m _global_backward_pre_hooks \u001b[38;5;129;01mor\u001b[39;00m _global_backward_hooks\n\u001b[1;32m   1500\u001b[0m         \u001b[38;5;129;01mor\u001b[39;00m _global_forward_hooks \u001b[38;5;129;01mor\u001b[39;00m _global_forward_pre_hooks):\n\u001b[0;32m-> 1501\u001b[0m     \u001b[38;5;28;01mreturn\u001b[39;00m \u001b[43mforward_call\u001b[49m\u001b[43m(\u001b[49m\u001b[38;5;241;43m*\u001b[39;49m\u001b[43margs\u001b[49m\u001b[43m,\u001b[49m\u001b[43m \u001b[49m\u001b[38;5;241;43m*\u001b[39;49m\u001b[38;5;241;43m*\u001b[39;49m\u001b[43mkwargs\u001b[49m\u001b[43m)\u001b[49m\n\u001b[1;32m   1502\u001b[0m \u001b[38;5;66;03m# Do not call functions when jit is used\u001b[39;00m\n\u001b[1;32m   1503\u001b[0m full_backward_hooks, non_full_backward_hooks \u001b[38;5;241m=\u001b[39m [], []\n",
      "Cell \u001b[0;32mIn[12], line 22\u001b[0m, in \u001b[0;36mReductionLayer.forward\u001b[0;34m(self, X)\u001b[0m\n\u001b[1;32m     20\u001b[0m     row \u001b[38;5;241m=\u001b[39m row\u001b[38;5;241m.\u001b[39mreshape(\u001b[38;5;241m1\u001b[39m,\u001b[38;5;241m-\u001b[39m\u001b[38;5;241m1\u001b[39m)\n\u001b[1;32m     21\u001b[0m     part_x \u001b[38;5;241m=\u001b[39m torch\u001b[38;5;241m.\u001b[39mmatmul(row\u001b[38;5;241m.\u001b[39mT,row)\n\u001b[0;32m---> 22\u001b[0m     rows\u001b[38;5;241m.\u001b[39mappend(\u001b[38;5;28;43mself\u001b[39;49m\u001b[38;5;241;43m.\u001b[39;49m\u001b[43mstat_row\u001b[49m\u001b[43m(\u001b[49m\u001b[43mpart_x\u001b[49m\u001b[43m)\u001b[49m)\n\u001b[1;32m     23\u001b[0m \u001b[38;5;28;01mreturn\u001b[39;00m torch\u001b[38;5;241m.\u001b[39mcat(rows,dim\u001b[38;5;241m=\u001b[39m\u001b[38;5;241m0\u001b[39m)\n",
      "Cell \u001b[0;32mIn[12], line 14\u001b[0m, in \u001b[0;36mReductionLayer.stat_row\u001b[0;34m(self, X)\u001b[0m\n\u001b[1;32m     12\u001b[0m     y\u001b[38;5;241m.\u001b[39mappend((part_w\u001b[38;5;241m*\u001b[39mX)\u001b[38;5;241m.\u001b[39msum())\n\u001b[1;32m     13\u001b[0m \u001b[38;5;28mprint\u001b[39m(y)\n\u001b[0;32m---> 14\u001b[0m \u001b[38;5;28;01mreturn\u001b[39;00m torch\u001b[38;5;241m.\u001b[39mcat(\u001b[43my\u001b[49m\u001b[38;5;241;43m.\u001b[39;49m\u001b[43mreshape\u001b[49m(\u001b[38;5;241m-\u001b[39m\u001b[38;5;241m1\u001b[39m,\u001b[38;5;241m1\u001b[39m),dim\u001b[38;5;241m=\u001b[39m\u001b[38;5;241m-\u001b[39m\u001b[38;5;241m1\u001b[39m)\n",
      "\u001b[0;31mAttributeError\u001b[0m: 'list' object has no attribute 'reshape'"
     ]
    }
   ],
   "source": [
    "layer = ReductionLayer(5,2)\n",
    "x = torch.randn(1,5)\n",
    "layer(x)"
   ]
  },
  {
   "cell_type": "markdown",
   "id": "c7b635d4-342b-42b5-8362-601f0a948402",
   "metadata": {},
   "source": []
  },
  {
   "cell_type": "markdown",
   "id": "5e7afd68-dc81-48e2-b2d7-1ca7086311bc",
   "metadata": {},
   "source": [
    "# 2. Design a layer that returns the leading half of the Fourier coefficients of the data."
   ]
  },
  {
   "cell_type": "markdown",
   "id": "73f72725-2b6b-44de-85fc-244faeb20945",
   "metadata": {},
   "source": []
  },
  {
   "cell_type": "markdown",
   "id": "2b6e72b4-0c93-4c02-b2fb-b23c8f8d7f61",
   "metadata": {},
   "source": []
  },
  {
   "cell_type": "markdown",
   "id": "19da8254-247f-4af2-9427-b7a3e680829b",
   "metadata": {},
   "source": []
  }
 ],
 "metadata": {
  "kernelspec": {
   "display_name": "Python [conda env:d2l]",
   "language": "python",
   "name": "conda-env-d2l-py"
  },
  "language_info": {
   "codemirror_mode": {
    "name": "ipython",
    "version": 3
   },
   "file_extension": ".py",
   "mimetype": "text/x-python",
   "name": "python",
   "nbconvert_exporter": "python",
   "pygments_lexer": "ipython3",
   "version": "3.11.4"
  }
 },
 "nbformat": 4,
 "nbformat_minor": 5
}
