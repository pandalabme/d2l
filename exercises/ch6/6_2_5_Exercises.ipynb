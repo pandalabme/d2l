{
 "cells": [
  {
   "cell_type": "markdown",
   "id": "88852514-d89d-4fed-9a47-e4083ad7b575",
   "metadata": {},
   "source": [
    "# 1. Use the NestMLP model defined in Section 6.1 and access the parameters of the various layers."
   ]
  },
  {
   "cell_type": "code",
   "execution_count": 2,
   "id": "71dc7c41-d805-4f90-8d5b-40414fd7b150",
   "metadata": {
    "tags": []
   },
   "outputs": [
    {
     "ename": "NameError",
     "evalue": "name 'net' is not defined",
     "output_type": "error",
     "traceback": [
      "\u001b[0;31m---------------------------------------------------------------------------\u001b[0m",
      "\u001b[0;31mNameError\u001b[0m                                 Traceback (most recent call last)",
      "Cell \u001b[0;32mIn[2], line 13\u001b[0m\n\u001b[1;32m     10\u001b[0m         \u001b[38;5;28;01mreturn\u001b[39;00m \u001b[38;5;28mself\u001b[39m\u001b[38;5;241m.\u001b[39mlinear(\u001b[38;5;28mself\u001b[39m\u001b[38;5;241m.\u001b[39mnet(X))\n\u001b[1;32m     12\u001b[0m model \u001b[38;5;241m=\u001b[39m NestMLP()\n\u001b[0;32m---> 13\u001b[0m [(name, param\u001b[38;5;241m.\u001b[39mshape) \u001b[38;5;28;01mfor\u001b[39;00m name, param \u001b[38;5;129;01min\u001b[39;00m \u001b[43mnet\u001b[49m\u001b[38;5;241m.\u001b[39mnamed_parameters()]\n",
      "\u001b[0;31mNameError\u001b[0m: name 'net' is not defined"
     ]
    }
   ],
   "source": [
    "import torch.nn as nn\n",
    "class NestMLP(nn.Module):\n",
    "    def __init__(self):\n",
    "        super().__init__()\n",
    "        self.net = nn.Sequential(nn.LazyLinear(64), nn.ReLU(),\n",
    "                                 nn.LazyLinear(32), nn.ReLU())\n",
    "        self.linear = nn.LazyLinear(16)\n",
    "\n",
    "    def forward(self, X):\n",
    "        return self.linear(self.net(X))\n",
    "\n",
    "model = NestMLP()\n",
    "[(name, param.shape) for name, param in net.named_parameters()]"
   ]
  },
  {
   "cell_type": "markdown",
   "id": "c41cbb41-a108-4871-b0ff-cb7b6d86e8a0",
   "metadata": {},
   "source": []
  },
  {
   "cell_type": "markdown",
   "id": "ed12e022-9afc-4f75-a818-d296d9d4a867",
   "metadata": {},
   "source": [
    "# 2. Construct an MLP containing a shared parameter layer and train it. During the training process, observe the model parameters and gradients of each layer.\n",
    "\n"
   ]
  },
  {
   "cell_type": "markdown",
   "id": "b26d2c31-a8e5-4dac-88f8-e659c5d64733",
   "metadata": {},
   "source": []
  },
  {
   "cell_type": "markdown",
   "id": "90a58609-6140-4649-a042-f7a38552d30e",
   "metadata": {},
   "source": [
    "# 3. Why is sharing parameters a good idea?"
   ]
  },
  {
   "cell_type": "markdown",
   "id": "513d2d7a-85d4-4fc2-a0f0-7a0f3e9b3f53",
   "metadata": {},
   "source": []
  }
 ],
 "metadata": {
  "kernelspec": {
   "display_name": "Python [conda env:d2l]",
   "language": "python",
   "name": "conda-env-d2l-py"
  },
  "language_info": {
   "codemirror_mode": {
    "name": "ipython",
    "version": 3
   },
   "file_extension": ".py",
   "mimetype": "text/x-python",
   "name": "python",
   "nbconvert_exporter": "python",
   "pygments_lexer": "ipython3",
   "version": "3.11.4"
  }
 },
 "nbformat": 4,
 "nbformat_minor": 5
}
