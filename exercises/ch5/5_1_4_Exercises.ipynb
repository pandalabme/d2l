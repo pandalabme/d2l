{
 "cells": [
  {
   "cell_type": "code",
   "execution_count": 10,
   "id": "1fe38e19-e986-418d-b538-909eb2e5d2f3",
   "metadata": {
    "tags": []
   },
   "outputs": [
    {
     "name": "stdout",
     "output_type": "stream",
     "text": [
      "[NbConvertApp] WARNING | Config option `kernel_spec_manager_class` not recognized by `NbConvertApp`.\n",
      "[NbConvertApp] Converting notebook 5_1_4_Exercises.ipynb to markdown\n",
      "[NbConvertApp] Support files will be in 5_1_4_Exercises_files/\n",
      "[NbConvertApp] Making directory 5_1_4_Exercises_files\n",
      "[NbConvertApp] Writing 14178 bytes to 5_1_4_Exercises.md\n"
     ]
    }
   ],
   "source": [
    "!jupyter nbconvert --to markdown 5_1_4_Exercises.ipynb"
   ]
  },
  {
   "cell_type": "markdown",
   "id": "313c16d7-cd64-4c71-b7b5-082ee9214e34",
   "metadata": {},
   "source": [
    "# 1. Show that adding layers to a linear deep network, i.e., a network without nonlinearity $\\delta$ can never increase the expressive power of the network. Give an example where it actively reduces it."
   ]
  },
  {
   "cell_type": "markdown",
   "id": "63ea2a49-1bd9-4e63-a73c-b62c69895e67",
   "metadata": {},
   "source": [
    "## 1.1 never increase"
   ]
  },
  {
   "cell_type": "markdown",
   "id": "0043dcb3-4ca5-4753-8e16-6195b09fd506",
   "metadata": {},
   "source": [
    "Let's consider a linear deep network without nonlinearity:\n",
    "\n",
    "$$f(x) = W_L \\cdot (W_{L-1} \\cdot (\\ldots (W_2 \\cdot (W_1 \\cdot x)) \\ldots)) $$\n",
    "\n",
    "Here, each $W_i$ represents the weight matrix for the $i$-th layer, and $x$ is the input. The composition of linear transformations is still a linear transformation. This is because if you apply a linear transformation (matrix multiplication) to a linear combination of variables, the result is still a linear combination of variables.\n",
    "\n",
    "Mathematically, for any input vectors $a$ and $b$ and scalars $\\alpha$ and $\\beta$, a linear transformation satisfies:\n",
    "\n",
    "$$T(\\alpha a + \\beta b) = \\alpha T(a) + \\beta T(b) $$\n",
    "\n",
    "If we apply this to our linear deep network, where each layer is a linear transformation $W_i \\cdot$, we get:\n",
    "\n",
    "$$f(\\alpha x + \\beta y) = W_L \\cdot (W_{L-1} \\cdot (\\ldots (W_2 \\cdot (\\alpha W_1 \\cdot x + \\beta W_1 \\cdot y)) \\ldots)) \n",
    " = \\alpha \\cdot (W_L \\cdot (W_{L-1} \\cdot (\\ldots (W_2 \\cdot (W_1 \\cdot x)) \\ldots))) + \\beta \\cdot (W_L \\cdot (W_{L-1} \\cdot (\\ldots (W_2 \\cdot (W_1 \\cdot y)) \\ldots))) \n",
    " = \\alpha f(x) + \\beta f(y) $$\n",
    " As you can see, the network's response to a linear combination of inputs is still a linear combination of the network's responses to individual inputs. This property doesn't change as you add more layers to the network."
   ]
  },
  {
   "cell_type": "markdown",
   "id": "72042cf8-5de8-451d-a52d-bc25ce8003ca",
   "metadata": {},
   "source": [
    "## 1.2 Actively reduce"
   ]
  },
  {
   "cell_type": "markdown",
   "id": "e523a730-da02-4012-922d-6dd29330a55d",
   "metadata": {},
   "source": [
    "To provide an example where adding layers without nonlinearity actively reduces expressive power, let's consider a simple case with just two layers. We have an input $x$ and two weight matrices $W_1$ and $W_2$, where $W_1$ is $n \\times m$ and $W_2$ is $m \\times p$ and $p \\lt m$. The output without nonlinearity would be:\n",
    "\n",
    "$$f(x) = W_2 \\cdot (W_1 \\cdot x) $$\n",
    "\n",
    "In this case, no matter how many layers you add, the entire network can be represented as a single linear transformation $W_2 \\cdot W_1$. This is equivalent to a linear transformation with a single weight matrix $W_2 \\cdot W_1$, effectively reducing the expressive power to that of a single linear layer."
   ]
  },
  {
   "cell_type": "markdown",
   "id": "da6e974c-6f25-41c7-8d50-8b28d2b929ea",
   "metadata": {},
   "source": [
    "# 2. Compute the derivative of the pReLU activation function."
   ]
  },
  {
   "cell_type": "markdown",
   "id": "c9432f01-f0a4-4969-9f22-8e6b5d399ca4",
   "metadata": {},
   "source": [
    "The Parametric Rectified Linear Unit (pReLU) activation function is defined as follows:\n",
    "\n",
    "$$f(x) = \\begin{cases} \n",
    "x & \\text{if } x > 0 \\\\\n",
    "\\alpha x & \\text{otherwise}\n",
    "\\end{cases} $$\n",
    "\n",
    "To compute the derivative of the pReLU function, we need to consider two cases: when $x > 0$ and when $x \\leq 0$.\n",
    "\n",
    "1. When $x > 0$:\n",
    "\n",
    "In this case, the function is simply the identity function, so its derivative is 1.\n",
    "\n",
    "$$\\frac{df(x)}{dx} = 1 $$\n",
    "\n",
    "2. When $x \\leq 0$:\n",
    "\n",
    "In this case, the function becomes $f(x) = \\alpha x$, so its derivative is $\\alpha$.\n",
    "\n",
    "$$ \\frac{df(x)}{dx} = \\alpha $$\n",
    "\n",
    "Therefore, the derivative of the pReLU activation function can be expressed as a piecewise function:\n",
    "\n",
    "$$ \\frac{df(x)}{dx} = \\begin{cases} \n",
    "1 & \\text{if } x > 0 \\\\\n",
    "\\alpha & \\text{otherwise}\n",
    "\\end{cases} $$"
   ]
  },
  {
   "cell_type": "markdown",
   "id": "2d161e09-0b91-493f-a9c8-b5cbcf893c28",
   "metadata": {},
   "source": [
    "# 3. Compute the derivative of the Swish activation function $xsigmoid(\\beta{x})$."
   ]
  },
  {
   "cell_type": "markdown",
   "id": "45e8d735-3fc2-41b8-bb6d-d16eee9842ce",
   "metadata": {},
   "source": [
    "The Swish activation function is defined as:\n",
    "\n",
    "￥￥ f(x) = x \\cdot \\text{sigmoid}(\\beta x) $$\n",
    "\n",
    "Where $\\beta$ is a scalar parameter.\n",
    "\n",
    "To compute the derivative of the Swish activation function, we'll use the product rule of differentiation, which states that if $u(x)$ and $v(x)$ are two differentiable functions of $x$, then the derivative of their product $u(x) \\cdot v(x)$ with respect to $x$ is given by:\n",
    "\n",
    "$$ \\frac{d}{dx}(u(x) \\cdot v(x)) = u'(x) \\cdot v(x) + u(x) \\cdot v'(x) $$\n",
    "\n",
    "Let $u(x) = x$ and $v(x) = \\text{sigmoid}(\\beta x)$, then their derivatives are:\n",
    "\n",
    "$$ u'(x) = 1 $$\n",
    "$$ v'(x) = \\beta \\cdot \\text{sigmoid}(\\beta x) \\cdot (1 - \\text{sigmoid}(\\beta x)) $$\n",
    "\n",
    "Now, applying the product rule:\n",
    "\n",
    "$$ \\frac{d}{dx}(f(x)) = u'(x) \\cdot v(x) + u(x) \\cdot v'(x) \n",
    " = 1 \\cdot (\\text{sigmoid}(\\beta x)) + x \\cdot \\left(\\beta \\cdot \\text{sigmoid}(\\beta x) \\cdot (1 - \\text{sigmoid}(\\beta x))\\right) \n",
    "= \\text{sigmoid}(\\beta x) + x \\cdot \\beta \\cdot \\text{sigmoid}(\\beta x) \\cdot (1 - \\text{sigmoid}(\\beta x)) $$\n",
    "\n",
    "Therefore, the derivative of the Swish activation function $f(x)$ with respect to $x$ is:\n",
    "\n",
    "$$f'(x) = \\text{sigmoid}(\\beta x) + x \\cdot \\beta \\cdot \\text{sigmoid}(\\beta x) \\cdot (1 - \\text{sigmoid}(\\beta x))$$"
   ]
  },
  {
   "cell_type": "markdown",
   "id": "5b96a555-81c1-4336-a170-de52d3a9dec5",
   "metadata": {},
   "source": [
    "# 4. Show that an MLP using only ReLU (or pReLU) constructs a continuous piecewise linear function."
   ]
  },
  {
   "cell_type": "markdown",
   "id": "2c4ff213-a1a1-45a1-86c3-bc53b9fc7f5a",
   "metadata": {},
   "source": [
    "An MLP (Multi-Layer Perceptron) using only the ReLU (Rectified Linear Unit) or pReLU (Parametric Rectified Linear Unit) activation functions constructs a continuous piecewise linear function. Let's consider the ReLU activation function for this explanation.\n",
    "\n",
    "The ReLU activation function is defined as:\n",
    "\n",
    "$$ \\text{ReLU}(x) = \\max(0, x) $$\n",
    "\n",
    "In an MLP, each neuron's output is calculated by applying an affine transformation (weight multiplication and bias addition) followed by the ReLU activation. The key property of the ReLU activation is that it is a piecewise linear function.\n",
    "\n",
    "When you consider a single neuron with ReLU activation, it essentially performs two operations:\n",
    "\n",
    "1. For inputs $x$ where $x > 0$, the output is $x$.\n",
    "2. For inputs $x$ where $x \\leq 0$, the output is 0.\n",
    "\n",
    "The first operation ($x > 0$) is a linear transformation with a slope of 1 (output is $y = x$), and the second operation ($x \\leq 0$) is a constant zero (output is $y = 0$).\n",
    "\n",
    "By composing multiple such neurons together in an MLP architecture, you are effectively creating a composition of linear transformations and constant zeros. Since each ReLU neuron's operation is piecewise linear, the combination of these operations will also be a piecewise linear function.\n",
    "\n",
    "The breakpoints or \"kinks\" in the piecewise linear function occur where the activations of the neurons change from 0 to the actual linear operation (when input \\(x\\) crosses 0). As you move from one layer to another in the network, you are effectively combining multiple piecewise linear functions, resulting in a more complex piecewise linear function overall.\n",
    "\n",
    "The pReLU activation function behaves similarly, but it introduces a learnable parameter for the negative slope, allowing a continuous range of slopes for the linear portion when $x$ is negative.\n",
    "\n",
    "In summary, an MLP using only ReLU (or pReLU) activation functions constructs a continuous piecewise linear function because the operations performed by these activation functions are individually piecewise linear, and the composition of these operations across layers results in a piecewise linear function that approximates complex mappings between inputs and outputs."
   ]
  },
  {
   "cell_type": "code",
   "execution_count": 8,
   "id": "69f1c5fe-c4fa-4847-9044-e54f6a0f4d7d",
   "metadata": {
    "tags": []
   },
   "outputs": [
    {
     "data": {
      "image/png": "[encoded data removed]",
      "text/plain": [
       "<Figure size 350x250 with 1 Axes>"
      ]
     },
     "metadata": {},
     "output_type": "display_data"
    }
   ],
   "source": [
    "import torch\n",
    "import torch.nn as nn\n",
    "import numpy as np\n",
    "import matplotlib.pyplot as plt\n",
    "import warnings\n",
    "warnings.filterwarnings('ignore')\n",
    "\n",
    "# Define the model using nn.Sequential\n",
    "model = nn.Sequential(\n",
    "    nn.Linear(1, 3),  # Linear layer with 1 input feature and 3 output features\n",
    "    nn.ReLU(),        # ReLU activation function\n",
    "    nn.Linear(3, 1)   # Linear layer with 3 input features and 1 output feature\n",
    ")\n",
    "\n",
    "# Input data\n",
    "x_input = np.linspace(-5, 5, 100).reshape(-1, 1)  # Generate 100 input values\n",
    "\n",
    "# Convert numpy array to PyTorch tensor\n",
    "x_tensor = torch.Tensor(x_input)\n",
    "\n",
    "# Get the model's predictions\n",
    "with torch.no_grad():\n",
    "    y_pred = model(x_tensor).numpy()\n",
    "\n",
    "# Plot the input and output\n",
    "plt.figure(figsize=(3.5, 2.5))\n",
    "plt.plot(x_input, y_pred, label='Model Output')\n",
    "plt.xlabel('Input')\n",
    "plt.ylabel('Output')\n",
    "plt.title('Input vs. Output')\n",
    "plt.legend()\n",
    "plt.grid()\n",
    "plt.show()"
   ]
  },
  {
   "cell_type": "markdown",
   "id": "b1341207-7734-4042-a308-6a09071b54b0",
   "metadata": {},
   "source": [
    "# 5. Sigmoid and tanh are very similar.\n",
    "- Show that $tanh(x)+1 = 2sigmoid(2x)$.\n",
    "- Prove that the function classes parametrized by both nonlinearities are identical. Hint: affine layers have bias terms, too."
   ]
  },
  {
   "cell_type": "markdown",
   "id": "c39493a1-112a-4309-89b5-54a08d1d3c64",
   "metadata": {},
   "source": [
    "## 5.1 Show that $tanh(x) + 1 = 2 \\cdot sigmoid(2x)$"
   ]
  },
  {
   "cell_type": "markdown",
   "id": "9e3f5b01-b12c-48f5-b0c7-ebfc8685a368",
   "metadata": {},
   "source": [
    "$$tanh(x) + 1 = \\frac{e^x - e^{-x}}{e^x + e^{-x}} + 1\n",
    " = \\frac{e^x - e^{-x} + e^x + e^{-x}}{e^x + e^{-x}}\n",
    " = \\frac{2e^x}{e^x + e^{-x}}$$\n",
    "\n",
    "Multiplying both numerator and denominator by $e^x$:\n",
    "$$tanh(x) + 1 = \\frac{2}{1 + e^{-2x}}$$\n",
    "Using the definition of the sigmoid function:\n",
    "$$tanh(x) + 1 = 2 \\cdot sigmoid(2x)$$\n",
    "This concludes the proof."
   ]
  },
  {
   "cell_type": "markdown",
   "id": "5192faef-cad5-41e0-bf5b-7a4bcdea1f35",
   "metadata": {},
   "source": [
    "## 5.2 Prove that the function classes parametrized by both nonlinearities are identical"
   ]
  },
  {
   "cell_type": "markdown",
   "id": "21f9f633-fe34-4d35-bc77-4274b5e282ae",
   "metadata": {},
   "source": [
    "$ \\tanh(x) = 2sigmoid(2x) - 1 $ illustrates that the hyperbolic tangent function $\\tanh$ can be expressed in terms of the sigmoid function $sigmoid$  with a linear transformation."
   ]
  },
  {
   "cell_type": "markdown",
   "id": "f4fe8250-3023-45c8-87bb-befb77a7dbb6",
   "metadata": {},
   "source": [
    "# 6. Assume that we have a nonlinearity that applies to one minibatch at a time, such as the batch normalization (Ioffe and Szegedy, 2015). What kinds of problems do you expect this to cause?"
   ]
  },
  {
   "cell_type": "markdown",
   "id": "703a3886-470c-4dac-a934-9ac886cdf0ca",
   "metadata": {},
   "source": [
    "When a nonlinearity, such as batch normalization, is applied to one minibatch at a time instead of individually to each input sample, it can introduce several issues and challenges. Batch normalization is specifically designed to operate on a per-feature basis within a minibatch, and applying it differently can lead to problems in training and generalization. Here are some problems that can arise:\n",
    "\n",
    "1. **Loss of Statistical Robustness:** Batch normalization relies on the statistical properties of each feature within a minibatch to normalize the activations. If you apply it to a single minibatch, the computed mean and variance can be highly sensitive to the specific distribution of that minibatch, leading to instability in the training process.\n",
    "\n",
    "2. **Bias and Variance:** Treating each minibatch as a separate distribution can lead to increased bias and variance in the network's learned parameters. This can affect generalization performance and lead to overfitting.\n",
    "\n",
    "3. **Reduced Generalization:** Applying batch normalization per minibatch can result in a network that generalizes poorly to unseen data. The network may become overly specialized to the specific statistics of each minibatch, making it less robust to variations in input distribution.\n",
    "\n",
    "4. **Training Instability:** Training with inconsistent normalization across minibatches can lead to training instability, slower convergence, and difficulty in finding a good solution.\n",
    "\n",
    "5. **Validation and Test Mismatch:** If the normalization strategy is not consistent between training and validation/testing, the model's performance during these stages can differ significantly, leading to poor validation performance and over-optimistic test results.\n",
    "\n",
    "6. **Inaccurate Gradients:** The gradients computed during backpropagation might not accurately represent the true gradient of the loss due to the varying normalization statistics across different minibatches. This can hinder the training process and result in slower convergence or convergence to suboptimal solutions.\n",
    "\n",
    "7. **Non-reproducibility:** The randomness introduced by different minibatches' normalization can make the training process non-reproducible, as the same training data could lead to different model outcomes depending on the order of minibatches.\n",
    "\n",
    "8. **Model Sensitivity:** The model's behavior could be sensitive to the order of the data samples within a minibatch, which is not ideal for neural networks aiming to capture invariant features.\n",
    "\n",
    "In summary, applying nonlinearity like batch normalization to a single minibatch at a time can lead to issues related to statistical robustness, generalization, training stability, and reproducibility. To mitigate these problems, it's best to follow the established practice of applying such normalization techniques within a minibatch, ensuring consistent and effective normalization across all training samples."
   ]
  },
  {
   "cell_type": "markdown",
   "id": "d0fb6309-20bb-44fa-8711-0519ff694280",
   "metadata": {},
   "source": [
    "# 7. Provide an example where the gradients vanish for the sigmoid activation function."
   ]
  },
  {
   "cell_type": "markdown",
   "id": "a5d9f45a-8bd2-4232-81d2-eb20da4f0e25",
   "metadata": {
    "tags": []
   },
   "source": [
    "The vanishing gradient problem can occur with sigmoid activation functions when the gradients become extremely small as the input moves toward the tails of the sigmoid curve (far from the origin). This phenomenon is particularly prominent when stacking multiple layers with sigmoid activations in deep neural networks. Let's consider a simple example to illustrate the vanishing gradient problem with the sigmoid activation function.\n",
    "\n",
    "Suppose we have a deep neural network with multiple hidden layers, all using the sigmoid activation function:\n",
    "\n",
    "$$ a^{(i)} = \\sigma(z^{(i)}) = \\frac{1}{1 + e^{-z^{(i)}}} $$\n",
    "\n",
    "Let's assume that the input to the first hidden layer is $z^{(1)} = 10$. Now, let's calculate the derivative of the loss with respect to the input of the first hidden layer, $dz^{(1)}$, assuming that the loss function is a simple squared error loss.\n",
    "\n",
    "$$ L = \\frac{1}{2}(a^{(n)} - y)^2 $$\n",
    "\n",
    "Where $n$ is the index of the last layer and $y$ is the target output.\n",
    "\n",
    "The derivative of the loss with respect to $z^{(1)}$ can be calculated using the chain rule:\n",
    "\n",
    "$$ \\frac{dL}{dz^{(1)}} = \\frac{dL}{da^{(n)}} \\cdot \\frac{da^{(n)}}{dz^{(n)}} \\cdot \\frac{dz^{(n)}}{da^{(n-1)}} \\cdot \\ldots \\cdot \\frac{da^{(2)}}{dz^{(2)}} \\cdot \\frac{dz^{(2)}}{da^{(1)}} \\cdot \\frac{da^{(1)}}{dz^{(1)}} $$\n",
    "\n",
    "Since all the hidden layers use sigmoid activation, we can substitute the derivative of the sigmoid function:\n",
    "\n",
    "$$ \\frac{d\\sigma(z)}{dz} = \\sigma(z) \\cdot (1 - \\sigma(z)) $$\n",
    "\n",
    "Now, consider the derivative of the sigmoid function when its input is large ($z^{(1)} = 10$ in this case):\n",
    "\n",
    "$$ \\frac{d\\sigma(10)}{dz} = \\sigma(10) \\cdot (1 - \\sigma(10)) \\approx \\frac{1}{1 + e^{-10}} \\cdot \\left(1 - \\frac{1}{1 + e^{-10}}\\right) \\approx \\frac{1}{1 + e^{10}} \\cdot \\frac{e^{10}}{1 + e^{10}} \\approx \\frac{1}{1 + e^{10}} \\cdot 1 \\approx 0 $$\n",
    "\n",
    "As you can see, the gradient of the sigmoid function becomes very close to zero for large positive inputs. When you multiply these small gradients across multiple layers during backpropagation, you end up with vanishing gradients. This can cause the weights in the lower layers of the network to be updated very slowly, leading to slow convergence or getting stuck in training.\n",
    "\n",
    "This example illustrates the vanishing gradient problem associated with the sigmoid activation function, which can negatively impact the training of deep neural networks. This problem led to the development of other activation functions like ReLU, which do not suffer as severely from the vanishing gradient issue."
   ]
  }
 ],
 "metadata": {
  "kernelspec": {
   "display_name": "Python [conda env:d2l]",
   "language": "python",
   "name": "conda-env-d2l-py"
  },
  "language_info": {
   "codemirror_mode": {
    "name": "ipython",
    "version": 3
   },
   "file_extension": ".py",
   "mimetype": "text/x-python",
   "name": "python",
   "nbconvert_exporter": "python",
   "pygments_lexer": "ipython3",
   "version": "3.11.4"
  }
 },
 "nbformat": 4,
 "nbformat_minor": 5
}
